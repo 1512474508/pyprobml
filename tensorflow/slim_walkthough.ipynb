{
 "cells": [
  {
   "cell_type": "markdown",
   "metadata": {},
   "source": [
    "# TF-Slim 2.0 Walkthrough\n",
    "\n",
    "This notebook will walk you through the basics of using TF-Slim to define, train and evaluate neural networks on various tasks. It assumes a basic knowledge of neural networks. "
   ]
  },
  {
   "cell_type": "markdown",
   "metadata": {},
   "source": [
    "## Table of contents\n",
    "\n",
    "<a href=\"#Install\">Installation and setup</a><br>\n",
    "<a href='#MLP'>Creating your first neural network with slim</a><br>\n",
    "<a href='#SlimData'>Slim datasets</a><br>\n",
    "<a href='#CNN'>Training a convolutional neural network (CNN)</a><br>\n",
    "<a href='#Pretained'>Using pre-trained models</a><br>\n"
   ]
  },
  {
   "cell_type": "markdown",
   "metadata": {},
   "source": [
    "## Installation and setup\n",
    "<a id='Install'></a>\n",
    "\n"
   ]
  },
  {
   "cell_type": "code",
   "execution_count": 26,
   "metadata": {
    "collapsed": false
   },
   "outputs": [],
   "source": [
    "import tensorflow as tf\n",
    "import tensorflow.contrib.slim as slim\n",
    "import tensorflow.contrib.slim.nets\n",
    "import matplotlib\n",
    "%matplotlib inline\n",
    "import matplotlib.pyplot as plt\n",
    "import numpy as np"
   ]
  },
  {
   "cell_type": "markdown",
   "metadata": {},
   "source": [
    "### Check if your version of TF has latest version of slim.\n",
    "\n",
    "There are two ways to test if you have the latest version of slim."
   ]
  },
  {
   "cell_type": "markdown",
   "metadata": {},
   "source": [
    "### Method 1\n",
    "\n",
    "Execute this command at the command line.\n",
    "If it runs without errors, you are good to go.\n",
    "\n",
    "python -c \"import tensorflow.contrib.slim as slim; import tensorflow.contrib.slim.nets; mynet = slim.nets.resnet_v1\""
   ]
  },
  {
   "cell_type": "markdown",
   "metadata": {},
   "source": [
    "### Method 2\n",
    "\n",
    "If you don't want to leave your notebook, execute the cell below"
   ]
  },
  {
   "cell_type": "code",
   "execution_count": 30,
   "metadata": {
    "collapsed": false
   },
   "outputs": [
    {
     "name": "stdout",
     "output_type": "stream",
     "text": [
      "Pass: You have an up to date snapshot of TF version 0.10\n"
     ]
    }
   ],
   "source": [
    "ver = tf.__version__\n",
    "# e.g., ver = \"0.9.0\" or \"0.10.0rc0\" \n",
    "ver_parts = ver.split(\".\")\n",
    "ver_main = int(ver_parts[0])\n",
    "ver_sub = int(ver_parts[1])\n",
    "# r0.10 was released on 8/22/16. However, this does not contain the latest version of slim.\n",
    "# For that, we need to check if you have the latest snapshot. One simple test is to see if the\n",
    "# resnet has been imported...\n",
    "try:\n",
    "    mynet = slim.nets.resnet_v1\n",
    "    print 'Pass: You have an up to date snapshot of TF version {}.{}'.format(ver_main, ver_sub)\n",
    "except ImportError, e:\n",
    "    print 'Fail: You have TF version {}.{}, you need latest snapshot'.format(ver_main, ver_sub)"
   ]
  },
  {
   "cell_type": "markdown",
   "metadata": {},
   "source": [
    "### What to do if your version of TF does not contain the latest version of slim\n",
    "\n",
    "To get the latest snapshot, go to https://github.com/tensorflow/tensorflow, navigate to section\n",
    "that says \"People who are a little more adventurous can also try our nightly binaries\",\n",
    "and copy the relevant URL, depending on what kind of computer you have.\n",
    "Next, pip install that file. Finally, restart this notebook.\n",
    "\n",
    "Example:\n",
    " \n",
    "export TF_BINARY_URL=https://ci.tensorflow.org/view/Nightly/job/nightly-matrix-cpu/TF_BUILD_CONTAINER_TYPE=CPU,TF_BUILD_IS_OPT=OPT,TF_BUILD_IS_PIP=PIP,TF_BUILD_PYTHON_VERSION=PYTHON2,label=cpu-slave/lastSuccessfulBuild/artifact/pip_test/whl/tensorflow-0.10.0rc0-cp27-none-linux_x86_64.whl\n",
    "\n",
    "sudo pip install --upgrade $TF_BINARY_URL\n",
    "\n",
    "ipython notebook"
   ]
  },
  {
   "cell_type": "markdown",
   "metadata": {},
   "source": [
    "## Creating your first neural network with slim\n",
    "<a id='MLP'></a>\n",
    "\n",
    "Below we give some code to create a simple multilayer perceptron (MLP)  which can be used\n",
    "for regression problems. The model has 2 hidden layers.\n",
    "The output is a single node. \n",
    "When this function is called, it will create various nodes, and silently add them to whichever global TF graph is currently in scope. When a node which corresponds to a layer with adjustable parameters (eg., a fully connected layer) is created, additional parameter variable nodes are silently created, and added to the graph. (We will discuss how to train the parameters later.)\n",
    "\n",
    "We use variable scope to put all the nodes under a common name,\n",
    "so that the graph has some hierarchical structure.\n",
    "This is useful when we want to visualize the TF graph in tensorboard, or if we want to query related\n",
    "variables. \n",
    "The fully connected layers all use the same L2 weight decay and ReLu activations, as specified by **arg_scope**. (However, the final layer overrides these defaults, and uses an identity activation function.)\n",
    "\n",
    "We also illustrate how to add a dropout layer after the first fully connected layer (FC1). Note that at test time, \n",
    "we do not drop out nodes, but instead use the average activations; hence we need to know whether the model is being\n",
    "constructed for training or testing, since the computational graph will be different in the two cases\n",
    "(although the variables, storing the model parameters, will be shared, since they have the same name/scope)."
   ]
  },
  {
   "cell_type": "code",
   "execution_count": 11,
   "metadata": {
    "collapsed": true
   },
   "outputs": [],
   "source": [
    "def regression_model(inputs, is_training=True, scope=\"deep_regression\"):\n",
    "  \"\"\"Creates the regression model.\n",
    "  \n",
    "  Args:\n",
    "    input_node: A node that yields a `Tensor` of size [batch_size, dimensions].\n",
    "    is_training: Whether or not we're currently training the model.\n",
    "    scope: An optional variable_op scope for the model.\n",
    "  \n",
    "  Returns:\n",
    "    output_node: 1-D `Tensor` of shape [batch_size] of responses.\n",
    "    nodes: A dict of nodes representing the hidden layers.\n",
    "  \"\"\"\n",
    "  with tf.variable_op_scope([input_node], scope):\n",
    "    nodes = {}\n",
    "    # Set the default weight _regularizer and acvitation for each fully_connected layer.\n",
    "    with slim.arg_scope([slim.fully_connected],\n",
    "                        activation_fn=tf.nn.relu,\n",
    "                        weights_regularizer=slim.l2_regularizer(0.01)):\n",
    "      \n",
    "      # Creates a fully connected layer from the inputs with 10 hidden units.\n",
    "      fc1_node = slim.fully_connected(inputs, 10, scope='fc1')\n",
    "      nodes['fc1'] = fc1_node\n",
    "        \n",
    "      # Adds a dropout layer to prevent over-fitting.\n",
    "      dropout_node = slim.dropout(fc1_node, 0.8, is_training=is_training)\n",
    "      \n",
    "      # Adds another fully connected layer with 5 hidden units.\n",
    "      fc2_node = slim.fully_connected(dropout_node, 5, scope='fc2')\n",
    "      nodes['fc2'] = fc2_node\n",
    "      \n",
    "      # Creates a fully-connected layer with a single hidden unit. Note that the\n",
    "      # layer is made linear by setting activation_fn=None.\n",
    "      prediction_node = slim.fully_connected(fc2_node, 1, activation_fn=None, scope='prediction')\n",
    "      nodes['out'] = prediction_node\n",
    "\n",
    "      return prediction_node, nodes"
   ]
  },
  {
   "cell_type": "markdown",
   "metadata": {},
   "source": [
    "### Let's create the model and examine its structure.\n",
    "\n",
    "We create a TF graph and call regression_model(), which adds nodes (tensors) to the graph. We then examine their shape, and print the names of all the model variables which have been implicitly created inside of each layer. We see that the names of the variables follow the scopes that we specified."
   ]
  },
  {
   "cell_type": "code",
   "execution_count": 12,
   "metadata": {
    "collapsed": false
   },
   "outputs": [
    {
     "name": "stderr",
     "output_type": "stream",
     "text": [
      "WARNING:tensorflow:tf.variable_op_scope(values, name, default_name) is deprecated, use tf.variable_scope(name, default_name, values)\n"
     ]
    },
    {
     "name": "stdout",
     "output_type": "stream",
     "text": [
      "Layers\n",
      "name = deep_regression/fc1/Relu:0, shape = (?, 10)\n",
      "name = deep_regression/fc2/Relu:0, shape = (?, 5)\n",
      "name = deep_regression/prediction/BiasAdd:0, shape = (?, 1)\n",
      "Parameters\n",
      "name = deep_regression/fc1/weights:0, shape = (1, 10)\n",
      "name = deep_regression/fc1/biases:0, shape = (10,)\n",
      "name = deep_regression/fc2/weights:0, shape = (10, 5)\n",
      "name = deep_regression/fc2/biases:0, shape = (5,)\n",
      "name = deep_regression/prediction/weights:0, shape = (5, 1)\n",
      "name = deep_regression/prediction/biases:0, shape = (1,)\n"
     ]
    }
   ],
   "source": [
    "tf.reset_default_graph()\n",
    "graph = tf.Graph()\n",
    "with graph.as_default():\n",
    "  # Dummy placeholders for arbitrary number of 1d inputs and outputs\n",
    "  input_node = tf.placeholder(tf.float32, shape=(None, 1))\n",
    "  output_node = tf.placeholder(tf.float32, shape=(None, 1))\n",
    "  \n",
    "  # Build model\n",
    "  prediction_node, all_nodes = regression_model(input_node)\n",
    " \n",
    "  # Print name and shape of each tensor.\n",
    "  print \"Layers\"\n",
    "  for k, v in all_nodes.iteritems():\n",
    "    print 'name = {}, shape = {}'.format(v.name, v.get_shape())\n",
    "    \n",
    "  # Print name and shape of parameter nodes  (values not yet initialized)\n",
    "  print \"Parameters\"\n",
    "  for v in slim.get_model_variables():\n",
    "    print 'name = {}, shape = {}'.format(v.name, v.get_shape())\n",
    "       "
   ]
  },
  {
   "cell_type": "markdown",
   "metadata": {},
   "source": [
    "### Let's create some 1d regression data .\n",
    "\n",
    "We will train and test the model on some noisy observations of a nonlinear function.\n"
   ]
  },
  {
   "cell_type": "code",
   "execution_count": 13,
   "metadata": {
    "collapsed": false
   },
   "outputs": [
    {
     "data": {
      "text/plain": [
       "<matplotlib.collections.PathCollection at 0x7f5a98604a50>"
      ]
     },
     "execution_count": 13,
     "metadata": {},
     "output_type": "execute_result"
    },
    {
     "name": "stderr",
     "output_type": "stream",
     "text": [
      "/usr/lib/pymodules/python2.7/matplotlib/collections.py:548: FutureWarning: elementwise comparison failed; returning scalar instead, but in the future will perform elementwise comparison\n",
      "  if self._edgecolors == 'face':\n"
     ]
    },
    {
     "data": {
      "image/png": "[encoded data removed]",
      "text/plain": [
       "<matplotlib.figure.Figure at 0x7f5a6d29a390>"
      ]
     },
     "metadata": {},
     "output_type": "display_data"
    }
   ],
   "source": [
    "def produce_batch(batch_size, noise=0.3):\n",
    "  xs = np.random.random(size=[batch_size, 1]) * 10\n",
    "  ys = np.sin(xs) + 5 + np.random.normal(size=[batch_size, 1], scale=noise)\n",
    "  return [xs.astype(np.float32), ys.astype(np.float32)]\n",
    "\n",
    "x_train, y_train = produce_batch(100)\n",
    "x_test, y_test = produce_batch(100)\n",
    "plt.scatter(x_train, y_train)"
   ]
  },
  {
   "cell_type": "markdown",
   "metadata": {},
   "source": [
    "### Let's fit the model to the data\n",
    "\n",
    "The user has to specify the loss function and the optimizer, and slim does the rest.\n",
    "In particular,  the slim.learning.train function does the following:\n",
    "\n",
    "- For each iteration, evaluate the train_op, which updates the parameters using the optimizer applied to the current minibatch. Also, update the global_step.\n",
    "- Occasionally store the model checkpoint in the specified directory. This is useful in case your machine crashes  - then you can simply restart from the specified checkpoint.\n",
    "- Occasionally write summaries to ???. These can be examined in tensorboard."
   ]
  },
  {
   "cell_type": "code",
   "execution_count": 14,
   "metadata": {
    "collapsed": false
   },
   "outputs": [
    {
     "name": "stdout",
     "output_type": "stream",
     "text": [
      "Saving to /tmp/tf/regression_model/model1471957940.55\n"
     ]
    }
   ],
   "source": [
    "# Everytime we run training, we need to store the model checkpoint in a new directory,\n",
    "# in case anything has changed.\n",
    "import time\n",
    "ts = time.time()\n",
    "ckpt_dir = '/tmp/tf/regression_model/model{}'.format(ts) # Place to store the checkpoint.\n",
    "print('Saving to {}'.format(ckpt_dir))"
   ]
  },
  {
   "cell_type": "code",
   "execution_count": 15,
   "metadata": {
    "collapsed": true
   },
   "outputs": [],
   "source": [
    "def convert_data_to_tensors(x, y):\n",
    "  input_tensor = tf.constant(x)\n",
    "  input_tensor.set_shape([None, 1])\n",
    "  output_tensor = tf.constant(y)\n",
    "  output_tensor.set_shape([None, 1])\n",
    "  return input_tensor, output_tensor"
   ]
  },
  {
   "cell_type": "code",
   "execution_count": 17,
   "metadata": {
    "collapsed": false
   },
   "outputs": [
    {
     "name": "stderr",
     "output_type": "stream",
     "text": [
      "WARNING:tensorflow:tf.variable_op_scope(values, name, default_name) is deprecated, use tf.variable_scope(name, default_name, values)\n"
     ]
    },
    {
     "name": "stdout",
     "output_type": "stream",
     "text": [
      "('Finished training. Last batch loss:', 0.45064953)\n",
      "Checkpoint saved in /tmp/tf/regression_model/model1471957940.55\n"
     ]
    }
   ],
   "source": [
    "graph = tf.Graph() # new graph\n",
    "with graph.as_default():\n",
    "  input_node, output_node = convert_data_to_tensors(x_train, y_train)\n",
    "\n",
    "  # Make the model.\n",
    "  prediction_node, nodes = regression_model(input_node, is_training=True)\n",
    " \n",
    "  # Add the loss function to the graph.\n",
    "  loss_node = slim.losses.sum_of_squares(prediction_node, output_node)\n",
    "  # The total loss is the uers's loss plus any regularization losses.\n",
    "  total_loss_node = slim.losses.get_total_loss()\n",
    "\n",
    "  # Create some summaries to visualize the training process:\n",
    "  ## TODO: add summaries.py to 3p\n",
    "  #slim.summaries.add_scalar_summary(total_loss, 'Total Loss', print_summary=True)\n",
    "  \n",
    "  # Specify the optimizer and create the train op:\n",
    "  optimizer = tf.train.AdamOptimizer(learning_rate=0.01)\n",
    "  train_op_node = slim.learning.create_train_op(total_loss_node, optimizer) \n",
    "\n",
    "  # Run the training inside a session.\n",
    "  final_loss = slim.learning.train(\n",
    "    train_op_node,\n",
    "    logdir=ckpt_dir,\n",
    "    number_of_steps=500,\n",
    "    save_summaries_secs=1)\n",
    "  \n",
    "print(\"Finished training. Last batch loss:\", final_loss)\n",
    "print(\"Checkpoint saved in %s\" % ckpt_dir)"
   ]
  },
  {
   "cell_type": "markdown",
   "metadata": {},
   "source": [
    "### Training with multiple loss functions.\n",
    "\n",
    "Sometimes we have multiple objectives we want to simultaneously optimize.\n",
    "In slim, it is easy to add more losses, as we show below. (We do not optimize the total loss in this example,\n",
    "but we show how to compute it.)"
   ]
  },
  {
   "cell_type": "code",
   "execution_count": 31,
   "metadata": {
    "collapsed": false
   },
   "outputs": [
    {
     "name": "stderr",
     "output_type": "stream",
     "text": [
      "WARNING:tensorflow:tf.variable_op_scope(values, name, default_name) is deprecated, use tf.variable_scope(name, default_name, values)\n"
     ]
    },
    {
     "name": "stdout",
     "output_type": "stream",
     "text": [
      "Total Loss1: 63.857437\n",
      "Total Loss2: 63.857437\n",
      "Regularization Losses:\n",
      "Tensor(\"deep_regression/fc1/weights/Regularizer/l2_regularizer:0\", shape=(), dtype=float32)\n",
      "Tensor(\"deep_regression/fc2/weights/Regularizer/l2_regularizer:0\", shape=(), dtype=float32)\n",
      "Tensor(\"deep_regression/prediction/weights/Regularizer/l2_regularizer:0\", shape=(), dtype=float32)\n",
      "Loss Functions:\n",
      "Tensor(\"sum_of_squares_loss/value:0\", shape=(), dtype=float32)\n",
      "Tensor(\"absolute_difference/value:0\", shape=(), dtype=float32)\n"
     ]
    }
   ],
   "source": [
    "graph = tf.Graph()  # Make a new graph\n",
    "with graph.as_default():\n",
    "    input_node, output_node = convert_data_to_tensors(x_train, y_train)\n",
    "    prediction_node, nodes = regression_model(input_node, is_training=True)\n",
    "\n",
    "    # Add multiple loss nodes.\n",
    "    sum_of_squares_loss_node = slim.losses.sum_of_squares(prediction_node, output_node)\n",
    "    absolute_difference_loss_node = slim.losses.absolute_difference(prediction_node, output_node)\n",
    "\n",
    "    # The following two ways to compute the total loss are equivalent\n",
    "    regularization_loss_node = tf.add_n(slim.losses.get_regularization_losses())\n",
    "    total_loss1_node = sum_of_squares_loss_node + absolute_difference_loss_node + regularization_loss_node\n",
    "\n",
    "    # Regularization Loss is included in the total loss by default.\n",
    "    # This is good for training, but not for testing.\n",
    "    total_loss2_node = slim.losses.get_total_loss(add_regularization_losses=True)\n",
    "    \n",
    "    init_node = tf.initialize_all_variables()\n",
    "    with tf.Session() as sess:\n",
    "        sess.run(init_node) # Will randomize the parameters.\n",
    "        total_loss1, total_loss2 = sess.run([total_loss1_node, total_loss2_node])\n",
    "        print('Total Loss1: %f' % total_loss1)\n",
    "        print('Total Loss2: %f' % total_loss2)\n",
    "\n",
    "        print('Regularization Losses:')\n",
    "        for loss_node in slim.losses.get_regularization_losses():\n",
    "            print(loss_node)\n",
    "\n",
    "        print('Loss Functions:')\n",
    "        for loss_node in slim.losses.get_losses():\n",
    "            print(loss_node)"
   ]
  },
  {
   "cell_type": "markdown",
   "metadata": {},
   "source": [
    "### Let's load the saved model and use it for prediction.\n",
    "\n",
    "The predictive accuracy is not very good, because we used a small model,\n",
    "and only trained for 500 steps, to keep the demo fast. \n",
    "Running for 5000 steps improves performance a lot."
   ]
  },
  {
   "cell_type": "code",
   "execution_count": 32,
   "metadata": {
    "collapsed": false
   },
   "outputs": [
    {
     "name": "stderr",
     "output_type": "stream",
     "text": [
      "WARNING:tensorflow:tf.variable_op_scope(values, name, default_name) is deprecated, use tf.variable_scope(name, default_name, values)\n"
     ]
    },
    {
     "data": {
      "text/plain": [
       "<matplotlib.text.Text at 0x7f5a647a5950>"
      ]
     },
     "execution_count": 32,
     "metadata": {},
     "output_type": "execute_result"
    },
    {
     "data": {
      "image/png": "[encoded data removed]",
      "text/plain": [
       "<matplotlib.figure.Figure at 0x7f5a6ce66090>"
      ]
     },
     "metadata": {},
     "output_type": "display_data"
    }
   ],
   "source": [
    "with tf.Graph().as_default():\n",
    "    input_node, output_node = convert_data_to_tensors(x_test, y_test)\n",
    "  \n",
    "    # Create the model structure. (Parameters will be loaded below.)\n",
    "    prediction_node, nodes = regression_model(input_node, is_training=False)\n",
    "\n",
    "    # Make a session which restores the old parameters from a checkpoint.\n",
    "    sv = tf.train.Supervisor(logdir=ckpt_dir)\n",
    "    with sv.managed_session() as sess:\n",
    "        inputs, predictions, true_outputs = sess.run([input_node, prediction_node, output_node])\n",
    "\n",
    "plt.scatter(inputs, true_outputs, c='r');\n",
    "plt.scatter(inputs, predictions, c='b');\n",
    "plt.title('red=true, blue=predicted')"
   ]
  },
  {
   "cell_type": "markdown",
   "metadata": {},
   "source": [
    "### Let's examine the learned parameters."
   ]
  },
  {
   "cell_type": "code",
   "execution_count": 33,
   "metadata": {
    "collapsed": false
   },
   "outputs": [
    {
     "name": "stderr",
     "output_type": "stream",
     "text": [
      "WARNING:tensorflow:tf.variable_op_scope(values, name, default_name) is deprecated, use tf.variable_scope(name, default_name, values)\n"
     ]
    },
    {
     "name": "stdout",
     "output_type": "stream",
     "text": [
      "deep_regression/fc1/weights:0 (1, 10) [[ -5.06266467e-02   5.45447910e-13   1.21284246e-01  -1.44770980e-01\n",
      "   -2.18129363e-02  -3.88705172e-02   1.23600796e-01  -1.58917261e-04\n",
      "    5.34504652e-01   4.70542043e-01]]\n",
      "deep_regression/fc1/biases:0 (10,) [ 0.51114881 -0.1092848   0.42604351  0.59958661  0.47088459  0.43627158\n",
      " -0.2441307  -0.09360857  0.20583071 -0.02956541]\n",
      "deep_regression/fc2/weights:0 (10, 5) [[ -1.16052706e-11  -1.54837683e-01   5.02475441e-01   4.13749188e-01\n",
      "   -4.51538116e-01]\n",
      " [ -6.81778906e-13   9.83630538e-12  -6.79897588e-12   3.31871358e-13\n",
      "   -1.24219775e-11]\n",
      " [ -2.67401170e-02  -1.67030662e-01   1.13806441e-01  -3.86184417e-02\n",
      "    2.97718614e-01]\n",
      " [  1.05787178e-12   2.26782888e-01   1.51686773e-01   1.58880055e-01\n",
      "    1.96304187e-01]\n",
      " [ -3.65290524e-12   8.95788777e-04   6.14808314e-02   2.61927787e-02\n",
      "    3.90173346e-02]\n",
      " [ -1.18928066e-12   8.73013437e-02  -8.43310803e-02   7.38054886e-02\n",
      "    1.69781461e-01]\n",
      " [  3.83405853e-03  -2.50683814e-01   3.50693315e-01  -6.17958382e-02\n",
      "   -3.09542567e-01]\n",
      " [ -7.97761813e-13   9.05892711e-13   2.87100801e-13   1.57931827e-12\n",
      "    1.28446923e-11]\n",
      " [  2.66012740e-10  -2.30664194e-01  -1.36213779e-01   6.93414688e-01\n",
      "   -2.07919747e-01]\n",
      " [ -8.37271443e-08   2.22258657e-01  -8.80518779e-02   1.19137987e-01\n",
      "   -2.23481551e-01]]\n",
      "deep_regression/fc2/biases:0 (5,) [-0.10564776  0.94643998  1.58608937  0.68163437  1.20217288]\n",
      "deep_regression/prediction/weights:0 (5, 1) [[ -8.74219222e-06]\n",
      " [  1.10868037e+00]\n",
      " [  9.91535127e-01]\n",
      " [  6.82840288e-01]\n",
      " [  1.02710557e+00]]\n",
      "deep_regression/prediction/biases:0 (1,) [ 0.57118797]\n"
     ]
    }
   ],
   "source": [
    "with tf.Graph().as_default():\n",
    "    input_node = tf.placeholder(tf.float32, shape=(None, 1))\n",
    "    output_node = tf.placeholder(tf.float32, shape=(None, 1))\n",
    "    prediction_node, nodes = regression_model(input_node, is_training=False)\n",
    "  \n",
    "    sv = tf.train.Supervisor(logdir=ckpt_dir)\n",
    "    with sv.managed_session() as sess:\n",
    "        model_variables = slim.get_model_variables()\n",
    "        for v in model_variables:\n",
    "            val = sess.run(v)\n",
    "            print v.name, val.shape, val\n"
   ]
  },
  {
   "cell_type": "markdown",
   "metadata": {},
   "source": [
    "### Let's compute various evaluation metrics on the test set.\n",
    "\n",
    "In slim termiology, losses are optimized, but metrics (which may not be differentiable, e.g., precision and recall) are just measured.\n",
    "As an illustration, the code below computes mean squared error and mean absolute error metrics on the test set.\n",
    "\n",
    "Each metric declaration creates several local variables (which must be initialized via tf.initialize_local_variables()) and returns both a value_op and an update_op. When evaluated, the value_op returns the current value of the metric. The update_op loads a new batch of data, runs the model, obtains the predictions and accumulates the metric statistics appropriately before returning the current value of the metric. We store these value nodes and update nodes in 2 dictionaries.\n",
    "\n",
    "After creating the metric nodes, we can pass them to slim.evaluation.evaluation, which repeatedly evaluates these nodes the specified number of times. (This allows us to compute the evaluation in a streaming fashion across minibatches, which is usefulf for large datasets.) Finally, we print the final value of each metric.\n"
   ]
  },
  {
   "cell_type": "code",
   "execution_count": 34,
   "metadata": {
    "collapsed": false
   },
   "outputs": [
    {
     "name": "stderr",
     "output_type": "stream",
     "text": [
      "WARNING:tensorflow:tf.variable_op_scope(values, name, default_name) is deprecated, use tf.variable_scope(name, default_name, values)\n"
     ]
    },
    {
     "name": "stdout",
     "output_type": "stream",
     "text": [
      "Mean Squared Error: 23.741724\n",
      "Mean Absolute Error: 4.810077\n"
     ]
    }
   ],
   "source": [
    "with tf.Graph().as_default():\n",
    "    input_node, output_node = convert_data_to_tensors(x_test, y_test)\n",
    "    prediction_node, nodes = regression_model(input_node, is_training=False)\n",
    "\n",
    "    # Specify metrics to evaluate:\n",
    "    names_to_value_nodes, names_to_update_nodes = slim.metrics.aggregate_metric_map({\n",
    "      'Mean Squared Error': slim.metrics.streaming_mean_squared_error(prediction_node, output_node),\n",
    "      'Mean Absolute Error': slim.metrics.streaming_mean_absolute_error(prediction_node, output_node)\n",
    "    })\n",
    "\n",
    "\n",
    "    init_node = tf.group(\n",
    "        tf.initialize_all_variables(),\n",
    "        tf.initialize_local_variables())\n",
    "\n",
    "    # Make a session which restores the old graph parameters, and then run eval.\n",
    "    sv = tf.train.Supervisor(logdir=ckpt_dir)\n",
    "    with sv.managed_session() as sess:\n",
    "        metric_values = slim.evaluation.evaluation(\n",
    "            sess,\n",
    "            num_evals=1, # Single pass over data\n",
    "            init_op=init_node,\n",
    "            eval_op=names_to_update_nodes.values(),\n",
    "            final_op=names_to_value_nodes.values())\n",
    "\n",
    "    names_to_values = dict(zip(names_to_value_nodes.keys(), metric_values))\n",
    "    for key, value in names_to_values.iteritems():\n",
    "      print('%s: %f' % (key, value))"
   ]
  },
  {
   "cell_type": "markdown",
   "metadata": {},
   "source": [
    "# Slim datasets\n",
    "<a id='SlimData'></a>\n",
    "\n",
    "A slim Dataset object contains a pointer to a data file, and metadata, so it knows how big the file is, what kind of data is stored in the file, etc. For example, some files contain images with labels, some also have bounding box annotations, etc. The Dataset object allows us to write generic code using the same API, regardless of the data format. \n",
    "\n",
    "The easiest way to create a slim Dataset is if the data is stored as a (possibly sharded)\n",
    "[TFRecords file](https://www.tensorflow.org/versions/r0.10/how_tos/reading_data/index.html#file-formats), where each record contains a [tf.train.Example protocol buffer](https://github.com/tensorflow/tensorflow/blob/r0.10/tensorflow/core/example/example.proto).\n",
    "Slim uses a consistent convention for naming the keys and values inside each example. Code to convert various common academic datasets into TFRecord format can be found at  https://cs.corp.google.com/piper///depot/google3/third_party/tensorflow_models/slim/datasets/.\n",
    "In particular, we include scripts to download and process the following image datasets:\n",
    "\n",
    "<html>\n",
    "<head>\n",
    "<title>HTML Tables</title>\n",
    "</head>\n",
    "<body>\n",
    "<table border=\"1\">\n",
    "<tr>\n",
    "<td>Dataset</td>\n",
    "<td>Script</td>\n",
    "<td>Contains</td>\n",
    "</tr>\n",
    "<tr>\n",
    "<td><a href=\"http://yann.lecun.com/exdb/mnist/\">MNIST</a></td>\n",
    "<td>Script</td>\n",
    "<td>60k+10k 28x28 grayscale images of handwritten digits, 10 class labels\n",
    "</tr>\n",
    "<tr>\n",
    "<td><a href=\"https://www.cs.toronto.edu/~kriz/cifar.html\">CIFAR-10</a></td>\n",
    "<td>Script</td>\n",
    "<td>50k+10k 32x32 color images, 10 class labels\n",
    "</tr>\n",
    "<tr>\n",
    "<tr>\n",
    "<td><a href=\"https://www.cs.toronto.edu/~kriz/cifar.html\">CIFAR-100</a></td>\n",
    "<td>Script</td>\n",
    "<td>50k+10k 32x32 color images, 100 class labels\n",
    "</tr>\n",
    "<tr>\n",
    "<td><a href=\"http://www.image-net.org/challenges/LSVRC/2012/index\">ImageNet ILSVRC2012</td>\n",
    "<td>Script</td>\n",
    "<td>1.1M color images (various sizes), 1000 class labels\n",
    "</tr>\n",
    "<tr>\n",
    "<td><a href=\"http://host.robots.ox.ac.uk/pascal/VOC/\">Pascal VOC 2012</a></td>\n",
    "<td>Script</td>\n",
    "<td>~20k color images (various sizes), bounding boxes and class segmentation masks for 20 categories\n",
    "</tr>\n",
    "<tr>\n",
    "<td><a href=\"http://mscoco.org/\">MSCOCO</a></td>\n",
    "<td>Script</td>\n",
    "<td>~120k color images (various sizes), bounding boxes and instance segmentation masks for 80 categories, image captions from 5 raters, 16 keypoints for human pose\n",
    "</tr>\n",
    "</table>\n",
    "</body>\n",
    "</html>\n",
    "\n",
    "\n",
    "\n",
    "Once we have the data in TFRecord format, we can easily create a slim Dataset from it. Finally, we can create a slim DataProvider, which is an object which can \"provide\" minibatches of data on demand. A DataProvider can read data in parallel using queue runners, to support high throughput processing.\n",
    "\n",
    "Below we give an example of using a small open source dataset of XXX flower images from Flickr, each of which has 1 of 5 mutually exclusive class labels. (Source of images is listd in the license file XXX.) \n",
    "The bash script to download and convert this data into TFRecord format is [here](https://github.com/tensorflow/models/blob/master/inception/inception/data/download_and_preprocess_flowers.sh).\n",
    "To save time, we have done this step for you, so you can quickly do some experiments, as we show below."
   ]
  },
  {
   "cell_type": "markdown",
   "metadata": {},
   "source": [
    "### Download the TFRecord file.\n",
    "\n",
    "To save time, we just download the testset, not all the data."
   ]
  },
  {
   "cell_type": "code",
   "execution_count": 35,
   "metadata": {
    "collapsed": false
   },
   "outputs": [],
   "source": [
    "# Retrieve the data.\n",
    "import six\n",
    "import sys\n",
    "from six.moves import urllib\n",
    "import os\n",
    "url = 'https://github.com/probml/pyprobml/blob/master/tensorflow/cifar10_test.tfrecord'\n",
    "cifar10_folder = '/tmp/tf/cifar10'\n",
    "filename = os.path.join(cifar10_folder, 'cifar10_test.tfrecord')\n",
    "urllib.request.urlretrieve(url, filename) # Corrupted?\n",
    "cifar10_folder = '/tmp/cifar10' # Data put here using Nathan's script"
   ]
  },
  {
   "cell_type": "markdown",
   "metadata": {},
   "source": [
    "### Convert TFRecord file to slim Dataset."
   ]
  },
  {
   "cell_type": "code",
   "execution_count": 36,
   "metadata": {
    "collapsed": true
   },
   "outputs": [],
   "source": [
    "# %load https://raw.githubusercontent.com/probml/pyprobml/master/tensorflow/cifar10_make_slim_dataset.py\n",
    "import tensorflow as tf\n",
    "\n",
    " \n",
    "def make_cifar_dataset(split_name, tf_folder):\n",
    "    \"\"\"Make a dataset object from cifar10 tfrecord file.\n",
    "\n",
    "    Args:\n",
    "      split_name: \"train\" or \"test\"\n",
    "      tf_folder: The base directory of the dataset sources.\n",
    "\n",
    "    Returns:\n",
    "      A `Dataset` namedtuple.\n",
    "\n",
    "    Raises:\n",
    "      ValueError: if `split_name` is not a valid train/test split.\n",
    "    \"\"\"\n",
    "    SPLITS_TO_SIZES = {'train': 50000, 'test': 10000}\n",
    "\n",
    "    ITEMS_TO_DESCRIPTIONS = {\n",
    "        'image': 'A [32 x 32 x 3] color image.',\n",
    "        'label': 'A single integer between 0 and 9',\n",
    "    }\n",
    "    if split_name not in SPLITS_TO_SIZES:\n",
    "        raise ValueError('split name %s was not recognized.' % split_name)\n",
    "\n",
    "    file_pattern =  '%s/cifar10_%s.tfrecord' % (tf_folder, split_name)\n",
    "\n",
    "    keys_to_features = {\n",
    "        'image/encoded': tf.FixedLenFeature((), tf.string, default_value=''),\n",
    "        'image/format': tf.FixedLenFeature((), tf.string, default_value='png'),\n",
    "        'image/class/label': tf.FixedLenFeature(\n",
    "            [], tf.int64, default_value=tf.zeros([], dtype=tf.int64)),\n",
    "    }\n",
    "\n",
    "    items_to_handlers = {\n",
    "        'image': slim.tfexample_decoder.Image(shape=[32, 32, 3]),\n",
    "        'label': slim.tfexample_decoder.Tensor('image/class/label'),\n",
    "    }\n",
    "\n",
    "    decoder = slim.tfexample_decoder.TFExampleDecoder(\n",
    "        keys_to_features, items_to_handlers)\n",
    "   \n",
    "    return slim.dataset.Dataset(\n",
    "        data_sources=file_pattern,\n",
    "        reader=tf.TFRecordReader,\n",
    "        decoder=decoder,\n",
    "        num_samples=SPLITS_TO_SIZES[split_name],\n",
    "        items_to_descriptions=ITEMS_TO_DESCRIPTIONS)\n"
   ]
  },
  {
   "cell_type": "markdown",
   "metadata": {},
   "source": [
    "### Display the first image and its label."
   ]
  },
  {
   "cell_type": "code",
   "execution_count": 55,
   "metadata": {
    "collapsed": false
   },
   "outputs": [
    {
     "ename": "ValueError",
     "evalue": "Tensor(\"ParseSingleExample/ParseExample/Reshape:0\", shape=(), dtype=string) must be from the same graph as Tensor(\"zeros_1:0\", shape=(), dtype=int64).",
     "output_type": "error",
     "traceback": [
      "\u001b[0;31m---------------------------------------------------------------------------\u001b[0m",
      "\u001b[0;31mValueError\u001b[0m                                Traceback (most recent call last)",
      "\u001b[0;32m<ipython-input-55-959bc329be54>\u001b[0m in \u001b[0;36m<module>\u001b[0;34m()\u001b[0m\n\u001b[1;32m      5\u001b[0m     \u001b[0;31m#dataset = make_cifar_dataset('test', cifar10_folder)\u001b[0m\u001b[0;34m\u001b[0m\u001b[0;34m\u001b[0m\u001b[0m\n\u001b[1;32m      6\u001b[0m     data_provider = slim.dataset_data_provider.DatasetDataProvider(\n\u001b[0;32m----> 7\u001b[0;31m         dataset, common_queue_capacity=32, common_queue_min=1)\n\u001b[0m\u001b[1;32m      8\u001b[0m     \u001b[0;32mprint\u001b[0m\u001b[0;34m(\u001b[0m\u001b[0;34m\"This dataset contains data of type {}\"\u001b[0m\u001b[0;34m.\u001b[0m\u001b[0mformat\u001b[0m\u001b[0;34m(\u001b[0m\u001b[0mdata_provider\u001b[0m\u001b[0;34m.\u001b[0m\u001b[0mlist_items\u001b[0m\u001b[0;34m(\u001b[0m\u001b[0;34m)\u001b[0m\u001b[0;34m)\u001b[0m\u001b[0;34m)\u001b[0m\u001b[0;34m\u001b[0m\u001b[0m\n\u001b[1;32m      9\u001b[0m \u001b[0;34m\u001b[0m\u001b[0m\n",
      "\u001b[0;32m/usr/local/lib/python2.7/dist-packages/tensorflow/contrib/slim/python/slim/data/dataset_data_provider.pyc\u001b[0m in \u001b[0;36m__init__\u001b[0;34m(self, dataset, num_readers, shuffle, num_epochs, common_queue_capacity, common_queue_min)\u001b[0m\n\u001b[1;32m     70\u001b[0m \u001b[0;34m\u001b[0m\u001b[0m\n\u001b[1;32m     71\u001b[0m     \u001b[0mitems\u001b[0m \u001b[0;34m=\u001b[0m \u001b[0mdataset\u001b[0m\u001b[0;34m.\u001b[0m\u001b[0mdecoder\u001b[0m\u001b[0;34m.\u001b[0m\u001b[0mlist_items\u001b[0m\u001b[0;34m(\u001b[0m\u001b[0;34m)\u001b[0m\u001b[0;34m\u001b[0m\u001b[0m\n\u001b[0;32m---> 72\u001b[0;31m     \u001b[0mtensors\u001b[0m \u001b[0;34m=\u001b[0m \u001b[0mdataset\u001b[0m\u001b[0;34m.\u001b[0m\u001b[0mdecoder\u001b[0m\u001b[0;34m.\u001b[0m\u001b[0mdecode\u001b[0m\u001b[0;34m(\u001b[0m\u001b[0mdata\u001b[0m\u001b[0;34m,\u001b[0m \u001b[0mitems\u001b[0m\u001b[0;34m)\u001b[0m\u001b[0;34m\u001b[0m\u001b[0m\n\u001b[0m\u001b[1;32m     73\u001b[0m \u001b[0;34m\u001b[0m\u001b[0m\n\u001b[1;32m     74\u001b[0m     super(DatasetDataProvider, self).__init__(\n",
      "\u001b[0;32m/usr/local/lib/python2.7/dist-packages/tensorflow/contrib/slim/python/slim/data/tfexample_decoder.pyc\u001b[0m in \u001b[0;36mdecode\u001b[0;34m(self, serialized_example, items)\u001b[0m\n\u001b[1;32m    321\u001b[0m     example = parsing_ops.parse_single_example(\n\u001b[1;32m    322\u001b[0m         \u001b[0mserialized_example\u001b[0m\u001b[0;34m,\u001b[0m\u001b[0;34m\u001b[0m\u001b[0m\n\u001b[0;32m--> 323\u001b[0;31m         self._keys_to_features)\n\u001b[0m\u001b[1;32m    324\u001b[0m \u001b[0;34m\u001b[0m\u001b[0m\n\u001b[1;32m    325\u001b[0m     \u001b[0;31m# Reshape non-sparse elements just once:\u001b[0m\u001b[0;34m\u001b[0m\u001b[0;34m\u001b[0m\u001b[0m\n",
      "\u001b[0;32m/usr/local/lib/python2.7/dist-packages/tensorflow/python/ops/parsing_ops.pyc\u001b[0m in \u001b[0;36mparse_single_example\u001b[0;34m(serialized, features, name, example_names)\u001b[0m\n\u001b[1;32m    451\u001b[0m   return _parse_single_example_raw(\n\u001b[1;32m    452\u001b[0m       \u001b[0mserialized\u001b[0m\u001b[0;34m,\u001b[0m \u001b[0mexample_names\u001b[0m\u001b[0;34m,\u001b[0m \u001b[0msparse_keys\u001b[0m\u001b[0;34m,\u001b[0m \u001b[0msparse_types\u001b[0m\u001b[0;34m,\u001b[0m \u001b[0mdense_keys\u001b[0m\u001b[0;34m,\u001b[0m\u001b[0;34m\u001b[0m\u001b[0m\n\u001b[0;32m--> 453\u001b[0;31m       dense_types, dense_defaults, dense_shapes, name)\n\u001b[0m\u001b[1;32m    454\u001b[0m \u001b[0;34m\u001b[0m\u001b[0m\n\u001b[1;32m    455\u001b[0m \u001b[0;34m\u001b[0m\u001b[0m\n",
      "\u001b[0;32m/usr/local/lib/python2.7/dist-packages/tensorflow/python/ops/parsing_ops.pyc\u001b[0m in \u001b[0;36m_parse_single_example_raw\u001b[0;34m(serialized, names, sparse_keys, sparse_types, dense_keys, dense_types, dense_defaults, dense_shapes, name)\u001b[0m\n\u001b[1;32m    523\u001b[0m                                  \u001b[0mdense_defaults\u001b[0m\u001b[0;34m=\u001b[0m\u001b[0mdense_defaults\u001b[0m\u001b[0;34m,\u001b[0m\u001b[0;34m\u001b[0m\u001b[0m\n\u001b[1;32m    524\u001b[0m                                  \u001b[0mdense_shapes\u001b[0m\u001b[0;34m=\u001b[0m\u001b[0mdense_shapes\u001b[0m\u001b[0;34m,\u001b[0m\u001b[0;34m\u001b[0m\u001b[0m\n\u001b[0;32m--> 525\u001b[0;31m                                  name=name)\n\u001b[0m\u001b[1;32m    526\u001b[0m     \u001b[0;32mif\u001b[0m \u001b[0mdense_keys\u001b[0m \u001b[0;32mis\u001b[0m \u001b[0;32mnot\u001b[0m \u001b[0mNone\u001b[0m\u001b[0;34m:\u001b[0m\u001b[0;34m\u001b[0m\u001b[0m\n\u001b[1;32m    527\u001b[0m       \u001b[0;32mfor\u001b[0m \u001b[0md\u001b[0m \u001b[0;32min\u001b[0m \u001b[0mdense_keys\u001b[0m\u001b[0;34m:\u001b[0m\u001b[0;34m\u001b[0m\u001b[0m\n",
      "\u001b[0;32m/usr/local/lib/python2.7/dist-packages/tensorflow/python/ops/parsing_ops.pyc\u001b[0m in \u001b[0;36m_parse_example_raw\u001b[0;34m(serialized, names, sparse_keys, sparse_types, dense_keys, dense_types, dense_defaults, dense_shapes, name)\u001b[0m\n\u001b[1;32m    403\u001b[0m         \u001b[0mdense_keys\u001b[0m\u001b[0;34m=\u001b[0m\u001b[0mdense_keys\u001b[0m\u001b[0;34m,\u001b[0m\u001b[0;34m\u001b[0m\u001b[0m\n\u001b[1;32m    404\u001b[0m         \u001b[0mdense_shapes\u001b[0m\u001b[0;34m=\u001b[0m\u001b[0mdense_shapes\u001b[0m\u001b[0;34m,\u001b[0m\u001b[0;34m\u001b[0m\u001b[0m\n\u001b[0;32m--> 405\u001b[0;31m         name=name)\n\u001b[0m\u001b[1;32m    406\u001b[0m     \u001b[0;31m# pylint: enable=protected-access\u001b[0m\u001b[0;34m\u001b[0m\u001b[0;34m\u001b[0m\u001b[0m\n\u001b[1;32m    407\u001b[0m \u001b[0;34m\u001b[0m\u001b[0m\n",
      "\u001b[0;32m/usr/local/lib/python2.7/dist-packages/tensorflow/python/ops/gen_parsing_ops.pyc\u001b[0m in \u001b[0;36m_parse_example\u001b[0;34m(serialized, names, sparse_keys, dense_keys, dense_defaults, sparse_types, dense_shapes, name)\u001b[0m\n\u001b[1;32m    163\u001b[0m                                 \u001b[0mdense_defaults\u001b[0m\u001b[0;34m=\u001b[0m\u001b[0mdense_defaults\u001b[0m\u001b[0;34m,\u001b[0m\u001b[0;34m\u001b[0m\u001b[0m\n\u001b[1;32m    164\u001b[0m                                 \u001b[0msparse_types\u001b[0m\u001b[0;34m=\u001b[0m\u001b[0msparse_types\u001b[0m\u001b[0;34m,\u001b[0m\u001b[0;34m\u001b[0m\u001b[0m\n\u001b[0;32m--> 165\u001b[0;31m                                 dense_shapes=dense_shapes, name=name)\n\u001b[0m\u001b[1;32m    166\u001b[0m   \u001b[0;32mreturn\u001b[0m \u001b[0m_ParseExampleOutput\u001b[0m\u001b[0;34m.\u001b[0m\u001b[0m_make\u001b[0m\u001b[0;34m(\u001b[0m\u001b[0mresult\u001b[0m\u001b[0;34m)\u001b[0m\u001b[0;34m\u001b[0m\u001b[0m\n\u001b[1;32m    167\u001b[0m \u001b[0;34m\u001b[0m\u001b[0m\n",
      "\u001b[0;32m/usr/local/lib/python2.7/dist-packages/tensorflow/python/framework/op_def_library.pyc\u001b[0m in \u001b[0;36mapply_op\u001b[0;34m(self, op_type_name, name, **keywords)\u001b[0m\n\u001b[1;32m    328\u001b[0m       \u001b[0;31m# Need to flatten all the arguments into a list.\u001b[0m\u001b[0;34m\u001b[0m\u001b[0;34m\u001b[0m\u001b[0m\n\u001b[1;32m    329\u001b[0m       \u001b[0;31m# pylint: disable=protected-access\u001b[0m\u001b[0;34m\u001b[0m\u001b[0;34m\u001b[0m\u001b[0m\n\u001b[0;32m--> 330\u001b[0;31m       \u001b[0mg\u001b[0m \u001b[0;34m=\u001b[0m \u001b[0mops\u001b[0m\u001b[0;34m.\u001b[0m\u001b[0m_get_graph_from_inputs\u001b[0m\u001b[0;34m(\u001b[0m\u001b[0m_Flatten\u001b[0m\u001b[0;34m(\u001b[0m\u001b[0mkeywords\u001b[0m\u001b[0;34m.\u001b[0m\u001b[0mvalues\u001b[0m\u001b[0;34m(\u001b[0m\u001b[0;34m)\u001b[0m\u001b[0;34m)\u001b[0m\u001b[0;34m)\u001b[0m\u001b[0;34m\u001b[0m\u001b[0m\n\u001b[0m\u001b[1;32m    331\u001b[0m       \u001b[0;31m# pyline: enable=protected-access\u001b[0m\u001b[0;34m\u001b[0m\u001b[0;34m\u001b[0m\u001b[0m\n\u001b[1;32m    332\u001b[0m     \u001b[0;32mexcept\u001b[0m \u001b[0mAssertionError\u001b[0m \u001b[0;32mas\u001b[0m \u001b[0me\u001b[0m\u001b[0;34m:\u001b[0m\u001b[0;34m\u001b[0m\u001b[0m\n",
      "\u001b[0;32m/usr/local/lib/python2.7/dist-packages/tensorflow/python/framework/ops.pyc\u001b[0m in \u001b[0;36m_get_graph_from_inputs\u001b[0;34m(op_input_list, graph)\u001b[0m\n\u001b[1;32m   3812\u001b[0m         \u001b[0mgraph\u001b[0m \u001b[0;34m=\u001b[0m \u001b[0mgraph_element\u001b[0m\u001b[0;34m.\u001b[0m\u001b[0mgraph\u001b[0m\u001b[0;34m\u001b[0m\u001b[0m\n\u001b[1;32m   3813\u001b[0m       \u001b[0;32melif\u001b[0m \u001b[0moriginal_graph_element\u001b[0m \u001b[0;32mis\u001b[0m \u001b[0;32mnot\u001b[0m \u001b[0mNone\u001b[0m\u001b[0;34m:\u001b[0m\u001b[0;34m\u001b[0m\u001b[0m\n\u001b[0;32m-> 3814\u001b[0;31m         \u001b[0m_assert_same_graph\u001b[0m\u001b[0;34m(\u001b[0m\u001b[0moriginal_graph_element\u001b[0m\u001b[0;34m,\u001b[0m \u001b[0mgraph_element\u001b[0m\u001b[0;34m)\u001b[0m\u001b[0;34m\u001b[0m\u001b[0m\n\u001b[0m\u001b[1;32m   3815\u001b[0m       \u001b[0;32melif\u001b[0m \u001b[0mgraph_element\u001b[0m\u001b[0;34m.\u001b[0m\u001b[0mgraph\u001b[0m \u001b[0;32mis\u001b[0m \u001b[0;32mnot\u001b[0m \u001b[0mgraph\u001b[0m\u001b[0;34m:\u001b[0m\u001b[0;34m\u001b[0m\u001b[0m\n\u001b[1;32m   3816\u001b[0m         raise ValueError(\n",
      "\u001b[0;32m/usr/local/lib/python2.7/dist-packages/tensorflow/python/framework/ops.pyc\u001b[0m in \u001b[0;36m_assert_same_graph\u001b[0;34m(original_item, item)\u001b[0m\n\u001b[1;32m   3757\u001b[0m   \u001b[0;32mif\u001b[0m \u001b[0moriginal_item\u001b[0m\u001b[0;34m.\u001b[0m\u001b[0mgraph\u001b[0m \u001b[0;32mis\u001b[0m \u001b[0;32mnot\u001b[0m \u001b[0mitem\u001b[0m\u001b[0;34m.\u001b[0m\u001b[0mgraph\u001b[0m\u001b[0;34m:\u001b[0m\u001b[0;34m\u001b[0m\u001b[0m\n\u001b[1;32m   3758\u001b[0m     raise ValueError(\n\u001b[0;32m-> 3759\u001b[0;31m         \"%s must be from the same graph as %s.\" % (item, original_item))\n\u001b[0m\u001b[1;32m   3760\u001b[0m \u001b[0;34m\u001b[0m\u001b[0m\n\u001b[1;32m   3761\u001b[0m \u001b[0;34m\u001b[0m\u001b[0m\n",
      "\u001b[0;31mValueError\u001b[0m: Tensor(\"ParseSingleExample/ParseExample/Reshape:0\", shape=(), dtype=string) must be from the same graph as Tensor(\"zeros_1:0\", shape=(), dtype=int64)."
     ]
    }
   ],
   "source": [
    "# This code hangs! DO NOT RUN\n",
    "\n",
    "with tf.Graph().as_default(): \n",
    "    dataset = make_cifar_dataset('test', cifar10_folder) # Must make dataset in same graph as data_provider and model\n",
    "    data_provider = slim.dataset_data_provider.DatasetDataProvider(\n",
    "        dataset, common_queue_capacity=32, common_queue_min=1)\n",
    "    print(\"This dataset contains data of type {}\".format(data_provider.list_items()))\n",
    "    \n",
    "    image_node, label_node = data_provider.get(['image', 'label'])\n",
    "    with tf.Session() as sess:    \n",
    "        image, label = sess.run([image_node, label_node])\n",
    "        with slim.queues.QueueRunners(sess):\n",
    "            image, label = sess.run([image_node, label_node])   ## Hangs \n",
    "        \n",
    "    print(label)\n",
    "    plt.figure()\n",
    "    plt.subplot(1, 1, 1)\n",
    "    plt.imshow(image)\n",
    "    plt.title(label)\n",
    "    plt.axis('off')\n",
    "    plt.show()"
   ]
  },
  {
   "cell_type": "markdown",
   "metadata": {},
   "source": [
    "# Convolutional neural nets (CNNs).\n",
    "<a id='CNN'></a>\n",
    "\n",
    "In this section, we show how to train an image classifier using a simple CNN.\n"
   ]
  },
  {
   "cell_type": "markdown",
   "metadata": {},
   "source": [
    "### Define the model.\n",
    "\n",
    "Note that the output layer is linear function. We will apply softmax transformation externally to the model."
   ]
  },
  {
   "cell_type": "code",
   "execution_count": 38,
   "metadata": {
    "collapsed": true
   },
   "outputs": [],
   "source": [
    "def my_cnn(images, num_classes, is_training):  # is_training is not used...\n",
    "    with slim.arg_scope([slim.max_pool2d], kernel_size=[3, 3], stride=2):\n",
    "        net = slim.conv2d(images, 64, [5, 5])\n",
    "        net = slim.max_pool2d(net)\n",
    "        net = slim.conv2d(net, 64, [5, 5])\n",
    "        net = slim.max_pool2d(net)\n",
    "        net = slim.flatten(net)\n",
    "        net = slim.fully_connected(net, 192)\n",
    "        net = slim.fully_connected(net, num_classes, activation_fn=None)       \n",
    "        return net"
   ]
  },
  {
   "cell_type": "markdown",
   "metadata": {},
   "source": [
    "### Apply the model to some random images."
   ]
  },
  {
   "cell_type": "code",
   "execution_count": 39,
   "metadata": {
    "collapsed": false
   },
   "outputs": [
    {
     "name": "stdout",
     "output_type": "stream",
     "text": [
      "(3, 10)\n",
      "[[ 0.067437    0.11198212  0.09995704  0.07805576  0.15142384  0.1151979\n",
      "   0.0974801   0.09685149  0.09943112  0.08218364]\n",
      " [ 0.06851638  0.10642001  0.09527245  0.0856739   0.14052564  0.11118399\n",
      "   0.10146013  0.10071222  0.10334437  0.08689094]\n",
      " [ 0.06625742  0.10794784  0.09770861  0.08191212  0.14782986  0.11310407\n",
      "   0.09899553  0.10049271  0.09934841  0.08640333]]\n",
      "[ 1.          1.          0.99999988]\n"
     ]
    }
   ],
   "source": [
    "with tf.Graph().as_default():\n",
    "    # The model can handle any input size because the first layer is convolutional.\n",
    "    # The size of the model is determined when image_node is passed into the Model function.\n",
    "    # All images must be the same size, because of the fully connected layers, which require a fixed size input.\n",
    "    n_images = 3\n",
    "    image_node = tf.random_uniform([n_images, 28, 28, 3], maxval=1)\n",
    "    \n",
    "    # Create the model.\n",
    "    logits_node = my_cnn(image_node, 10, True)\n",
    "    prob_node = tf.nn.softmax(logits_node)\n",
    "  \n",
    "    # Initialize all the variables (including parameters) randomly.\n",
    "    init_op = tf.initialize_all_variables()\n",
    "  \n",
    "    with tf.Session() as sess:\n",
    "        # Run the init_op, evaluate the model outputs and print the results:\n",
    "        sess.run(init_op)\n",
    "        probs = sess.run(prob_node)\n",
    "        \n",
    "print(probs.shape)  # 3x10\n",
    "print(probs)\n",
    "print(np.sum(probs, 1)) # Each row sums to 1"
   ]
  },
  {
   "cell_type": "markdown",
   "metadata": {},
   "source": [
    "### Train the model on CIFAR10.\n",
    "\n",
    "Make sure you run the code in the \"Slim datasets\" section first!"
   ]
  },
  {
   "cell_type": "code",
   "execution_count": 40,
   "metadata": {
    "collapsed": true
   },
   "outputs": [],
   "source": [
    "def preprocess(image, is_training):\n",
    "    \"\"\"Preprocesses the given image.\n",
    "\n",
    "    Args:\n",
    "        image: An image `Tensor` of size [32, 32, 3].\n",
    "        is_training: A boolean, whether or not we're in training mode.\n",
    "\n",
    "    Returns:\n",
    "        A preprocessed and cropped image of shape [24, 24, 3]\n",
    "    \"\"\"\n",
    "    height = 24\n",
    "    width = 24\n",
    "\n",
    "    if is_training:\n",
    "        # Randomly crop a [height, width] section of the image.\n",
    "        image = tf.random_crop(image, [height, width, 3])\n",
    "\n",
    "        # Randomly flip the image horizontally.\n",
    "        image = tf.image.random_flip_left_right(image)\n",
    "\n",
    "        # Randomize the pixel values.\n",
    "        image = tf.image.random_brightness(image, max_delta=63)\n",
    "        image = tf.image.random_saturation(image, lower=0.5, upper=1.5)\n",
    "        image = tf.image.random_contrast(image, lower=0.2, upper=1.8)\n",
    "    else:\n",
    "        # Crop the central [height, width] of the image.\n",
    "        image = tf.image.resize_image_with_crop_or_pad(image, height, width)\n",
    "\n",
    "    # Subtract off the mean and divide by the variance of the pixels.\n",
    "    return tf.image.per_image_whitening(image)"
   ]
  },
  {
   "cell_type": "code",
   "execution_count": 41,
   "metadata": {
    "collapsed": true
   },
   "outputs": [],
   "source": [
    "def create_cifar_tensors(split_name='test'):\n",
    "    dataset = make_cifar_dataset(split_name, cifar10_folder) \n",
    "    data_provider = slim.dataset_data_provider.DatasetDataProvider(\n",
    "        dataset, common_queue_capacity=32,\n",
    "        common_queue_min=8)\n",
    "    image, label = data_provider.get(['image', 'label'])\n",
    "    \n",
    "    # We have to use the preprocess function, otherwise we get this error:\n",
    "    # TypeError: Expected uint8, got -0.059850560166457976 of type 'float' instead.\n",
    "    image = preprocess(image, is_training=True)\n",
    "\n",
    "    # Batch it up.\n",
    "    images, labels = tf.train.batch(\n",
    "          [image, label],\n",
    "          batch_size=BATCH_SIZE,\n",
    "          num_threads=2,\n",
    "          capacity=10 * BATCH_SIZE)\n",
    "    \n",
    "    return images, labels"
   ]
  },
  {
   "cell_type": "code",
   "execution_count": 43,
   "metadata": {
    "collapsed": false
   },
   "outputs": [
    {
     "name": "stdout",
     "output_type": "stream",
     "text": [
      "Saving model to /tmp/tf/cifar10_model/model1471960271.78\n",
      "Finished training. Last batch loss 2.30703520775\n"
     ]
    }
   ],
   "source": [
    "# Train the model on some labeled data.\n",
    "\n",
    "CHECKPOINT_DIR = '/tmp/tf/cifar10_model/model{}'.format(time.time()) \n",
    "print('Saving model to {}'.format(CHECKPOINT_DIR))\n",
    "BATCH_SIZE = 64\n",
    "NUM_CLASSES = 10\n",
    "\n",
    "with tf.Graph().as_default():\n",
    "    # We train on the test set, just because it's smaller.\n",
    "    images, labels = create_cifar_tensors('test')\n",
    "  \n",
    "    # Create the model:\n",
    "    logits = my_cnn(images, num_classes=NUM_CLASSES, is_training=True)\n",
    " \n",
    "    # Specify the loss function:\n",
    "    one_hot_labels = slim.one_hot_encoding(labels, 10)\n",
    "    slim.losses.softmax_cross_entropy(logits, one_hot_labels)\n",
    "    total_loss = slim.losses.get_total_loss()\n",
    "\n",
    "    # Create some summaries to visualize the training process:\n",
    "    # TODO: Make this be printed to stdout during training.\n",
    "    tf.scalar_summary('losses/Total Loss', total_loss)\n",
    "  \n",
    "    # Specify the optimizer and create the train op:\n",
    "    optimizer = tf.train.AdamOptimizer(learning_rate=0.01)\n",
    "    train_op = slim.learning.create_train_op(total_loss, optimizer)\n",
    "\n",
    "    # Run the training:\n",
    "    final_loss = slim.learning.train(\n",
    "      train_op,\n",
    "      logdir=CHECKPOINT_DIR,\n",
    "      number_of_steps=50,\n",
    "      save_summaries_secs=1)\n",
    "  \n",
    "    print('Finished training. Last batch loss {}'.format(final_loss))"
   ]
  },
  {
   "cell_type": "markdown",
   "metadata": {},
   "source": [
    "### Evaluate some metrics.\n",
    "\n",
    "As we discussed above, we can compute various metrics besides the loss.\n",
    "Below we show how to compute prediction accuracy of the trained model, as well as top-5 classification accuracy. (The difference between evaluation and evaluation_loop is that the latter writes the results to a log directory, so they can be viewed in tensorboard.)"
   ]
  },
  {
   "cell_type": "code",
   "execution_count": 44,
   "metadata": {
    "collapsed": false
   },
   "outputs": [
    {
     "name": "stdout",
     "output_type": "stream",
     "text": [
      "Running evaluation Loop...\n",
      "Done!\n"
     ]
    }
   ],
   "source": [
    "import math\n",
    "BATCH_SIZE = 64\n",
    "EVAL_DIR = CHECKPOINT_DIR\n",
    "NUM_TEST_IMAGES = 10000\n",
    "\n",
    "with tf.Graph().as_default():\n",
    "    images, labels = create_cifar_tensors('test')\n",
    "    logits = my_cnn(images, num_classes=NUM_CLASSES, is_training=False)\n",
    "    predictions = tf.argmax(logits, 1)\n",
    "\n",
    "    # Define the metrics:\n",
    "    names_to_values, names_to_updates = slim.metrics.aggregate_metric_map({\n",
    "        'eval/Accuracy': slim.metrics.streaming_accuracy(predictions, labels),\n",
    "        'eval/Recall@5': slim.metrics.streaming_recall_at_k(logits, labels, 5),\n",
    "    })\n",
    "    \n",
    "    # Create the summary ops such that they also print out to std output:\n",
    "    summary_ops = []\n",
    "    for name, value in names_to_values.iteritems():\n",
    "        op = tf.scalar_summary(name, value, collections=[])\n",
    "        op = tf.Print(op, [value], name)\n",
    "        tf.add_to_collection(tf.GraphKeys.SUMMARIES, op)\n",
    "        summary_ops.append(op)\n",
    "\n",
    "    \n",
    "    # This ensures that we make a single pass over all of the data.\n",
    "    # TODO: How to handle case where test size is not integer multiple of batch size?\n",
    "    num_batches = math.ceil(NUM_TEST_IMAGES / float(BATCH_SIZE))\n",
    "\n",
    "    print('Running evaluation Loop...')\n",
    "    \n",
    "    slim.evaluation.evaluation_loop(\n",
    "        master='',\n",
    "        checkpoint_dir=CHECKPOINT_DIR,  # Restores model from this checkpoint.\n",
    "        logdir=EVAL_DIR,\n",
    "        num_evals=num_batches,\n",
    "        eval_op=names_to_updates.values(),\n",
    "        summary_op=tf.merge_summary(summary_ops),\n",
    "        max_number_of_evaluations=1, # Only run loop once\n",
    "        eval_interval_secs=1)\n",
    "    print('Done!')\n",
    "    \n",
    "# To print the eval, we need to use tensorboard to decode the files in EVAL_DIR...\n",
    "# TODO: Make this print to screen while running."
   ]
  },
  {
   "cell_type": "markdown",
   "metadata": {},
   "source": [
    "### Apply the model to some test images."
   ]
  },
  {
   "cell_type": "code",
   "execution_count": 45,
   "metadata": {
    "collapsed": false
   },
   "outputs": [
    {
     "name": "stdout",
     "output_type": "stream",
     "text": [
      "(5, 10)\n",
      "[[ 0.10011527  0.09608188  0.10562347  0.09711935  0.09762073  0.10073517\n",
      "   0.09946882  0.09867113  0.10392854  0.10063568]\n",
      " [ 0.10011527  0.09608188  0.10562347  0.09711935  0.09762073  0.10073517\n",
      "   0.09946882  0.09867113  0.10392854  0.10063568]\n",
      " [ 0.10011527  0.09608188  0.10562347  0.09711935  0.09762073  0.10073517\n",
      "   0.09946882  0.09867113  0.10392854  0.10063568]\n",
      " [ 0.10011527  0.09608188  0.10562347  0.09711935  0.09762073  0.10073517\n",
      "   0.09946882  0.09867113  0.10392854  0.10063568]\n",
      " [ 0.10011527  0.09608188  0.10562347  0.09711935  0.09762073  0.10073517\n",
      "   0.09946882  0.09867113  0.10392854  0.10063568]]\n",
      "[ 1.  1.  1.  1.  1.]\n"
     ]
    }
   ],
   "source": [
    "with tf.Graph().as_default():\n",
    "    # Use random images. They must be the same size as the preprocessed training set, because we are restoring\n",
    "    # fully connected layers from the checkpoint.\n",
    "    n_images = 5\n",
    "    image_node = tf.random_uniform([n_images, 24, 24, 3], maxval=1)\n",
    "  \n",
    "    # Create the model structure. (Parameters will be loaded below.)\n",
    "    logits_node = my_cnn(image_node, num_classes=NUM_CLASSES, is_training=False)\n",
    "    prob_node = tf.nn.softmax(logits_node)\n",
    "    \n",
    "    # Make a session which restores the old parameters from a checkpoint.\n",
    "    sv = tf.train.Supervisor(logdir=CHECKPOINT_DIR)\n",
    "    with sv.managed_session() as sess:\n",
    "        probs = sess.run(prob_node)\n",
    "\n",
    "print(probs.shape)  # 5x10\n",
    "print(probs)\n",
    "print(np.sum(probs, 1)) # Each row sums to 1"
   ]
  },
  {
   "cell_type": "markdown",
   "metadata": {},
   "source": [
    "# Using pre-trained models\n",
    "<a id='Pretrained'></a>\n",
    "\n",
    "Neural nets work best when they have many parameters, making them very flexible function approximators.\n",
    "However, this  means they must be trained on big datasets. Since this process is slow, we provide various pre-trained models. In particular, you can download the following pre-trained CNNs for image classification, all trained on [ILSVRC 2012](http://www.image-net.org/challenges/LSVRC/2012/index) with 1000 mutually exclusive class labels:\n",
    "\n",
    "<html>\n",
    "<body>\n",
    "<table border=\"1\">\n",
    "<tr>\n",
    "<td>Model</td>\n",
    "<td>Slim spec</td>\n",
    "<td>Checkpoint</td>\n",
    "</tr>\n",
    "<tr>\n",
    "<td><a href=\"http://www.robots.ox.ac.uk/~vgg/research/very_deep/\">VGG-16</a></td>\n",
    "<td><a href=\"https://github.com/tensorflow/tensorflow/blob/master/tensorflow/contrib/slim/python/slim/nets/vgg.py\">File</a></td>\n",
    "<td><a href=\"http://download.tensorflow.org/models/vgg_16.tar.gz\">File</a></td>\n",
    "</tr>\n",
    "<tr>\n",
    "<td><a href=\"http://www.robots.ox.ac.uk/~vgg/research/very_deep/\">VGG-19</a></td>\n",
    "<td><a href=\"https://github.com/tensorflow/tensorflow/blob/master/tensorflow/contrib/slim/python/slim/nets/vgg.py\">File</a></td>\n",
    "<td><a href=\"http://download.tensorflow.org/models/vgg_19.tar.gz\">File</a></td>\n",
    "</tr>\n",
    "<tr>\n",
    "<td><a href=\"https://arxiv.org/abs/1409.4842\">Inception-v1</a></td>\n",
    "<td><a href=\"\n",
    "https://github.com/tensorflow/tensorflow/blob/master/tensorflow/contrib/slim/python/slim/nets/inception_v1.py\">File</a></td>\n",
    "<td><a href=\"http://download.tensorflow.org/models/inception_v1.tar.gz\">File</a></td>\n",
    "</tr>\n",
    "<tr>\n",
    "<td><a href=\"http://arxiv.org/abs/1502.03167\">Inception-v2</a></td>\n",
    "<td><a href=\"https://github.com/tensorflow/tensorflow/blob/master/tensorflow/contrib/slim/python/slim/nets/inception-v2.py\">File</a></td>\n",
    "<td><a href=\"http://download.tensorflow.org/models/inception_v2.tar.gz\">File</a></td>\n",
    "</tr>\n",
    "<tr>\n",
    "<td><a href=\"http://arxiv.org/abs/1512.00567\">Inception-v3</a></td>\n",
    "<td><a href=\"https://github.com/tensorflow/tensorflow/blob/master/tensorflow/contrib/slim/python/slim/nets/inception-v3.py\">File</a></td>\n",
    "<td><a href=\"http://download.tensorflow.org/models/inception_v3.tar.gz\">File</a></td>\n",
    "</tr>\n",
    "<tr>\n",
    "<td><a href=\"https://arxiv.org/abs/1602.07261\">Inception-v4 (ResCeption)</a></td>\n",
    "<td>Coming soon</td>\n",
    "<td>Coming soon</td>\n",
    "</tr>\n",
    "<tr>\n",
    "<td><a href=\"https://arxiv.org/abs/1512.03385\">Resnet-50</a></td>\n",
    "<td><a href=\"https://github.com/tensorflow/tensorflow/blob/master/tensorflow/contrib/slim/python/slim/nets/resnet_v1.py\">File</a></td>\n",
    "<td><a href=\"http://download.tensorflow.org/models/resnet_v1_50.tar.gz\">File</a></td>\n",
    "</tr>\n",
    "<tr>\n",
    "<td><a href=\"https://arxiv.org/abs/1512.03385\">Resnet-101</a></td>\n",
    "<td><a href=\"https://github.com/tensorflow/tensorflow/blob/master/tensorflow/contrib/slim/python/slim/nets/resnet_v1.py\">File</a></td>\n",
    "<td><a href=\"http://download.tensorflow.org/models/resnet_v1_101.tar.gz\">File</a></td>\n",
    "</tr>\n",
    "<tr>\n",
    "<td><a href=\"https://arxiv.org/abs/1512.03385\">Resnet-152</a></td>\n",
    "<td><a href=\"https://github.com/tensorflow/tensorflow/blob/master/tensorflow/contrib/slim/python/slim/nets/resnet_v1.py\">File</a></td>\n",
    "<td><a href=\"http://download.tensorflow.org/models/resnet_v1_152.tar.gz\">File</a></td>\n",
    "</tr>\n",
    "</table>\n",
    "</body>\n",
    "</html>\n",
    "\n",
    "\n",
    "You can either use these models as-is, or you can perform \"surgery\" on them, to modify them for some other task. For example, it is common to \"chop off\" the final pre-softmax layer, and replace it with a new set of weights corresponding to some new set of labels. You can then quickly fine tune the new model on a small new dataset. We illustrate this below, using inception-v3 as the base model.\n"
   ]
  },
  {
   "cell_type": "markdown",
   "metadata": {},
   "source": [
    "### Download inception checkpoint.\n",
    "\n",
    "The checkpoint just contains the parameters, not the model structure, so we need to know which python function was used to create the model. The checkpoint and the model spec file must use the same layer names, etc."
   ]
  },
  {
   "cell_type": "code",
   "execution_count": 59,
   "metadata": {
    "collapsed": false
   },
   "outputs": [
    {
     "name": "stdout",
     "output_type": "stream",
     "text": [
      ">> Downloading inception-v3-2016-03-01.tar.gz 100.0%('Successfully downloaded', 'inception-v3-2016-03-01.tar.gz', 399307177, 'bytes.')\n"
     ]
    },
    {
     "ename": "NameError",
     "evalue": "name 'tarfile' is not defined",
     "output_type": "error",
     "traceback": [
      "\u001b[0;31m---------------------------------------------------------------------------\u001b[0m",
      "\u001b[0;31mNameError\u001b[0m                                 Traceback (most recent call last)",
      "\u001b[0;32m<ipython-input-59-9fc7ca022710>\u001b[0m in \u001b[0;36m<module>\u001b[0;34m()\u001b[0m\n\u001b[1;32m     17\u001b[0m     \u001b[0mstatinfo\u001b[0m \u001b[0;34m=\u001b[0m \u001b[0mos\u001b[0m\u001b[0;34m.\u001b[0m\u001b[0mstat\u001b[0m\u001b[0;34m(\u001b[0m\u001b[0mfilepath\u001b[0m\u001b[0;34m)\u001b[0m\u001b[0;34m\u001b[0m\u001b[0m\n\u001b[1;32m     18\u001b[0m     \u001b[0;32mprint\u001b[0m\u001b[0;34m(\u001b[0m\u001b[0;34m'Successfully downloaded'\u001b[0m\u001b[0;34m,\u001b[0m \u001b[0mfilename\u001b[0m\u001b[0;34m,\u001b[0m \u001b[0mstatinfo\u001b[0m\u001b[0;34m.\u001b[0m\u001b[0mst_size\u001b[0m\u001b[0;34m,\u001b[0m \u001b[0;34m'bytes.'\u001b[0m\u001b[0;34m)\u001b[0m\u001b[0;34m\u001b[0m\u001b[0m\n\u001b[0;32m---> 19\u001b[0;31m     \u001b[0mtarfile\u001b[0m\u001b[0;34m.\u001b[0m\u001b[0mopen\u001b[0m\u001b[0;34m(\u001b[0m\u001b[0mfilepath\u001b[0m\u001b[0;34m,\u001b[0m \u001b[0;34m'r:gz'\u001b[0m\u001b[0;34m)\u001b[0m\u001b[0;34m.\u001b[0m\u001b[0mextractall\u001b[0m\u001b[0;34m(\u001b[0m\u001b[0minception_folder\u001b[0m\u001b[0;34m)\u001b[0m\u001b[0;34m\u001b[0m\u001b[0m\n\u001b[0m\u001b[1;32m     20\u001b[0m \u001b[0;34m\u001b[0m\u001b[0m\n",
      "\u001b[0;31mNameError\u001b[0m: name 'tarfile' is not defined"
     ]
    }
   ],
   "source": [
    "import six\n",
    "import sys\n",
    "from six.moves import urllib\n",
    "import os\n",
    "import tarfile\n",
    "\n",
    "#url = 'http://download.tensorflow.org/models/image/imagenet/inception-v3-2016-03-01.tar.gz'\n",
    "url = \"http://download.tensorflow.org/models/inception_v3.tar.gz\"\n",
    "inception_folder = '/tmp/tf/inception-v3'\n",
    "if not os.path.exists(inception_folder):\n",
    "    os.mkdir(inception_folder)\n",
    "filename = url.split('/')[-1]\n",
    "filepath = os.path.join(inception_folder, filename)\n",
    "if not os.path.exists(filepath):\n",
    "    def _progress(count, block_size, total_size):\n",
    "        sys.stdout.write('\\r>> Downloading %s %.1f%%' % (filename,\n",
    "            float(count * block_size) / float(total_size) * 100.0))\n",
    "        sys.stdout.flush()\n",
    "    filepath, _ = urllib.request.urlretrieve(url, filepath, _progress)\n",
    "    statinfo = os.stat(filepath)\n",
    "    print('Successfully downloaded', filename, statinfo.st_size, 'bytes.')\n",
    "    tarfile.open(filepath, 'r:gz').extractall(inception_folder)\n",
    "\n"
   ]
  },
  {
   "cell_type": "markdown",
   "metadata": {},
   "source": [
    "### Apply pretrained model to some images."
   ]
  },
  {
   "cell_type": "code",
   "execution_count": 62,
   "metadata": {
    "collapsed": false
   },
   "outputs": [
    {
     "ename": "AttributeError",
     "evalue": "'module' object has no attribute 'nets'",
     "output_type": "error",
     "traceback": [
      "\u001b[0;31m---------------------------------------------------------------------------\u001b[0m",
      "\u001b[0;31mAttributeError\u001b[0m                            Traceback (most recent call last)",
      "\u001b[0;32m<ipython-input-62-8378cd9c86d0>\u001b[0m in \u001b[0;36m<module>\u001b[0;34m()\u001b[0m\n\u001b[1;32m      4\u001b[0m \u001b[0;34m\u001b[0m\u001b[0m\n\u001b[1;32m      5\u001b[0m     \u001b[0;31m# Adapt the inception V3 architecture for a 10-class task:\u001b[0m\u001b[0;34m\u001b[0m\u001b[0;34m\u001b[0m\u001b[0m\n\u001b[0;32m----> 6\u001b[0;31m     \u001b[0mscope\u001b[0m \u001b[0;34m=\u001b[0m \u001b[0mslim\u001b[0m\u001b[0;34m.\u001b[0m\u001b[0mnets\u001b[0m\u001b[0;34m.\u001b[0m\u001b[0minception\u001b[0m\u001b[0;34m.\u001b[0m\u001b[0minception_v3_arg_scope\u001b[0m\u001b[0;34m(\u001b[0m\u001b[0mis_training\u001b[0m\u001b[0;34m=\u001b[0m\u001b[0mTrue\u001b[0m\u001b[0;34m)\u001b[0m\u001b[0;34m\u001b[0m\u001b[0m\n\u001b[0m\u001b[1;32m      7\u001b[0m     \u001b[0;32mwith\u001b[0m \u001b[0mslim\u001b[0m\u001b[0;34m.\u001b[0m\u001b[0marg_scope\u001b[0m\u001b[0;34m(\u001b[0m\u001b[0mscope\u001b[0m\u001b[0;34m)\u001b[0m\u001b[0;34m:\u001b[0m\u001b[0;34m\u001b[0m\u001b[0m\n\u001b[1;32m      8\u001b[0m         \u001b[0mlogits\u001b[0m\u001b[0;34m,\u001b[0m \u001b[0mend_points\u001b[0m \u001b[0;34m=\u001b[0m \u001b[0mslim\u001b[0m\u001b[0;34m.\u001b[0m\u001b[0mnets\u001b[0m\u001b[0;34m.\u001b[0m\u001b[0minception\u001b[0m\u001b[0;34m.\u001b[0m\u001b[0minception_v3\u001b[0m\u001b[0;34m(\u001b[0m\u001b[0mimages\u001b[0m\u001b[0;34m,\u001b[0m \u001b[0mnum_classes\u001b[0m\u001b[0;34m=\u001b[0m\u001b[0;36m10\u001b[0m\u001b[0;34m)\u001b[0m\u001b[0;34m\u001b[0m\u001b[0m\n",
      "\u001b[0;31mAttributeError\u001b[0m: 'module' object has no attribute 'nets'"
     ]
    }
   ],
   "source": [
    "import tensorflow.contrib.slim.nets as nets\n",
    "\n",
    "with tf.Graph().as_default():\n",
    "    # Create 32 dummy images\n",
    "    images = tf.ones((32, 224, 224, 3))\n",
    "\n",
    "    # Adapt the inception V3 architecture for a 10-class task:\n",
    "    scope = nets.inception.inception_v3_arg_scope(is_training=True)\n",
    "    with slim.arg_scope(scope):\n",
    "        logits, end_points = nets.inception.inception_v3(images, num_classes=10)\n",
    "\n",
    "    print('Output size: ')\n",
    "    print(logits.get_shape())"
   ]
  },
  {
   "cell_type": "markdown",
   "metadata": {},
   "source": [
    "### Fine-tune the model on a different set of labels.\n"
   ]
  },
  {
   "cell_type": "code",
   "execution_count": null,
   "metadata": {
    "collapsed": true
   },
   "outputs": [],
   "source": []
  }
 ],
 "metadata": {
  "kernelspec": {
   "display_name": "Python 2",
   "language": "python",
   "name": "python2"
  },
  "language_info": {
   "codemirror_mode": {
    "name": "ipython",
    "version": 2
   },
   "file_extension": ".py",
   "mimetype": "text/x-python",
   "name": "python",
   "nbconvert_exporter": "python",
   "pygments_lexer": "ipython2",
   "version": "2.7.6"
  }
 },
 "nbformat": 4,
 "nbformat_minor": 0
}
