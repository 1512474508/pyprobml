{
 "cells": [
  {
   "cell_type": "markdown",
   "metadata": {},
   "source": [
    "# TF-Slim 2.0 Walkthrough\n",
    "\n",
    "This notebook will walk you through the basics of using TF-Slim to define, train and evaluate neural networks on various tasks. It assumes a basic knowledge of neural networks. "
   ]
  },
  {
   "cell_type": "markdown",
   "metadata": {},
   "source": [
    "## Table of contents\n",
    "\n",
    "<a href='#MLP'>Creating your first neural network with slim</a><br>\n",
    "<a href='#SlimData'>Slim datasets</a><br>\n",
    "<a href='#CNN'>Training a convolutional neural network (CNN)</a><br>\n",
    "<a href='#Pretained'>Using pre-trained models</a><br>\n"
   ]
  },
  {
   "cell_type": "code",
   "execution_count": 64,
   "metadata": {
    "collapsed": false
   },
   "outputs": [],
   "source": [
    "import tensorflow as tf\n",
    "import tensorflow.contrib.slim as slim\n",
    "import matplotlib\n",
    "%matplotlib inline\n",
    "import matplotlib.pyplot as plt\n",
    "import numpy as np"
   ]
  },
  {
   "cell_type": "code",
   "execution_count": 2,
   "metadata": {
    "collapsed": false
   },
   "outputs": [
    {
     "name": "stdout",
     "output_type": "stream",
     "text": [
      "You have TF version 0.10.0rc0\n"
     ]
    }
   ],
   "source": [
    "# Check that TF version is up to date\n",
    "ver = tf.__version__\n",
    "# e.g., ver = \"0.9.0\" or \"0.10.0rc0\"\n",
    "ver_parts = ver.split(\".\")\n",
    "if (int(ver_parts[0]) > 0) or (int(ver_parts[1]) >= 10):\n",
    "    print 'You have TF version {}'.format(ver)\n",
    "else:\n",
    "    print 'Warning: You have TF version {}, you need version >= 0.10'.format(ver)"
   ]
  },
  {
   "cell_type": "markdown",
   "metadata": {},
   "source": [
    "## Creating your first neural network with slim\n",
    "<a id='MLP'></a>\n",
    "\n",
    "Below we give some code to create a simple multilayer perceptron (MLP)  which can be used\n",
    "for regression problems. The model has 2 hidden layers.\n",
    "The output is a single node. \n",
    "When this function is called, it will create various nodes, and silently add them to whichever global TF graph is currently in scope. When a node which corresponds to a layer with adjustable parameters (eg., a fully connected layer) is created, additional parameter variable nodes are silently created, and added to the graph. (We will discuss how to train the parameters later.)\n",
    "\n",
    "We use variable scope to put all the nodes under a common name,\n",
    "so that the graph has some hierarchical structure.\n",
    "This is useful when we want to visualize the TF graph in tensorboard, or if we want to query related\n",
    "variables. \n",
    "The fully connected layers all use the same L2 weight decay and ReLu activations, as specified by **arg_scope**. (However, the final layer overrides these defaults, and uses an identity activation function.)\n",
    "\n",
    "We also illustrate how to add a dropout layer after the first fully connected layer (FC1). Note that at test time, \n",
    "we do not drop out nodes, but instead use the average activations; hence we need to know whether the model is being\n",
    "constructed for training or testing, since the computational graph will be different in the two cases\n",
    "(although the variables, storing the model parameters, will be shared, since they have the same name/scope)."
   ]
  },
  {
   "cell_type": "code",
   "execution_count": 65,
   "metadata": {
    "collapsed": true
   },
   "outputs": [],
   "source": [
    "def regression_model(inputs, is_training=True, scope=\"deep_regression\"):\n",
    "  \"\"\"Creates the regression model.\n",
    "  \n",
    "  Args:\n",
    "    input_node: A node that yields a `Tensor` of size [batch_size, dimensions].\n",
    "    is_training: Whether or not we're currently training the model.\n",
    "    scope: An optional variable_op scope for the model.\n",
    "  \n",
    "  Returns:\n",
    "    output_node: 1-D `Tensor` of shape [batch_size] of responses.\n",
    "    nodes: A dict of nodes representing the hidden layers.\n",
    "  \"\"\"\n",
    "  with tf.variable_op_scope([input_node], scope):\n",
    "    nodes = {}\n",
    "    # Set the default weight _regularizer and acvitation for each fully_connected layer.\n",
    "    with slim.arg_scope([slim.fully_connected],\n",
    "                        activation_fn=tf.nn.relu,\n",
    "                        weights_regularizer=slim.l2_regularizer(0.01)):\n",
    "      \n",
    "      # Creates a fully connected layer from the inputs with 10 hidden units.\n",
    "      fc1_node = slim.fully_connected(inputs, 10, scope='fc1')\n",
    "      nodes['fc1'] = fc1_node\n",
    "        \n",
    "      # Adds a dropout layer to prevent over-fitting.\n",
    "      dropout_node = slim.dropout(fc1_node, 0.8, is_training=is_training)\n",
    "      \n",
    "      # Adds another fully connected layer with 5 hidden units.\n",
    "      fc2_node = slim.fully_connected(dropout_node, 5, scope='fc2')\n",
    "      nodes['fc2'] = fc2_node\n",
    "      \n",
    "      # Creates a fully-connected layer with a single hidden unit. Note that the\n",
    "      # layer is made linear by setting activation_fn=None.\n",
    "      prediction_node = slim.fully_connected(fc2_node, 1, activation_fn=None, scope='prediction')\n",
    "      nodes['out'] = prediction_node\n",
    "\n",
    "      return prediction_node, nodes"
   ]
  },
  {
   "cell_type": "markdown",
   "metadata": {},
   "source": [
    "### Let's create the model and examine its structure.\n",
    "\n",
    "We create a TF graph and call regression_model(), which adds nodes (tensors) to the graph. We then examine their shape, and print the names of all the model variables which have been implicitly created inside of each layer. We see that the names of the variables follow the scopes that we specified."
   ]
  },
  {
   "cell_type": "code",
   "execution_count": 6,
   "metadata": {
    "collapsed": false
   },
   "outputs": [
    {
     "name": "stdout",
     "output_type": "stream",
     "text": [
      "Layers\n",
      "name = deep_regression/fc1/Relu:0, shape = (?, 100)\n",
      "name = deep_regression/fc2/Relu:0, shape = (?, 50)\n",
      "name = deep_regression/prediction/BiasAdd:0, shape = (?, 1)\n",
      "Parameters\n",
      "name = deep_regression/fc1/weights:0, shape = (1, 100)\n",
      "name = deep_regression/fc1/biases:0, shape = (100,)\n",
      "name = deep_regression/fc2/weights:0, shape = (100, 50)\n",
      "name = deep_regression/fc2/biases:0, shape = (50,)\n",
      "name = deep_regression/prediction/weights:0, shape = (50, 1)\n",
      "name = deep_regression/prediction/biases:0, shape = (1,)\n"
     ]
    }
   ],
   "source": [
    "tf.reset_default_graph()\n",
    "graph = tf.Graph()\n",
    "with graph.as_default():\n",
    "  # Dummy placeholders for arbitrary number of 1d inputs and outputs\n",
    "  input_node = tf.placeholder(tf.float32, shape=(None, 1))\n",
    "  output_node = tf.placeholder(tf.float32, shape=(None, 1))\n",
    "  \n",
    "  # Build model\n",
    "  prediction_node, all_nodes = regression_model(input_node)\n",
    " \n",
    "  # Print name and shape of each tensor.\n",
    "  print \"Layers\"\n",
    "  for k, v in all_nodes.iteritems():\n",
    "    print 'name = {}, shape = {}'.format(v.name, v.get_shape())\n",
    "    \n",
    "  # Print name and shape of parameter nodes  (values not yet initialized)\n",
    "  print \"Parameters\"\n",
    "  for v in slim.get_model_variables():\n",
    "    print 'name = {}, shape = {}'.format(v.name, v.get_shape())\n",
    "       "
   ]
  },
  {
   "cell_type": "markdown",
   "metadata": {},
   "source": [
    "### Let's create some 1d regression data .\n",
    "\n",
    "We will train and test the model on some noisy observations of a nonlinear function.\n"
   ]
  },
  {
   "cell_type": "code",
   "execution_count": 7,
   "metadata": {
    "collapsed": false
   },
   "outputs": [
    {
     "data": {
      "text/plain": [
       "<matplotlib.collections.PathCollection at 0x7f605a8fc390>"
      ]
     },
     "execution_count": 7,
     "metadata": {},
     "output_type": "execute_result"
    },
    {
     "name": "stderr",
     "output_type": "stream",
     "text": [
      "/usr/lib/pymodules/python2.7/matplotlib/collections.py:548: FutureWarning: elementwise comparison failed; returning scalar instead, but in the future will perform elementwise comparison\n",
      "  if self._edgecolors == 'face':\n"
     ]
    },
    {
     "data": {
      "image/png": "[encoded data removed]",
      "text/plain": [
       "<matplotlib.figure.Figure at 0x7f605ac6ed90>"
      ]
     },
     "metadata": {},
     "output_type": "display_data"
    }
   ],
   "source": [
    "def produce_batch(batch_size, noise=0.3):\n",
    "  xs = np.random.random(size=[batch_size, 1]) * 10\n",
    "  ys = np.sin(xs) + 5 + np.random.normal(size=[batch_size, 1], scale=noise)\n",
    "  return [xs.astype(np.float32), ys.astype(np.float32)]\n",
    "\n",
    "x_train, y_train = produce_batch(100)\n",
    "x_test, y_test = produce_batch(100)\n",
    "plt.scatter(x_train, y_train)"
   ]
  },
  {
   "cell_type": "markdown",
   "metadata": {},
   "source": [
    "### Let's fit the model to the data\n",
    "\n",
    "The user has to specify the loss function and the optimizer, and slim does the rest.\n",
    "In particular,  the slim.learning.train function does the following:\n",
    "\n",
    "- For each iteration, evaluate the train_op, which updates the parameters using the optimizer applied to the current minibatch. Also, update the global_step.\n",
    "- Occasionally store the model checkpoint in the specified directory. This is useful in case your machine crashes  - then you can simply restart from the specified checkpoint.\n",
    "- Occasionally write summaries to ???. These can be examined in tensorboard."
   ]
  },
  {
   "cell_type": "code",
   "execution_count": 66,
   "metadata": {
    "collapsed": false
   },
   "outputs": [
    {
     "name": "stdout",
     "output_type": "stream",
     "text": [
      "Saving to /tmp/tf/regression_model/model1471822840.93\n"
     ]
    }
   ],
   "source": [
    "# Everytime we run training, we need to store the model checkpoint in a new directory,\n",
    "# in case anything has changed.\n",
    "import time\n",
    "ts = time.time()\n",
    "ckpt_dir = '/tmp/tf/regression_model/model{}'.format(ts) # Place to store the checkpoint.\n",
    "print('Saving to {}'.format(ckpt_dir))"
   ]
  },
  {
   "cell_type": "code",
   "execution_count": 67,
   "metadata": {
    "collapsed": true
   },
   "outputs": [],
   "source": [
    "def convert_data_to_tensors(x, y):\n",
    "  input_tensor = tf.constant(x)\n",
    "  input_tensor.set_shape([None, 1])\n",
    "  output_tensor = tf.constant(y)\n",
    "  output_tensor.set_shape([None, 1])\n",
    "  return input_tensor, output_tensor"
   ]
  },
  {
   "cell_type": "code",
   "execution_count": 68,
   "metadata": {
    "collapsed": false
   },
   "outputs": [
    {
     "name": "stdout",
     "output_type": "stream",
     "text": [
      "('Finished training. Last batch loss:', 0.54129779)\n",
      "Checkpoint saved in /tmp/tf/regression_model/model1471822840.93\n"
     ]
    }
   ],
   "source": [
    "graph = tf.Graph() # new graph\n",
    "with graph.as_default():\n",
    "  input_node, output_node = convert_data_to_tensors(x_train, y_train)\n",
    "\n",
    "  # Make the model.\n",
    "  prediction_node, nodes = regression_model(input_node, is_training=True)\n",
    " \n",
    "  # Add the loss function to the graph.\n",
    "  loss_node = slim.losses.sum_of_squares(prediction_node, output_node)\n",
    "  # The total loss is the uers's loss plus any regularization losses.\n",
    "  total_loss_node = slim.losses.get_total_loss()\n",
    "\n",
    "  # Create some summaries to visualize the training process:\n",
    "  ## TODO: add summaries.py to 3p\n",
    "  # slim.summaries.add_scalar_summary(total_loss, 'Total Loss', print_summary=True)\n",
    "  \n",
    "  # Specify the optimizer and create the train op:\n",
    "  optimizer = tf.train.AdamOptimizer(learning_rate=0.01)\n",
    "  train_op_node = slim.learning.create_train_op(total_loss_node, optimizer) \n",
    "\n",
    "  # Run the training inside a session.\n",
    "  final_loss = slim.learning.train(\n",
    "    train_op_node,\n",
    "    logdir=ckpt_dir,\n",
    "    number_of_steps=500,\n",
    "    save_summaries_secs=1)\n",
    "  \n",
    "print(\"Finished training. Last batch loss:\", final_loss)\n",
    "print(\"Checkpoint saved in %s\" % ckpt_dir)"
   ]
  },
  {
   "cell_type": "markdown",
   "metadata": {},
   "source": [
    "### Training with multiple loss functions.\n",
    "\n",
    "Sometimes we have multiple objectives we want to simultaneously optimize.\n",
    "In slim, it is easy to add more losses, as we show below. (We do not optimize the total loss in this example,\n",
    "but we show how to compute it.)"
   ]
  },
  {
   "cell_type": "code",
   "execution_count": 69,
   "metadata": {
    "collapsed": false
   },
   "outputs": [
    {
     "name": "stdout",
     "output_type": "stream",
     "text": [
      "Total Loss1: 23.706877\n",
      "Total Loss2: 23.706879\n",
      "Regularization Losses:\n",
      "Tensor(\"deep_regression/fc1/weights/Regularizer/l2_regularizer:0\", shape=(), dtype=float32)\n",
      "Tensor(\"deep_regression/fc2/weights/Regularizer/l2_regularizer:0\", shape=(), dtype=float32)\n",
      "Tensor(\"deep_regression/prediction/weights/Regularizer/l2_regularizer:0\", shape=(), dtype=float32)\n",
      "Loss Functions:\n",
      "Tensor(\"sum_of_squares_loss/value:0\", shape=(), dtype=float32)\n",
      "Tensor(\"absolute_difference/value:0\", shape=(), dtype=float32)\n"
     ]
    }
   ],
   "source": [
    "graph = tf.Graph()  # Make a new graph\n",
    "with graph.as_default():\n",
    "    input_node, output_node = convert_data_to_tensors(x_train, y_train)\n",
    "    prediction_node, nodes = regression_model(input_node, is_training=True)\n",
    "\n",
    "    # Add multiple loss nodes.\n",
    "    sum_of_squares_loss_node = slim.losses.sum_of_squares(prediction_node, output_node)\n",
    "    absolute_difference_loss_node = slim.losses.absolute_difference(prediction_node, output_node)\n",
    "\n",
    "    # The following two ways to compute the total loss are equivalent\n",
    "    regularization_loss_node = tf.add_n(slim.losses.get_regularization_losses())\n",
    "    total_loss1_node = sum_of_squares_loss_node + absolute_difference_loss_node + regularization_loss_node\n",
    "\n",
    "    # Regularization Loss is included in the total loss by default.\n",
    "    # This is good for training, but not for testing.\n",
    "    total_loss2_node = slim.losses.get_total_loss(add_regularization_losses=True)\n",
    "    \n",
    "    init_node = tf.initialize_all_variables()\n",
    "    with tf.Session() as sess:\n",
    "        sess.run(init_node) # Will randomize the parameters.\n",
    "        total_loss1, total_loss2 = sess.run([total_loss1_node, total_loss2_node])\n",
    "        print('Total Loss1: %f' % total_loss1)\n",
    "        print('Total Loss2: %f' % total_loss2)\n",
    "\n",
    "        print('Regularization Losses:')\n",
    "        for loss_node in slim.losses.get_regularization_losses():\n",
    "            print(loss_node)\n",
    "\n",
    "        print('Loss Functions:')\n",
    "        for loss_node in slim.losses.get_losses():\n",
    "            print(loss_node)"
   ]
  },
  {
   "cell_type": "markdown",
   "metadata": {},
   "source": [
    "### Let's load the saved model and use it for prediction.\n",
    "\n",
    "The predictive accuracy is not very good, because we used a small model,\n",
    "and only trained for 500 steps, to keep the demo fast. \n",
    "Running for 5000 steps improves performance a lot."
   ]
  },
  {
   "cell_type": "code",
   "execution_count": 70,
   "metadata": {
    "collapsed": false
   },
   "outputs": [
    {
     "data": {
      "text/plain": [
       "<matplotlib.text.Text at 0x7f605aba9bd0>"
      ]
     },
     "execution_count": 70,
     "metadata": {},
     "output_type": "execute_result"
    },
    {
     "data": {
      "image/png": "[encoded data removed]",
      "text/plain": [
       "<matplotlib.figure.Figure at 0x7f5fc872aed0>"
      ]
     },
     "metadata": {},
     "output_type": "display_data"
    }
   ],
   "source": [
    "with tf.Graph().as_default():\n",
    "    input_node, output_node = convert_data_to_tensors(x_test, y_test)\n",
    "  \n",
    "    # Create the model structure. (Parameters will be loaded below.)\n",
    "    prediction_node, nodes = regression_model(input_node, is_training=False)\n",
    "\n",
    "    # Make a session which restores the old parameters from a checkpoint.\n",
    "    sv = tf.train.Supervisor(logdir=ckpt_dir)\n",
    "    with sv.managed_session() as sess:\n",
    "        inputs, predictions, true_outputs = sess.run([input_node, prediction_node, output_node])\n",
    "\n",
    "plt.scatter(inputs, true_outputs, c='r');\n",
    "plt.scatter(inputs, predictions, c='b');\n",
    "plt.title('red=true, blue=predicted')"
   ]
  },
  {
   "cell_type": "markdown",
   "metadata": {},
   "source": [
    "### Let's examine the learned parameters."
   ]
  },
  {
   "cell_type": "code",
   "execution_count": 71,
   "metadata": {
    "collapsed": false
   },
   "outputs": [
    {
     "name": "stdout",
     "output_type": "stream",
     "text": [
      "deep_regression/fc1/weights:0 (1, 10) [[  6.86316714e-02  -6.80561364e-02   7.10096896e-01  -2.76662763e-02\n",
      "   -2.48074140e-02  -2.00106315e-02   4.12197948e-01  -3.55228173e-12\n",
      "   -1.42687004e-05  -6.96226582e-02]]\n",
      "deep_regression/fc1/biases:0 (10,) [-0.30766055  0.50435835  0.09455653  0.27102098  0.25808412  0.22636877\n",
      " -0.81898034 -0.11437438 -0.08022591 -0.09631462]\n",
      "deep_regression/fc2/weights:0 (10, 5) [[  3.68911028e-01  -4.43955362e-01  -3.39451760e-01  -1.81098148e-01\n",
      "    2.91641325e-01]\n",
      " [ -3.96612100e-02  -2.23102584e-01   4.76647429e-02   1.55043051e-01\n",
      "   -6.68772161e-02]\n",
      " [ -2.61975855e-01   5.81680298e-01   4.49511915e-01  -9.52775255e-02\n",
      "   -1.85150772e-01]\n",
      " [  3.83454859e-02   1.86206907e-01   3.11659239e-02   1.75165594e-01\n",
      "    8.93772617e-02]\n",
      " [  1.51641920e-01   1.40035689e-01  -1.52395830e-01   2.09932104e-01\n",
      "    2.18721822e-01]\n",
      " [  3.04772973e-01   4.08231109e-01  -3.93447399e-01   9.52337161e-02\n",
      "   -4.02020365e-02]\n",
      " [  3.35297227e-01  -3.49392325e-01   4.06236023e-01  -7.93705821e-01\n",
      "    6.16693437e-01]\n",
      " [ -7.51023271e-11   1.00750720e-10  -3.01529223e-12   1.72273806e-10\n",
      "   -4.80473682e-11]\n",
      " [  6.26216527e-13  -1.23626101e-11   6.09688341e-12  -3.56005156e-13\n",
      "    6.45137481e-13]\n",
      " [ -4.03359991e-06  -1.72615081e-01   2.06037788e-04   2.31515501e-11\n",
      "    1.01379966e-02]]\n",
      "deep_regression/fc2/biases:0 (5,) [ 1.2753315   0.59371269 -0.0347045   1.14525259  0.90578961]\n",
      "deep_regression/prediction/weights:0 (5, 1) [[ 1.3595221 ]\n",
      " [ 0.85060793]\n",
      " [ 0.02773999]\n",
      " [ 1.57744086]\n",
      " [ 0.52451169]]\n",
      "deep_regression/prediction/biases:0 (1,) [ 0.65029973]\n"
     ]
    }
   ],
   "source": [
    "with tf.Graph().as_default():\n",
    "    input_node = tf.placeholder(tf.float32, shape=(None, 1))\n",
    "    output_node = tf.placeholder(tf.float32, shape=(None, 1))\n",
    "    prediction_node, nodes = regression_model(input_node, is_training=False)\n",
    "  \n",
    "    sv = tf.train.Supervisor(logdir=ckpt_dir)\n",
    "    with sv.managed_session() as sess:\n",
    "        model_variables = slim.get_model_variables()\n",
    "        for v in model_variables:\n",
    "            val = sess.run(v)\n",
    "            print v.name, val.shape, val\n"
   ]
  },
  {
   "cell_type": "markdown",
   "metadata": {},
   "source": [
    "### Let's compute various evaluation metrics on the test set.\n",
    "\n",
    "In slim termiology, losses are optimized, but metrics (which may not be differentiable, e.g., precision and recall) are just measured.\n",
    "As an illustration, the code below computes mean squared error and mean absolute error metrics on the test set.\n",
    "\n",
    "Each metric declaration creates several local variables (which must be initialized via tf.initialize_local_variables()) and returns both a value_op and an update_op. When evaluated, the value_op returns the current value of the metric. The update_op loads a new batch of data, runs the model, obtains the predictions and accumulates the metric statistics appropriately before returning the current value of the metric. We store these value nodes and update nodes in 2 dictionaries.\n",
    "\n",
    "After creating the metric nodes, we can pass them to slim.evaluation.evaluation, which repeatedly evaluates these nodes the specified number of times. (This allows us to compute the evaluation in a streaming fashion across minibatches, which is usefulf for large datasets.) Finally, we print the final value of each metric.\n"
   ]
  },
  {
   "cell_type": "code",
   "execution_count": 72,
   "metadata": {
    "collapsed": false
   },
   "outputs": [
    {
     "name": "stdout",
     "output_type": "stream",
     "text": [
      "Mean Squared Error: 19.301304\n",
      "Mean Absolute Error: 4.292755\n"
     ]
    }
   ],
   "source": [
    "with tf.Graph().as_default():\n",
    "    input_node, output_node = convert_data_to_tensors(x_test, y_test)\n",
    "    prediction_node, nodes = regression_model(input_node, is_training=False)\n",
    "\n",
    "    # Specify metrics to evaluate:\n",
    "    names_to_value_nodes, names_to_update_nodes = slim.metrics.aggregate_metric_map({\n",
    "      'Mean Squared Error': slim.metrics.streaming_mean_squared_error(prediction_node, output_node),\n",
    "      'Mean Absolute Error': slim.metrics.streaming_mean_absolute_error(prediction_node, output_node)\n",
    "    })\n",
    "\n",
    "\n",
    "    init_node = tf.group(\n",
    "        tf.initialize_all_variables(),\n",
    "        tf.initialize_local_variables())\n",
    "\n",
    "    # Make a session which restores the old graph parameters, and then run eval.\n",
    "    sv = tf.train.Supervisor(logdir=ckpt_dir)\n",
    "    with sv.managed_session() as sess:\n",
    "        metric_values = slim.evaluation.evaluation(\n",
    "            sess,\n",
    "            num_evals=1, # Single pass over data\n",
    "            init_op=init_node,\n",
    "            eval_op=names_to_update_nodes.values(),\n",
    "            final_op=names_to_value_nodes.values())\n",
    "\n",
    "    names_to_values = dict(zip(names_to_value_nodes.keys(), metric_values))\n",
    "    for key, value in names_to_values.iteritems():\n",
    "      print('%s: %f' % (key, value))"
   ]
  },
  {
   "cell_type": "markdown",
   "metadata": {},
   "source": [
    "# Slim datasets\n",
    "<a id='SlimData'></a>\n",
    "\n",
    "Slim Datasets can be created from data stored in various\n",
    "file formats. The dataset object contains metadata, so it knows what kind of data is stored in the file, and how big the file is.\n",
    "For example, some files contain images with labels and bounding boxes, some just images and labels,\n",
    "etc. Later we show how to read from multiple datasets in parallel, which is useful for multitask learning.\n",
    "\n",
    "Slim versions of various standard image datasets can be found at https://cs.corp.google.com/piper///depot/google3/third_party/tensorflow_models/slim/datasets/.\n",
    "This includes\n",
    "\n",
    "* [CIFAR](https://www.cs.toronto.edu/~kriz/cifar.html)\n",
    "* [ImageNet ILSVRC2012 image classification challenge](http://www.image-net.org/challenges/LSVRC/2012/index)\n",
    "* [MSCOCO](http://mscoco.org/)\n",
    "* [Pascal VOC 2012](http://host.robots.ox.ac.uk/pascal/VOC/)\n",
    "\n",
    "These have been converted from their original format into TFRecord files, containing TFExamples with a consistent convention for naming the keys and values inside each example. We also provide code to create slim Datasets from these files.\n",
    "\n",
    "Once we have a Dataset, we can create a slim DataProvider, which is an object which can \"provide\" mininatches of data tensors on demand. This allows the main code to abstract away the details of how the data is stored. It also allows data to be read in parallel using queue runners, to support high throughput processing.\n",
    "\n",
    "Below we give an example of using the CIFAR10 dataset, which has images and labels."
   ]
  },
  {
   "cell_type": "markdown",
   "metadata": {},
   "source": [
    "### Download the data.\n",
    "\n",
    "To save time, we just download the test file from the web."
   ]
  },
  {
   "cell_type": "code",
   "execution_count": 48,
   "metadata": {
    "collapsed": false
   },
   "outputs": [],
   "source": [
    "# Retrieve the data.\n",
    "import six\n",
    "import sys\n",
    "from six.moves import urllib\n",
    "import os\n",
    "url = 'https://github.com/probml/pyprobml/blob/master/tensorflow/cifar10_test.tfrecord'\n",
    "cifar10_folder = '/tmp/tf/cifar10'\n",
    "filename = os.path.join(cifar10_folder, 'cifar10_test.tfrecord')\n",
    "urllib.request.urlretrieve(url, filename) # Corrupted?\n",
    "cifar10_folder = '/tmp/cifar10' # Data put here using Nathan's script"
   ]
  },
  {
   "cell_type": "markdown",
   "metadata": {},
   "source": [
    "### Convert data to slim  format."
   ]
  },
  {
   "cell_type": "code",
   "execution_count": null,
   "metadata": {
    "collapsed": true
   },
   "outputs": [],
   "source": [
    "# %load https://raw.githubusercontent.com/probml/pyprobml/master/tensorflow/cifar10_make_slim_dataset.py\n",
    "import tensorflow as tf\n",
    "\n",
    " \n",
    "def make_cifar_dataset(split_name, tf_folder):\n",
    "    \"\"\"Make a dataset object from cifar10 tfrecord file.\n",
    "\n",
    "    Args:\n",
    "      split_name: \"train\" or \"test\"\n",
    "      tf_folder: The base directory of the dataset sources.\n",
    "\n",
    "    Returns:\n",
    "      A `Dataset` namedtuple.\n",
    "\n",
    "    Raises:\n",
    "      ValueError: if `split_name` is not a valid train/test split.\n",
    "    \"\"\"\n",
    "    SPLITS_TO_SIZES = {'train': 50000, 'test': 10000}\n",
    "\n",
    "    ITEMS_TO_DESCRIPTIONS = {\n",
    "        'image': 'A [32 x 32 x 3] color image.',\n",
    "        'label': 'A single integer between 0 and 9',\n",
    "    }\n",
    "    if split_name not in SPLITS_TO_SIZES:\n",
    "        raise ValueError('split name %s was not recognized.' % split_name)\n",
    "\n",
    "    file_pattern =  '%s/cifar10_%s.tfrecord' % (tf_folder, split_name)\n",
    "\n",
    "    keys_to_features = {\n",
    "        'image/encoded': tf.FixedLenFeature((), tf.string, default_value=''),\n",
    "        'image/format': tf.FixedLenFeature((), tf.string, default_value='png'),\n",
    "        'image/class/label': tf.FixedLenFeature(\n",
    "            [], tf.int64, default_value=tf.zeros([], dtype=tf.int64)),\n",
    "    }\n",
    "\n",
    "    items_to_handlers = {\n",
    "        'image': slim.tfexample_decoder.Image(shape=[32, 32, 3]),\n",
    "        'label': slim.tfexample_decoder.Tensor('image/class/label'),\n",
    "    }\n",
    "\n",
    "    decoder = slim.tfexample_decoder.TFExampleDecoder(\n",
    "        keys_to_features, items_to_handlers)\n",
    "   \n",
    "    return slim.dataset.Dataset(\n",
    "        data_sources=file_pattern,\n",
    "        reader=tf.TFRecordReader,\n",
    "        decoder=decoder,\n",
    "        num_samples=SPLITS_TO_SIZES[split_name],\n",
    "        items_to_descriptions=ITEMS_TO_DESCRIPTIONS)\n"
   ]
  },
  {
   "cell_type": "code",
   "execution_count": 54,
   "metadata": {
    "collapsed": false
   },
   "outputs": [
    {
     "name": "stdout",
     "output_type": "stream",
     "text": [
      "Dataset(data_sources='/tmp/cifar10/cifar10_test.tfrecord', reader=<class 'tensorflow.python.ops.io_ops.TFRecordReader'>, decoder=<tensorflow.contrib.slim.python.slim.data.tfexample_decoder.TFExampleDecoder object at 0x7f602851d8d0>, num_samples=10000, items_to_descriptions={'image': 'A [32 x 32 x 3] color image.', 'label': 'A single integer between 0 and 9'})\n"
     ]
    }
   ],
   "source": [
    "dataset = make_cifar_dataset('test', cifar10_folder) # Must be constructed inside tf.graph()\n",
    "print(dataset)"
   ]
  },
  {
   "cell_type": "markdown",
   "metadata": {},
   "source": [
    "### Display the first image and its label."
   ]
  },
  {
   "cell_type": "code",
   "execution_count": 55,
   "metadata": {
    "collapsed": false
   },
   "outputs": [
    {
     "ename": "ValueError",
     "evalue": "Tensor(\"ParseSingleExample/ParseExample/Reshape:0\", shape=(), dtype=string) must be from the same graph as Tensor(\"zeros_1:0\", shape=(), dtype=int64).",
     "output_type": "error",
     "traceback": [
      "\u001b[0;31m---------------------------------------------------------------------------\u001b[0m",
      "\u001b[0;31mValueError\u001b[0m                                Traceback (most recent call last)",
      "\u001b[0;32m<ipython-input-55-959bc329be54>\u001b[0m in \u001b[0;36m<module>\u001b[0;34m()\u001b[0m\n\u001b[1;32m      5\u001b[0m     \u001b[0;31m#dataset = make_cifar_dataset('test', cifar10_folder)\u001b[0m\u001b[0;34m\u001b[0m\u001b[0;34m\u001b[0m\u001b[0m\n\u001b[1;32m      6\u001b[0m     data_provider = slim.dataset_data_provider.DatasetDataProvider(\n\u001b[0;32m----> 7\u001b[0;31m         dataset, common_queue_capacity=32, common_queue_min=1)\n\u001b[0m\u001b[1;32m      8\u001b[0m     \u001b[0;32mprint\u001b[0m\u001b[0;34m(\u001b[0m\u001b[0;34m\"This dataset contains data of type {}\"\u001b[0m\u001b[0;34m.\u001b[0m\u001b[0mformat\u001b[0m\u001b[0;34m(\u001b[0m\u001b[0mdata_provider\u001b[0m\u001b[0;34m.\u001b[0m\u001b[0mlist_items\u001b[0m\u001b[0;34m(\u001b[0m\u001b[0;34m)\u001b[0m\u001b[0;34m)\u001b[0m\u001b[0;34m)\u001b[0m\u001b[0;34m\u001b[0m\u001b[0m\n\u001b[1;32m      9\u001b[0m \u001b[0;34m\u001b[0m\u001b[0m\n",
      "\u001b[0;32m/usr/local/lib/python2.7/dist-packages/tensorflow/contrib/slim/python/slim/data/dataset_data_provider.pyc\u001b[0m in \u001b[0;36m__init__\u001b[0;34m(self, dataset, num_readers, shuffle, num_epochs, common_queue_capacity, common_queue_min)\u001b[0m\n\u001b[1;32m     70\u001b[0m \u001b[0;34m\u001b[0m\u001b[0m\n\u001b[1;32m     71\u001b[0m     \u001b[0mitems\u001b[0m \u001b[0;34m=\u001b[0m \u001b[0mdataset\u001b[0m\u001b[0;34m.\u001b[0m\u001b[0mdecoder\u001b[0m\u001b[0;34m.\u001b[0m\u001b[0mlist_items\u001b[0m\u001b[0;34m(\u001b[0m\u001b[0;34m)\u001b[0m\u001b[0;34m\u001b[0m\u001b[0m\n\u001b[0;32m---> 72\u001b[0;31m     \u001b[0mtensors\u001b[0m \u001b[0;34m=\u001b[0m \u001b[0mdataset\u001b[0m\u001b[0;34m.\u001b[0m\u001b[0mdecoder\u001b[0m\u001b[0;34m.\u001b[0m\u001b[0mdecode\u001b[0m\u001b[0;34m(\u001b[0m\u001b[0mdata\u001b[0m\u001b[0;34m,\u001b[0m \u001b[0mitems\u001b[0m\u001b[0;34m)\u001b[0m\u001b[0;34m\u001b[0m\u001b[0m\n\u001b[0m\u001b[1;32m     73\u001b[0m \u001b[0;34m\u001b[0m\u001b[0m\n\u001b[1;32m     74\u001b[0m     super(DatasetDataProvider, self).__init__(\n",
      "\u001b[0;32m/usr/local/lib/python2.7/dist-packages/tensorflow/contrib/slim/python/slim/data/tfexample_decoder.pyc\u001b[0m in \u001b[0;36mdecode\u001b[0;34m(self, serialized_example, items)\u001b[0m\n\u001b[1;32m    321\u001b[0m     example = parsing_ops.parse_single_example(\n\u001b[1;32m    322\u001b[0m         \u001b[0mserialized_example\u001b[0m\u001b[0;34m,\u001b[0m\u001b[0;34m\u001b[0m\u001b[0m\n\u001b[0;32m--> 323\u001b[0;31m         self._keys_to_features)\n\u001b[0m\u001b[1;32m    324\u001b[0m \u001b[0;34m\u001b[0m\u001b[0m\n\u001b[1;32m    325\u001b[0m     \u001b[0;31m# Reshape non-sparse elements just once:\u001b[0m\u001b[0;34m\u001b[0m\u001b[0;34m\u001b[0m\u001b[0m\n",
      "\u001b[0;32m/usr/local/lib/python2.7/dist-packages/tensorflow/python/ops/parsing_ops.pyc\u001b[0m in \u001b[0;36mparse_single_example\u001b[0;34m(serialized, features, name, example_names)\u001b[0m\n\u001b[1;32m    451\u001b[0m   return _parse_single_example_raw(\n\u001b[1;32m    452\u001b[0m       \u001b[0mserialized\u001b[0m\u001b[0;34m,\u001b[0m \u001b[0mexample_names\u001b[0m\u001b[0;34m,\u001b[0m \u001b[0msparse_keys\u001b[0m\u001b[0;34m,\u001b[0m \u001b[0msparse_types\u001b[0m\u001b[0;34m,\u001b[0m \u001b[0mdense_keys\u001b[0m\u001b[0;34m,\u001b[0m\u001b[0;34m\u001b[0m\u001b[0m\n\u001b[0;32m--> 453\u001b[0;31m       dense_types, dense_defaults, dense_shapes, name)\n\u001b[0m\u001b[1;32m    454\u001b[0m \u001b[0;34m\u001b[0m\u001b[0m\n\u001b[1;32m    455\u001b[0m \u001b[0;34m\u001b[0m\u001b[0m\n",
      "\u001b[0;32m/usr/local/lib/python2.7/dist-packages/tensorflow/python/ops/parsing_ops.pyc\u001b[0m in \u001b[0;36m_parse_single_example_raw\u001b[0;34m(serialized, names, sparse_keys, sparse_types, dense_keys, dense_types, dense_defaults, dense_shapes, name)\u001b[0m\n\u001b[1;32m    523\u001b[0m                                  \u001b[0mdense_defaults\u001b[0m\u001b[0;34m=\u001b[0m\u001b[0mdense_defaults\u001b[0m\u001b[0;34m,\u001b[0m\u001b[0;34m\u001b[0m\u001b[0m\n\u001b[1;32m    524\u001b[0m                                  \u001b[0mdense_shapes\u001b[0m\u001b[0;34m=\u001b[0m\u001b[0mdense_shapes\u001b[0m\u001b[0;34m,\u001b[0m\u001b[0;34m\u001b[0m\u001b[0m\n\u001b[0;32m--> 525\u001b[0;31m                                  name=name)\n\u001b[0m\u001b[1;32m    526\u001b[0m     \u001b[0;32mif\u001b[0m \u001b[0mdense_keys\u001b[0m \u001b[0;32mis\u001b[0m \u001b[0;32mnot\u001b[0m \u001b[0mNone\u001b[0m\u001b[0;34m:\u001b[0m\u001b[0;34m\u001b[0m\u001b[0m\n\u001b[1;32m    527\u001b[0m       \u001b[0;32mfor\u001b[0m \u001b[0md\u001b[0m \u001b[0;32min\u001b[0m \u001b[0mdense_keys\u001b[0m\u001b[0;34m:\u001b[0m\u001b[0;34m\u001b[0m\u001b[0m\n",
      "\u001b[0;32m/usr/local/lib/python2.7/dist-packages/tensorflow/python/ops/parsing_ops.pyc\u001b[0m in \u001b[0;36m_parse_example_raw\u001b[0;34m(serialized, names, sparse_keys, sparse_types, dense_keys, dense_types, dense_defaults, dense_shapes, name)\u001b[0m\n\u001b[1;32m    403\u001b[0m         \u001b[0mdense_keys\u001b[0m\u001b[0;34m=\u001b[0m\u001b[0mdense_keys\u001b[0m\u001b[0;34m,\u001b[0m\u001b[0;34m\u001b[0m\u001b[0m\n\u001b[1;32m    404\u001b[0m         \u001b[0mdense_shapes\u001b[0m\u001b[0;34m=\u001b[0m\u001b[0mdense_shapes\u001b[0m\u001b[0;34m,\u001b[0m\u001b[0;34m\u001b[0m\u001b[0m\n\u001b[0;32m--> 405\u001b[0;31m         name=name)\n\u001b[0m\u001b[1;32m    406\u001b[0m     \u001b[0;31m# pylint: enable=protected-access\u001b[0m\u001b[0;34m\u001b[0m\u001b[0;34m\u001b[0m\u001b[0m\n\u001b[1;32m    407\u001b[0m \u001b[0;34m\u001b[0m\u001b[0m\n",
      "\u001b[0;32m/usr/local/lib/python2.7/dist-packages/tensorflow/python/ops/gen_parsing_ops.pyc\u001b[0m in \u001b[0;36m_parse_example\u001b[0;34m(serialized, names, sparse_keys, dense_keys, dense_defaults, sparse_types, dense_shapes, name)\u001b[0m\n\u001b[1;32m    163\u001b[0m                                 \u001b[0mdense_defaults\u001b[0m\u001b[0;34m=\u001b[0m\u001b[0mdense_defaults\u001b[0m\u001b[0;34m,\u001b[0m\u001b[0;34m\u001b[0m\u001b[0m\n\u001b[1;32m    164\u001b[0m                                 \u001b[0msparse_types\u001b[0m\u001b[0;34m=\u001b[0m\u001b[0msparse_types\u001b[0m\u001b[0;34m,\u001b[0m\u001b[0;34m\u001b[0m\u001b[0m\n\u001b[0;32m--> 165\u001b[0;31m                                 dense_shapes=dense_shapes, name=name)\n\u001b[0m\u001b[1;32m    166\u001b[0m   \u001b[0;32mreturn\u001b[0m \u001b[0m_ParseExampleOutput\u001b[0m\u001b[0;34m.\u001b[0m\u001b[0m_make\u001b[0m\u001b[0;34m(\u001b[0m\u001b[0mresult\u001b[0m\u001b[0;34m)\u001b[0m\u001b[0;34m\u001b[0m\u001b[0m\n\u001b[1;32m    167\u001b[0m \u001b[0;34m\u001b[0m\u001b[0m\n",
      "\u001b[0;32m/usr/local/lib/python2.7/dist-packages/tensorflow/python/framework/op_def_library.pyc\u001b[0m in \u001b[0;36mapply_op\u001b[0;34m(self, op_type_name, name, **keywords)\u001b[0m\n\u001b[1;32m    328\u001b[0m       \u001b[0;31m# Need to flatten all the arguments into a list.\u001b[0m\u001b[0;34m\u001b[0m\u001b[0;34m\u001b[0m\u001b[0m\n\u001b[1;32m    329\u001b[0m       \u001b[0;31m# pylint: disable=protected-access\u001b[0m\u001b[0;34m\u001b[0m\u001b[0;34m\u001b[0m\u001b[0m\n\u001b[0;32m--> 330\u001b[0;31m       \u001b[0mg\u001b[0m \u001b[0;34m=\u001b[0m \u001b[0mops\u001b[0m\u001b[0;34m.\u001b[0m\u001b[0m_get_graph_from_inputs\u001b[0m\u001b[0;34m(\u001b[0m\u001b[0m_Flatten\u001b[0m\u001b[0;34m(\u001b[0m\u001b[0mkeywords\u001b[0m\u001b[0;34m.\u001b[0m\u001b[0mvalues\u001b[0m\u001b[0;34m(\u001b[0m\u001b[0;34m)\u001b[0m\u001b[0;34m)\u001b[0m\u001b[0;34m)\u001b[0m\u001b[0;34m\u001b[0m\u001b[0m\n\u001b[0m\u001b[1;32m    331\u001b[0m       \u001b[0;31m# pyline: enable=protected-access\u001b[0m\u001b[0;34m\u001b[0m\u001b[0;34m\u001b[0m\u001b[0m\n\u001b[1;32m    332\u001b[0m     \u001b[0;32mexcept\u001b[0m \u001b[0mAssertionError\u001b[0m \u001b[0;32mas\u001b[0m \u001b[0me\u001b[0m\u001b[0;34m:\u001b[0m\u001b[0;34m\u001b[0m\u001b[0m\n",
      "\u001b[0;32m/usr/local/lib/python2.7/dist-packages/tensorflow/python/framework/ops.pyc\u001b[0m in \u001b[0;36m_get_graph_from_inputs\u001b[0;34m(op_input_list, graph)\u001b[0m\n\u001b[1;32m   3812\u001b[0m         \u001b[0mgraph\u001b[0m \u001b[0;34m=\u001b[0m \u001b[0mgraph_element\u001b[0m\u001b[0;34m.\u001b[0m\u001b[0mgraph\u001b[0m\u001b[0;34m\u001b[0m\u001b[0m\n\u001b[1;32m   3813\u001b[0m       \u001b[0;32melif\u001b[0m \u001b[0moriginal_graph_element\u001b[0m \u001b[0;32mis\u001b[0m \u001b[0;32mnot\u001b[0m \u001b[0mNone\u001b[0m\u001b[0;34m:\u001b[0m\u001b[0;34m\u001b[0m\u001b[0m\n\u001b[0;32m-> 3814\u001b[0;31m         \u001b[0m_assert_same_graph\u001b[0m\u001b[0;34m(\u001b[0m\u001b[0moriginal_graph_element\u001b[0m\u001b[0;34m,\u001b[0m \u001b[0mgraph_element\u001b[0m\u001b[0;34m)\u001b[0m\u001b[0;34m\u001b[0m\u001b[0m\n\u001b[0m\u001b[1;32m   3815\u001b[0m       \u001b[0;32melif\u001b[0m \u001b[0mgraph_element\u001b[0m\u001b[0;34m.\u001b[0m\u001b[0mgraph\u001b[0m \u001b[0;32mis\u001b[0m \u001b[0;32mnot\u001b[0m \u001b[0mgraph\u001b[0m\u001b[0;34m:\u001b[0m\u001b[0;34m\u001b[0m\u001b[0m\n\u001b[1;32m   3816\u001b[0m         raise ValueError(\n",
      "\u001b[0;32m/usr/local/lib/python2.7/dist-packages/tensorflow/python/framework/ops.pyc\u001b[0m in \u001b[0;36m_assert_same_graph\u001b[0;34m(original_item, item)\u001b[0m\n\u001b[1;32m   3757\u001b[0m   \u001b[0;32mif\u001b[0m \u001b[0moriginal_item\u001b[0m\u001b[0;34m.\u001b[0m\u001b[0mgraph\u001b[0m \u001b[0;32mis\u001b[0m \u001b[0;32mnot\u001b[0m \u001b[0mitem\u001b[0m\u001b[0;34m.\u001b[0m\u001b[0mgraph\u001b[0m\u001b[0;34m:\u001b[0m\u001b[0;34m\u001b[0m\u001b[0m\n\u001b[1;32m   3758\u001b[0m     raise ValueError(\n\u001b[0;32m-> 3759\u001b[0;31m         \"%s must be from the same graph as %s.\" % (item, original_item))\n\u001b[0m\u001b[1;32m   3760\u001b[0m \u001b[0;34m\u001b[0m\u001b[0m\n\u001b[1;32m   3761\u001b[0m \u001b[0;34m\u001b[0m\u001b[0m\n",
      "\u001b[0;31mValueError\u001b[0m: Tensor(\"ParseSingleExample/ParseExample/Reshape:0\", shape=(), dtype=string) must be from the same graph as Tensor(\"zeros_1:0\", shape=(), dtype=int64)."
     ]
    }
   ],
   "source": [
    "# This code hangs! DO NOT RUN\n",
    "\n",
    "with tf.Graph().as_default(): \n",
    "    dataset = make_cifar_dataset('test', cifar10_folder) # Must make dataset in same graph as data_provider and model\n",
    "    data_provider = slim.dataset_data_provider.DatasetDataProvider(\n",
    "        dataset, common_queue_capacity=32, common_queue_min=1)\n",
    "    print(\"This dataset contains data of type {}\".format(data_provider.list_items()))\n",
    "    \n",
    "    image_node, label_node = data_provider.get(['image', 'label'])\n",
    "    with tf.Session() as sess:    \n",
    "        image, label = sess.run([image_node, label_node])\n",
    "        with slim.queues.QueueRunners(sess):\n",
    "            image, label = sess.run([image_node, label_node])   ## Hangs \n",
    "        \n",
    "    print(label)\n",
    "    plt.figure()\n",
    "    plt.subplot(1, 1, 1)\n",
    "    plt.imshow(image)\n",
    "    plt.title(label)\n",
    "    plt.axis('off')\n",
    "    plt.show()"
   ]
  },
  {
   "cell_type": "markdown",
   "metadata": {},
   "source": [
    "# Convolutional neural nets (CNNs).\n",
    "<a id='CNN'></a>\n",
    "\n",
    "In this section, we show how to train an image classifier using a simple CNN.\n"
   ]
  },
  {
   "cell_type": "markdown",
   "metadata": {},
   "source": [
    "### Define the model.\n",
    "\n",
    "Note that the output layer is linear function. We will apply softmax transformation externally to the model."
   ]
  },
  {
   "cell_type": "code",
   "execution_count": 28,
   "metadata": {
    "collapsed": true
   },
   "outputs": [],
   "source": [
    "def my_cnn(images, num_classes, is_training):  # is_training is not used...\n",
    "    with slim.arg_scope([slim.max_pool2d], kernel_size=[3, 3], stride=2):\n",
    "        net = slim.conv2d(images, 64, [5, 5])\n",
    "        net = slim.max_pool2d(net)\n",
    "        net = slim.conv2d(net, 64, [5, 5])\n",
    "        net = slim.max_pool2d(net)\n",
    "        net = slim.flatten(net)\n",
    "        net = slim.fully_connected(net, 192)\n",
    "        net = slim.fully_connected(net, num_classes, activation_fn=None)       \n",
    "        return net"
   ]
  },
  {
   "cell_type": "markdown",
   "metadata": {},
   "source": [
    "### Apply the model to some random images."
   ]
  },
  {
   "cell_type": "code",
   "execution_count": 29,
   "metadata": {
    "collapsed": false
   },
   "outputs": [
    {
     "name": "stdout",
     "output_type": "stream",
     "text": [
      "(3, 10)\n",
      "[[ 0.08796466  0.08554821  0.13695048  0.09661378  0.08974548  0.08083522\n",
      "   0.09682279  0.12113094  0.07867349  0.12571497]\n",
      " [ 0.08721105  0.09220267  0.13351098  0.09947319  0.09103666  0.07598233\n",
      "   0.09785314  0.12683602  0.07502287  0.12087113]\n",
      " [ 0.08589161  0.0878849   0.13784173  0.10107081  0.09202612  0.07756042\n",
      "   0.09900959  0.11960629  0.07659098  0.12251752]]\n",
      "[ 1.          1.          0.99999994]\n"
     ]
    }
   ],
   "source": [
    "with tf.Graph().as_default():\n",
    "    # The model can handle any input size because the first layer is convolutional.\n",
    "    # The size of the model is determined when image_node is passed into the Model function.\n",
    "    # All images must be the same size, because of the fully connected layers, which require a fixed size input.\n",
    "    n_images = 3\n",
    "    image_node = tf.random_uniform([n_images, 28, 28, 3], maxval=1)\n",
    "    \n",
    "    # Create the model.\n",
    "    logits_node = my_cnn(image_node, 10, True)\n",
    "    prob_node = tf.nn.softmax(logits_node)\n",
    "  \n",
    "    # Initialize all the variables (including parameters) randomly.\n",
    "    init_op = tf.initialize_all_variables()\n",
    "  \n",
    "    with tf.Session() as sess:\n",
    "        # Run the init_op, evaluate the model outputs and print the results:\n",
    "        sess.run(init_op)\n",
    "        probs = sess.run(prob_node)\n",
    "        \n",
    "print(probs.shape)  # 3x10\n",
    "print(probs)\n",
    "print(np.sum(probs, 1)) # Each row sums to 1"
   ]
  },
  {
   "cell_type": "markdown",
   "metadata": {},
   "source": [
    "### Train the model on CIFAR10.\n",
    "\n",
    "Make sure you run the code in the \"Slim datasets\" section first!"
   ]
  },
  {
   "cell_type": "code",
   "execution_count": 30,
   "metadata": {
    "collapsed": true
   },
   "outputs": [],
   "source": [
    "def preprocess(image, is_training):\n",
    "    \"\"\"Preprocesses the given image.\n",
    "\n",
    "    Args:\n",
    "        image: An image `Tensor` of size [32, 32, 3].\n",
    "        is_training: A boolean, whether or not we're in training mode.\n",
    "\n",
    "    Returns:\n",
    "        A preprocessed and cropped image of shape [24, 24, 3]\n",
    "    \"\"\"\n",
    "    height = 24\n",
    "    width = 24\n",
    "\n",
    "    if is_training:\n",
    "        # Randomly crop a [height, width] section of the image.\n",
    "        image = tf.random_crop(image, [height, width, 3])\n",
    "\n",
    "        # Randomly flip the image horizontally.\n",
    "        image = tf.image.random_flip_left_right(image)\n",
    "\n",
    "        # Randomize the pixel values.\n",
    "        image = tf.image.random_brightness(image, max_delta=63)\n",
    "        image = tf.image.random_saturation(image, lower=0.5, upper=1.5)\n",
    "        image = tf.image.random_contrast(image, lower=0.2, upper=1.8)\n",
    "    else:\n",
    "        # Crop the central [height, width] of the image.\n",
    "        image = tf.image.resize_image_with_crop_or_pad(image, height, width)\n",
    "\n",
    "    # Subtract off the mean and divide by the variance of the pixels.\n",
    "    return tf.image.per_image_whitening(image)"
   ]
  },
  {
   "cell_type": "code",
   "execution_count": 50,
   "metadata": {
    "collapsed": true
   },
   "outputs": [],
   "source": [
    "def create_cifar_tensors(split_name='test'):\n",
    "    dataset = make_cifar_dataset(split_name, cifar10_folder) \n",
    "    data_provider = slim.dataset_data_provider.DatasetDataProvider(\n",
    "        dataset, common_queue_capacity=32,\n",
    "        common_queue_min=8)\n",
    "    image, label = data_provider.get(['image', 'label'])\n",
    "    \n",
    "    # We have to use the preprocess function, otherwise we get this error:\n",
    "    # TypeError: Expected uint8, got -0.059850560166457976 of type 'float' instead.\n",
    "    image = preprocess(image, is_training=True)\n",
    "\n",
    "    # Batch it up.\n",
    "    images, labels = tf.train.batch(\n",
    "          [image, label],\n",
    "          batch_size=BATCH_SIZE,\n",
    "          num_threads=2,\n",
    "          capacity=10 * BATCH_SIZE)\n",
    "    \n",
    "    return images, labels"
   ]
  },
  {
   "cell_type": "code",
   "execution_count": 51,
   "metadata": {
    "collapsed": false
   },
   "outputs": [
    {
     "name": "stdout",
     "output_type": "stream",
     "text": [
      "Saving model to /tmp/cifar10_model1471816156.38\n",
      "Finished training. Last batch loss 2.30773472786\n"
     ]
    }
   ],
   "source": [
    "# Train the model on some labeled data.\n",
    "\n",
    "CHECKPOINT_DIR = '/tmp/tf/cifar10_model/model{}'.format(time.time()) \n",
    "print('Saving model to {}'.format(CHECKPOINT_DIR))\n",
    "BATCH_SIZE = 64\n",
    "NUM_CLASSES = 10\n",
    "\n",
    "with tf.Graph().as_default():\n",
    "    # We train on the test set, just because it's smaller.\n",
    "    images, labels = create_cifar_tensors('test')\n",
    "  \n",
    "    # Create the model:\n",
    "    logits = my_cnn(images, num_classes=NUM_CLASSES, is_training=True)\n",
    " \n",
    "    # Specify the loss function:\n",
    "    one_hot_labels = slim.one_hot_encoding(labels, 10)\n",
    "    slim.losses.softmax_cross_entropy(logits, one_hot_labels)\n",
    "    total_loss = slim.losses.get_total_loss()\n",
    "\n",
    "    # Create some summaries to visualize the training process:\n",
    "    # TODO: Make this be printed to stdout during training.\n",
    "    tf.scalar_summary('losses/Total Loss', total_loss)\n",
    "  \n",
    "    # Specify the optimizer and create the train op:\n",
    "    optimizer = tf.train.AdamOptimizer(learning_rate=0.01)\n",
    "    train_op = slim.learning.create_train_op(total_loss, optimizer)\n",
    "\n",
    "    # Run the training:\n",
    "    final_loss = slim.learning.train(\n",
    "      train_op,\n",
    "      logdir=CHECKPOINT_DIR,\n",
    "      number_of_steps=50,\n",
    "      save_summaries_secs=1)\n",
    "  \n",
    "    print('Finished training. Last batch loss {}'.format(final_loss))"
   ]
  },
  {
   "cell_type": "markdown",
   "metadata": {},
   "source": [
    "### Evaluate some metrics.\n",
    "\n",
    "As we discussed above, we can compute various metrics besides the loss.\n",
    "Below we show how to compute prediction accuracy of the trained model, as well as top-5 classification accuracy. (The difference between evaluation and evaluation_loop is that the latter writes the results to a log directory, so they can be viewed in tensorboard.)"
   ]
  },
  {
   "cell_type": "code",
   "execution_count": 41,
   "metadata": {
    "collapsed": false
   },
   "outputs": [
    {
     "name": "stdout",
     "output_type": "stream",
     "text": [
      "Running evaluation Loop...\n",
      "Done!\n"
     ]
    }
   ],
   "source": [
    "import math\n",
    "BATCH_SIZE = 64\n",
    "EVAL_DIR = CHECKPOINT_DIR\n",
    "NUM_TEST_IMAGES = 10000\n",
    "\n",
    "with tf.Graph().as_default():\n",
    "    images, labels = create_cifar_tensors('test')\n",
    "    logits = my_cnn(images, num_classes=NUM_CLASSES, is_training=False)\n",
    "    predictions = tf.argmax(logits, 1)\n",
    "\n",
    "    # Define the metrics:\n",
    "    names_to_values, names_to_updates = slim.metrics.aggregate_metric_map({\n",
    "        'eval/Accuracy': slim.metrics.streaming_accuracy(predictions, labels),\n",
    "        'eval/Recall@5': slim.metrics.streaming_recall_at_k(logits, labels, 5),\n",
    "    })\n",
    "    \n",
    "    # Create the summary ops such that they also print out to std output:\n",
    "    summary_ops = []\n",
    "    for name, value in names_to_values.iteritems():\n",
    "        op = tf.scalar_summary(name, value, collections=[])\n",
    "        op = tf.Print(op, [value], name)\n",
    "        tf.add_to_collection(tf.GraphKeys.SUMMARIES, op)\n",
    "        summary_ops.append(op)\n",
    "\n",
    "    \n",
    "    # This ensures that we make a single pass over all of the data.\n",
    "    # TODO: How to handle case where test size is not integer multiple of batch size?\n",
    "    num_batches = math.ceil(NUM_TEST_IMAGES / float(BATCH_SIZE))\n",
    "\n",
    "    print('Running evaluation Loop...')\n",
    "    \n",
    "    slim.evaluation.evaluation_loop(\n",
    "        master='',\n",
    "        checkpoint_dir=CHECKPOINT_DIR,  # Restores model from this checkpoint.\n",
    "        logdir=EVAL_DIR,\n",
    "        num_evals=num_batches,\n",
    "        eval_op=names_to_updates.values(),\n",
    "        summary_op=tf.merge_summary(summary_ops),\n",
    "        max_number_of_evaluations=1, # Only run loop once\n",
    "        eval_interval_secs=1)\n",
    "    print('Done!')\n",
    "    \n",
    "# To print the eval, we need to use tensorboard to decode the files in EVAL_DIR...\n",
    "# TODO: Make this print to screen while running."
   ]
  },
  {
   "cell_type": "markdown",
   "metadata": {},
   "source": [
    "### Apply the model to some test images."
   ]
  },
  {
   "cell_type": "code",
   "execution_count": 42,
   "metadata": {
    "collapsed": false
   },
   "outputs": [
    {
     "name": "stdout",
     "output_type": "stream",
     "text": [
      "(5, 10)\n",
      "[[ 0.09817405  0.10022818  0.10595122  0.10040811  0.09991264  0.10137208\n",
      "   0.09679111  0.09628495  0.1033536   0.09752412]\n",
      " [ 0.09817405  0.10022818  0.10595122  0.10040811  0.09991264  0.10137208\n",
      "   0.09679111  0.09628495  0.1033536   0.09752412]\n",
      " [ 0.09817405  0.10022818  0.10595122  0.10040811  0.09991264  0.10137208\n",
      "   0.09679111  0.09628495  0.1033536   0.09752412]\n",
      " [ 0.09817405  0.10022818  0.10595122  0.10040811  0.09991264  0.10137208\n",
      "   0.09679111  0.09628495  0.1033536   0.09752412]\n",
      " [ 0.09817405  0.10022818  0.10595122  0.10040811  0.09991264  0.10137208\n",
      "   0.09679111  0.09628495  0.1033536   0.09752412]]\n",
      "[ 1.00000012  1.00000012  1.00000012  1.00000012  1.00000012]\n"
     ]
    }
   ],
   "source": [
    "with tf.Graph().as_default():\n",
    "    # Use random images. They must be the same size as the preprocessed training set, because we are restoring\n",
    "    # fully connected layers from the checkpoint.\n",
    "    n_images = 5\n",
    "    image_node = tf.random_uniform([n_images, 24, 24, 3], maxval=1)\n",
    "  \n",
    "    # Create the model structure. (Parameters will be loaded below.)\n",
    "    logits_node = my_cnn(image_node, num_classes=NUM_CLASSES, is_training=False)\n",
    "    prob_node = tf.nn.softmax(logits_node)\n",
    "    \n",
    "    # Make a session which restores the old parameters from a checkpoint.\n",
    "    sv = tf.train.Supervisor(logdir=CHECKPOINT_DIR)\n",
    "    with sv.managed_session() as sess:\n",
    "        probs = sess.run(prob_node)\n",
    "\n",
    "print(probs.shape)  # 5x10\n",
    "print(probs)\n",
    "print(np.sum(probs, 1)) # Each row sums to 1"
   ]
  },
  {
   "cell_type": "markdown",
   "metadata": {},
   "source": [
    "# Using pre-trained models\n",
    "<a id='Pretrained'></a>\n",
    "\n",
    "Neural nets work best when they have many parameters, making them very flexible function approximators.\n",
    "However, this  means they must be trained on big datasets. Since this process is slow, we provide various pre-trained models. In particular, you can download the following pre-trained CNNs for image classification, all trained on [ILSVRC 2012](http://www.image-net.org/challenges/LSVRC/2012/index) with 1000 mutually exclusive class labels.\n",
    "\n",
    "* [Inception-v3](http://arxiv.org/abs/1512.00567)\n",
    "([checkpoint](https://github.com/tensorflow/models/tree/master/slim))\n",
    "* [VGG](http://www.robots.ox.ac.uk/~vgg/research/very_deep/)\n",
    "([checkpoint](https://github.com/tensorflow/models/tree/master/slim))\n",
    "* [Resnet](https://arxiv.org/abs/1512.03385)\n",
    "([checkpoint](https://github.com/tensorflow/models/tree/master/slim))\n",
    "\n",
    "\n",
    "You can either use these models as-is, or you can perform \"surgery\" on them, to modify them for some other task. For example, it is common to \"chop off\" the final pre-softmax layer, and replace it with a new set of weights corresponding to some new set of labels. You can then quickly fine tune the new model on a small new dataset. We illustrate this below, using inception-v3 as the base model.\n"
   ]
  },
  {
   "cell_type": "markdown",
   "metadata": {},
   "source": [
    "### Download inception checkpoint.\n",
    "\n",
    "The checkpoint just contains the parameters, not the model structure, so we need to know which python function was used to create the model. The checkpoint and the model spec file must use the same layer names, etc."
   ]
  },
  {
   "cell_type": "code",
   "execution_count": 59,
   "metadata": {
    "collapsed": false
   },
   "outputs": [
    {
     "name": "stdout",
     "output_type": "stream",
     "text": [
      ">> Downloading inception-v3-2016-03-01.tar.gz 100.0%('Successfully downloaded', 'inception-v3-2016-03-01.tar.gz', 399307177, 'bytes.')\n"
     ]
    },
    {
     "ename": "NameError",
     "evalue": "name 'tarfile' is not defined",
     "output_type": "error",
     "traceback": [
      "\u001b[0;31m---------------------------------------------------------------------------\u001b[0m",
      "\u001b[0;31mNameError\u001b[0m                                 Traceback (most recent call last)",
      "\u001b[0;32m<ipython-input-59-9fc7ca022710>\u001b[0m in \u001b[0;36m<module>\u001b[0;34m()\u001b[0m\n\u001b[1;32m     17\u001b[0m     \u001b[0mstatinfo\u001b[0m \u001b[0;34m=\u001b[0m \u001b[0mos\u001b[0m\u001b[0;34m.\u001b[0m\u001b[0mstat\u001b[0m\u001b[0;34m(\u001b[0m\u001b[0mfilepath\u001b[0m\u001b[0;34m)\u001b[0m\u001b[0;34m\u001b[0m\u001b[0m\n\u001b[1;32m     18\u001b[0m     \u001b[0;32mprint\u001b[0m\u001b[0;34m(\u001b[0m\u001b[0;34m'Successfully downloaded'\u001b[0m\u001b[0;34m,\u001b[0m \u001b[0mfilename\u001b[0m\u001b[0;34m,\u001b[0m \u001b[0mstatinfo\u001b[0m\u001b[0;34m.\u001b[0m\u001b[0mst_size\u001b[0m\u001b[0;34m,\u001b[0m \u001b[0;34m'bytes.'\u001b[0m\u001b[0;34m)\u001b[0m\u001b[0;34m\u001b[0m\u001b[0m\n\u001b[0;32m---> 19\u001b[0;31m     \u001b[0mtarfile\u001b[0m\u001b[0;34m.\u001b[0m\u001b[0mopen\u001b[0m\u001b[0;34m(\u001b[0m\u001b[0mfilepath\u001b[0m\u001b[0;34m,\u001b[0m \u001b[0;34m'r:gz'\u001b[0m\u001b[0;34m)\u001b[0m\u001b[0;34m.\u001b[0m\u001b[0mextractall\u001b[0m\u001b[0;34m(\u001b[0m\u001b[0minception_folder\u001b[0m\u001b[0;34m)\u001b[0m\u001b[0;34m\u001b[0m\u001b[0m\n\u001b[0m\u001b[1;32m     20\u001b[0m \u001b[0;34m\u001b[0m\u001b[0m\n",
      "\u001b[0;31mNameError\u001b[0m: name 'tarfile' is not defined"
     ]
    }
   ],
   "source": [
    "import six\n",
    "import sys\n",
    "from six.moves import urllib\n",
    "import os\n",
    "import tarfile\n",
    "\n",
    "url = 'http://download.tensorflow.org/models/image/imagenet/inception-v3-2016-03-01.tar.gz'\n",
    "inception_folder = '/tmp/tf/inception-v3'\n",
    "if not os.path.exists(inception_folder):\n",
    "    os.mkdir(inception_folder)\n",
    "filename = url.split('/')[-1]\n",
    "filepath = os.path.join(inception_folder, filename)\n",
    "if not os.path.exists(filepath):\n",
    "    def _progress(count, block_size, total_size):\n",
    "        sys.stdout.write('\\r>> Downloading %s %.1f%%' % (filename,\n",
    "            float(count * block_size) / float(total_size) * 100.0))\n",
    "        sys.stdout.flush()\n",
    "    filepath, _ = urllib.request.urlretrieve(url, filepath, _progress)\n",
    "    statinfo = os.stat(filepath)\n",
    "    print('Successfully downloaded', filename, statinfo.st_size, 'bytes.')\n",
    "    tarfile.open(filepath, 'r:gz').extractall(inception_folder)\n",
    "\n"
   ]
  },
  {
   "cell_type": "markdown",
   "metadata": {},
   "source": [
    "### Apply pretrained model to some images."
   ]
  },
  {
   "cell_type": "code",
   "execution_count": 62,
   "metadata": {
    "collapsed": false
   },
   "outputs": [
    {
     "ename": "AttributeError",
     "evalue": "'module' object has no attribute 'nets'",
     "output_type": "error",
     "traceback": [
      "\u001b[0;31m---------------------------------------------------------------------------\u001b[0m",
      "\u001b[0;31mAttributeError\u001b[0m                            Traceback (most recent call last)",
      "\u001b[0;32m<ipython-input-62-8378cd9c86d0>\u001b[0m in \u001b[0;36m<module>\u001b[0;34m()\u001b[0m\n\u001b[1;32m      4\u001b[0m \u001b[0;34m\u001b[0m\u001b[0m\n\u001b[1;32m      5\u001b[0m     \u001b[0;31m# Adapt the inception V3 architecture for a 10-class task:\u001b[0m\u001b[0;34m\u001b[0m\u001b[0;34m\u001b[0m\u001b[0m\n\u001b[0;32m----> 6\u001b[0;31m     \u001b[0mscope\u001b[0m \u001b[0;34m=\u001b[0m \u001b[0mslim\u001b[0m\u001b[0;34m.\u001b[0m\u001b[0mnets\u001b[0m\u001b[0;34m.\u001b[0m\u001b[0minception\u001b[0m\u001b[0;34m.\u001b[0m\u001b[0minception_v3_arg_scope\u001b[0m\u001b[0;34m(\u001b[0m\u001b[0mis_training\u001b[0m\u001b[0;34m=\u001b[0m\u001b[0mTrue\u001b[0m\u001b[0;34m)\u001b[0m\u001b[0;34m\u001b[0m\u001b[0m\n\u001b[0m\u001b[1;32m      7\u001b[0m     \u001b[0;32mwith\u001b[0m \u001b[0mslim\u001b[0m\u001b[0;34m.\u001b[0m\u001b[0marg_scope\u001b[0m\u001b[0;34m(\u001b[0m\u001b[0mscope\u001b[0m\u001b[0;34m)\u001b[0m\u001b[0;34m:\u001b[0m\u001b[0;34m\u001b[0m\u001b[0m\n\u001b[1;32m      8\u001b[0m         \u001b[0mlogits\u001b[0m\u001b[0;34m,\u001b[0m \u001b[0mend_points\u001b[0m \u001b[0;34m=\u001b[0m \u001b[0mslim\u001b[0m\u001b[0;34m.\u001b[0m\u001b[0mnets\u001b[0m\u001b[0;34m.\u001b[0m\u001b[0minception\u001b[0m\u001b[0;34m.\u001b[0m\u001b[0minception_v3\u001b[0m\u001b[0;34m(\u001b[0m\u001b[0mimages\u001b[0m\u001b[0;34m,\u001b[0m \u001b[0mnum_classes\u001b[0m\u001b[0;34m=\u001b[0m\u001b[0;36m10\u001b[0m\u001b[0;34m)\u001b[0m\u001b[0;34m\u001b[0m\u001b[0m\n",
      "\u001b[0;31mAttributeError\u001b[0m: 'module' object has no attribute 'nets'"
     ]
    }
   ],
   "source": [
    "import tensorflow.contrib.slim.nets as nets\n",
    "\n",
    "with tf.Graph().as_default():\n",
    "    # Create 32 dummy images\n",
    "    images = tf.ones((32, 224, 224, 3))\n",
    "\n",
    "    # Adapt the inception V3 architecture for a 10-class task:\n",
    "    scope = nets.inception.inception_v3_arg_scope(is_training=True)\n",
    "    with slim.arg_scope(scope):\n",
    "        logits, end_points = nets.inception.inception_v3(images, num_classes=10)\n",
    "\n",
    "    print('Output size: ')\n",
    "    print(logits.get_shape())"
   ]
  },
  {
   "cell_type": "markdown",
   "metadata": {},
   "source": [
    "### Fine-tune the model on a different set of labels.\n"
   ]
  },
  {
   "cell_type": "code",
   "execution_count": null,
   "metadata": {
    "collapsed": true
   },
   "outputs": [],
   "source": []
  }
 ],
 "metadata": {
  "kernelspec": {
   "display_name": "Python 2",
   "language": "python",
   "name": "python2"
  },
  "language_info": {
   "codemirror_mode": {
    "name": "ipython",
    "version": 2
   },
   "file_extension": ".py",
   "mimetype": "text/x-python",
   "name": "python",
   "nbconvert_exporter": "python",
   "pygments_lexer": "ipython2",
   "version": "2.7.6"
  }
 },
 "nbformat": 4,
 "nbformat_minor": 0
}
