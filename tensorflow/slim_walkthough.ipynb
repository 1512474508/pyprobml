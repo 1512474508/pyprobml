{
 "cells": [
  {
   "cell_type": "markdown",
   "metadata": {},
   "source": [
    "# TF-Slim 2.0 Walkthrough\n",
    "\n",
    "This notebook will walk you through the basics of using TF-Slim to create, train and evaluate neural networks on various tasks. It assumes a basic knowledge of neural networks. "
   ]
  },
  {
   "cell_type": "code",
   "execution_count": 1,
   "metadata": {
    "collapsed": true
   },
   "outputs": [],
   "source": [
    "import tensorflow as tf\n",
    "import tensorflow.contrib.slim as slim\n",
    "import matplotlib\n",
    "%matplotlib inline\n",
    "import matplotlib.pyplot as plt\n",
    "import numpy as np"
   ]
  },
  {
   "cell_type": "code",
   "execution_count": 2,
   "metadata": {
    "collapsed": false
   },
   "outputs": [
    {
     "name": "stdout",
     "output_type": "stream",
     "text": [
      "You have TF version 0.10.0rc0\n"
     ]
    }
   ],
   "source": [
    "# Check that TF version is up to date\n",
    "ver = tf.__version__\n",
    "# e.g., ver = \"0.9.0\" or \"0.10.0rc0\"\n",
    "ver_parts = ver.split(\".\")\n",
    "if (int(ver_parts[0]) > 0) or (int(ver_parts[1]) >= 10):\n",
    "    print 'You have TF version {}'.format(ver)\n",
    "else:\n",
    "    print 'Warning: You have TF version {}, you need version >= 0.10'.format(ver)"
   ]
  },
  {
   "cell_type": "markdown",
   "metadata": {},
   "source": [
    "## Creating your first neural network\n",
    "\n",
    "Below we give some code to create a simple multilayer perceptron (MLP)  which can be used\n",
    "for regression problems. The model has 2 hidden layers, with 100 and 50 units in them.\n",
    "The output is a single node. \n",
    "When this function is called, it will create various nodes, and silently add them to whichever global TF graph is currently in scope. When a node which corresponds to a layer with adjustable parameters (eg., a fully connected layer) is created, additional parameter variable nodes are silently created, and added to the graph. (We will discuss how to train the parameters later.)\n",
    "We use variable scope to put all the nodes under a common name,\n",
    "so that the graph has some hierarchical structure.\n",
    "This is useful when we want to visualize the TF graph in tensorboard, or if we want to query related\n",
    "variables. The fully connected layers all use the same L2 weight decay and ReLu activations, as specified by arg_scope. (However, the final layer overrides these defaults, and uses an identity activation function.)\n",
    "We also illustrate how to add a dropout layer after the first fully connected layer (FC1). Note that at test time, \n",
    "we do not drop out nodes, but instead use the average activations; hence we need to know whether the model is being\n",
    "constructed for training or testing, since the computational graph will be different in the two cases\n",
    "(although the variables, storing the model parameters, will be shared, since they have the same name/scope)."
   ]
  },
  {
   "cell_type": "code",
   "execution_count": 3,
   "metadata": {
    "collapsed": true
   },
   "outputs": [],
   "source": [
    "def regression_model(inputs, is_training=True, scope=\"deep_regression\"):\n",
    "  \"\"\"Creates the regression model.\n",
    "  \n",
    "  Args:\n",
    "    input_node: A node that yields a `Tensor` of size [batch_size, dimensions].\n",
    "    is_training: Whether or not we're currently training the model.\n",
    "    scope: An optional variable_op scope for the model.\n",
    "  \n",
    "  Returns:\n",
    "    output_node: 1-D `Tensor` of shape [batch_size] of responses.\n",
    "    nodes: A dict of nodes representing the hidden layers.\n",
    "  \"\"\"\n",
    "  with tf.variable_op_scope([input_node], scope):\n",
    "    nodes = {}\n",
    "    # Set the default weight _regularizer and acvitation for each fully_connected layer.\n",
    "    with slim.arg_scope([slim.fully_connected],\n",
    "                        activation_fn=tf.nn.relu,\n",
    "                        weights_regularizer=slim.l2_regularizer(0.01)):\n",
    "      \n",
    "      # Creates a fully connected layer from the inputs with 10 hidden units.\n",
    "      fc1_node = slim.fully_connected(inputs, 100, scope='fc1')\n",
    "      nodes['fc1'] = fc1_node\n",
    "        \n",
    "      # Adds a dropout layer to prevent over-fitting.\n",
    "      dropout_node = slim.dropout(fc1_node, 0.8, is_training=is_training)\n",
    "      \n",
    "      # Adds another fully connected layer with 5 hidden units.\n",
    "      fc2_node = slim.fully_connected(dropout_node, 50, scope='fc2')\n",
    "      nodes['fc2'] = fc2_node\n",
    "      \n",
    "      # Creates a fully-connected layer with a single hidden unit. Note that the\n",
    "      # layer is made linear by setting activation_fn=None.\n",
    "      prediction_node = slim.fully_connected(fc2_node, 1, activation_fn=None, scope='prediction')\n",
    "      nodes['out'] = prediction_node\n",
    "\n",
    "      return prediction_node, nodes"
   ]
  },
  {
   "cell_type": "markdown",
   "metadata": {},
   "source": [
    "### Let's create the model and examine its structure.\n",
    "\n",
    "We create a TF graph and call regression_model(), which adds nodes (tensors) to the graph. We then examine their shape, and print the names of all the model variables which have been implicitly created inside of each layer. We see that the names of the variables follow the scopes that we specified."
   ]
  },
  {
   "cell_type": "code",
   "execution_count": 4,
   "metadata": {
    "collapsed": false
   },
   "outputs": [
    {
     "name": "stdout",
     "output_type": "stream",
     "text": [
      "fc1 shape = (?, 100)\n",
      "fc2 shape = (?, 50)\n",
      "out shape = (?, 1)\n",
      "[u'deep_regression/fc1/weights:0', u'deep_regression/fc1/biases:0', u'deep_regression/fc2/weights:0', u'deep_regression/fc2/biases:0', u'deep_regression/prediction/weights:0', u'deep_regression/prediction/biases:0']\n",
      "deep_regression/fc1/weights/Regularizer/l2_regularizer\n",
      "deep_regression/fc2/weights/Regularizer/l2_regularizer\n",
      "deep_regression/prediction/weights/Regularizer/l2_regularizer\n"
     ]
    }
   ],
   "source": [
    "tf.reset_default_graph()\n",
    "graph = tf.Graph()\n",
    "with graph.as_default():\n",
    "  # Dummy placeholders for arbitrary number of 1d inputs and outputs\n",
    "  input_node = tf.placeholder(tf.float32, shape=(None, 1))\n",
    "  output_node = tf.placeholder(tf.float32, shape=(None, 1))\n",
    "  \n",
    "  # Build model\n",
    "  prediction_node, nodes = regression_model(input_node)\n",
    " \n",
    "  # Print name and shape of each tensor.\n",
    "  for k, v in nodes.iteritems():\n",
    "    print k, 'shape = %s' % v.get_shape()\n",
    "    \n",
    "  # Print name of parameter nodes that have been added (values not yet initialized)\n",
    "  print [v.name for v in slim.get_model_variables()]\n",
    "    \n",
    "  # Print the loss nodes that have been added by using arg_scope(weights_regularizer):\n",
    "  for regularization_loss_node in tf.get_collection(tf.GraphKeys.REGULARIZATION_LOSSES):\n",
    "    print regularization_loss_node.op.name\n",
    "  "
   ]
  },
  {
   "cell_type": "markdown",
   "metadata": {},
   "source": [
    "### Let's create some 1d regression data .\n",
    "\n",
    "We will train and test the model on some noisy observations of a nonlinear function.\n"
   ]
  },
  {
   "cell_type": "code",
   "execution_count": 5,
   "metadata": {
    "collapsed": false
   },
   "outputs": [
    {
     "data": {
      "text/plain": [
       "<matplotlib.collections.PathCollection at 0x7f8201df5e90>"
      ]
     },
     "execution_count": 5,
     "metadata": {},
     "output_type": "execute_result"
    },
    {
     "name": "stderr",
     "output_type": "stream",
     "text": [
      "/usr/lib/pymodules/python2.7/matplotlib/collections.py:548: FutureWarning: elementwise comparison failed; returning scalar instead, but in the future will perform elementwise comparison\n",
      "  if self._edgecolors == 'face':\n"
     ]
    },
    {
     "data": {
      "image/png": "[encoded data removed]",
      "text/plain": [
       "<matplotlib.figure.Figure at 0x7f8201f7ffd0>"
      ]
     },
     "metadata": {},
     "output_type": "display_data"
    }
   ],
   "source": [
    "def produce_batch(batch_size, noise=0.3):\n",
    "  xs = np.random.random(size=[batch_size, 1]) * 10\n",
    "  ys = np.sin(xs) + 5 + np.random.normal(size=[batch_size, 1], scale=noise)\n",
    "  return [xs.astype(np.float32), ys.astype(np.float32)]\n",
    "\n",
    "x_train, y_train = produce_batch(100)\n",
    "x_test, y_test = produce_batch(100)\n",
    "plt.scatter(x_train, y_train)"
   ]
  },
  {
   "cell_type": "markdown",
   "metadata": {},
   "source": [
    "### Let's fit the model to the data\n",
    "\n",
    "The user has to specify the loss function and the optimizer, and slim does the rest.\n",
    "In particular,  the slim.learning.train function does the following:\n",
    "\n",
    "- for each iteration, evaluate the train_op, which updates the parameters using the optimizer applied to the current minibatch.\n",
    "- occasionally store the model checkpoint in the specified directory. This is useful in case your machine crashes  - then you can simply restart from the specified checkpoint.\n",
    "- occasionally write summaries to ???. These can be examined in tensorboard."
   ]
  },
  {
   "cell_type": "code",
   "execution_count": 6,
   "metadata": {
    "collapsed": false
   },
   "outputs": [
    {
     "name": "stdout",
     "output_type": "stream",
     "text": [
      "Saving to /tmp/model1471737725.76\n"
     ]
    }
   ],
   "source": [
    "# Everytime we run training, we need to store the model checkpoint in a new directory,\n",
    "# in case anything has changed.\n",
    "import time\n",
    "ts = time.time()\n",
    "ckpt_dir = '/tmp/model{}'.format(ts) # Place to store the checkpoint.\n",
    "print('Saving to {}'.format(ckpt_dir))"
   ]
  },
  {
   "cell_type": "code",
   "execution_count": 7,
   "metadata": {
    "collapsed": true
   },
   "outputs": [],
   "source": [
    "def convert_data_to_tensors(x, y):\n",
    "  input_tensor = tf.constant(x)\n",
    "  input_tensor.set_shape([None, 1])\n",
    "  output_tensor = tf.constant(y)\n",
    "  output_tensor.set_shape([None, 1])\n",
    "  return input_tensor, output_tensor"
   ]
  },
  {
   "cell_type": "code",
   "execution_count": 8,
   "metadata": {
    "collapsed": false
   },
   "outputs": [
    {
     "name": "stdout",
     "output_type": "stream",
     "text": [
      "('Finished training. Last batch loss:', 0.32073095)\n",
      "Checkpoint saved in /tmp/model1471737725.76\n"
     ]
    }
   ],
   "source": [
    "# We make a new TF graph since we're calling regression_model again with different inputs.\n",
    "# TODO: Reuse existing graph and just bind the existing input nodes to the data.\n",
    "\n",
    "graph = tf.Graph()\n",
    "with graph.as_default():\n",
    "  input_node, output_node = convert_data_to_tensors(x_train, y_train)\n",
    "\n",
    "  # Make the model.\n",
    "  prediction_node, nodes = regression_model(input_node, is_training=True)\n",
    " \n",
    "  # Add the loss function to the graph.\n",
    "  loss_node = slim.losses.sum_of_squares(prediction_node, output_node)\n",
    "  # The total loss is the uers's loss plus any regularization losses.\n",
    "  total_loss_node = slim.losses.get_total_loss()\n",
    "\n",
    "  # Create some summaries to visualize the training process:\n",
    "  ## TODO: add summaries.py to 3p\n",
    "  # slim.summaries.add_scalar_summary(total_loss, 'Total Loss', print_summary=True)\n",
    "  \n",
    "  # Specify the optimizer and create the train op:\n",
    "  optimizer = tf.train.AdamOptimizer(learning_rate=0.01)\n",
    "  train_update_node = slim.learning.create_train_op(total_loss_node, optimizer)\n",
    "\n",
    "  # Run the training inside a session.\n",
    "  final_loss = slim.learning.train(\n",
    "    train_update_node,\n",
    "    logdir=ckpt_dir,\n",
    "    number_of_steps=500,\n",
    "    save_summaries_secs=1)\n",
    "  \n",
    "print(\"Finished training. Last batch loss:\", final_loss)\n",
    "print(\"Checkpoint saved in %s\" % ckpt_dir)"
   ]
  },
  {
   "cell_type": "markdown",
   "metadata": {},
   "source": [
    "### Training with multiple loss functions.\n",
    "\n",
    "Sometimes we have multiple objectives we want to simultaneously optimize.\n",
    "In slim, it is easy to add more losses, as we show below. (We do not optimize the total loss in this example,\n",
    "but we show how to compute it.)"
   ]
  },
  {
   "cell_type": "code",
   "execution_count": 9,
   "metadata": {
    "collapsed": false
   },
   "outputs": [
    {
     "name": "stdout",
     "output_type": "stream",
     "text": [
      "Total Loss1: 31.948940\n",
      "Total Loss2: 31.948940\n"
     ]
    }
   ],
   "source": [
    "graph = tf.Graph()  # Make a new graph\n",
    "with graph.as_default():\n",
    "    input_node, output_node = convert_data_to_tensors(x_train, y_train)\n",
    "    prediction_node, nodes = regression_model(input_node, is_training=True)\n",
    "\n",
    "    # Add multiple loss nodes.\n",
    "    sum_of_squares_loss_node = slim.losses.sum_of_squares(prediction_node, output_node)\n",
    "    absolute_difference_loss_node = slim.losses.absolute_difference(prediction_node, output_node)\n",
    "\n",
    "    # The following two ways to compute the total loss are equivalent\n",
    "    regularization_loss_node = tf.add_n(slim.losses.get_regularization_losses())\n",
    "    total_loss1_node = sum_of_squares_loss_node + absolute_difference_loss_node + regularization_loss_node\n",
    "\n",
    "    # Regularization Loss is included in the total loss by default.\n",
    "    # This is good for training, but not for testing.\n",
    "    total_loss2_node = slim.losses.get_total_loss(add_regularization_losses=True)\n",
    "    \n",
    "    init_node = tf.initialize_all_variables()\n",
    "    with tf.Session() as sess:\n",
    "        sess.run(init_node) # Will randomize the parameters.\n",
    "        total_loss1, total_loss2 = sess.run([total_loss1_node, total_loss2_node])\n",
    "        print('Total Loss1: %f' % total_loss1)\n",
    "        print('Total Loss2: %f' % total_loss2)\n"
   ]
  },
  {
   "cell_type": "markdown",
   "metadata": {},
   "source": [
    "### Let's load the saved model and use it for prediction.\n",
    "\n",
    "The predictive accuracy is not very good, because we only trained for 500 steps, to keep the demo fast.\n",
    "Running for 5000 steps improves performance a lot."
   ]
  },
  {
   "cell_type": "code",
   "execution_count": 10,
   "metadata": {
    "collapsed": false
   },
   "outputs": [
    {
     "name": "stdout",
     "output_type": "stream",
     "text": [
      "Loss is 0.28607609868\n"
     ]
    },
    {
     "data": {
      "text/plain": [
       "<matplotlib.text.Text at 0x7f820045eb10>"
      ]
     },
     "execution_count": 10,
     "metadata": {},
     "output_type": "execute_result"
    },
    {
     "data": {
      "image/png": "[encoded data removed]",
      "text/plain": [
       "<matplotlib.figure.Figure at 0x7f8201fd3450>"
      ]
     },
     "metadata": {},
     "output_type": "display_data"
    }
   ],
   "source": [
    "with tf.Graph().as_default():\n",
    "    input_node, output_node = convert_data_to_tensors(x_test, y_test)\n",
    "  \n",
    "    # Create the model structure. (Parameters will be loaded below.)\n",
    "    prediction_node, nodes = regression_model(input_node, is_training=False)\n",
    "    # Add a loss node, for eval (not training) purposes.\n",
    "    loss_node = slim.losses.sum_of_squares(prediction_node, output_node)\n",
    "\n",
    "    # Make a session which restores the old parameters from a checkpoint.\n",
    "    sv = tf.train.Supervisor(logdir=ckpt_dir)\n",
    "    with sv.managed_session() as sess:\n",
    "        inputs, predictions, true_outputs = sess.run([input_node, prediction_node, output_node])\n",
    "        loss = sess.run(loss_node)\n",
    "\n",
    "print(\"Loss is {}\".format(loss)) # Loss is lower than when using random parameters\n",
    "plt.scatter(inputs, true_outputs, c='r');\n",
    "plt.scatter(inputs, predictions, c='b');\n",
    "plt.title('red=true, blue=predicted')"
   ]
  },
  {
   "cell_type": "markdown",
   "metadata": {},
   "source": [
    "### Let's examine the learned parameters."
   ]
  },
  {
   "cell_type": "code",
   "execution_count": 11,
   "metadata": {
    "collapsed": false
   },
   "outputs": [
    {
     "name": "stdout",
     "output_type": "stream",
     "text": [
      "deep_regression/fc1/weights:0 (1, 100) [[ -8.35221447e-03   1.14436932e-12   1.49819003e-12  -1.52324984e-14\n",
      "   -4.12664823e-02  -3.03445826e-03  -2.37229485e-02   9.79221389e-02\n",
      "   -4.76170145e-03  -4.82108118e-03  -1.08317584e-02   7.11413175e-02\n",
      "   -1.85472574e-02   1.62936971e-01   1.19152248e-01  -2.87111616e-03\n",
      "    1.21879607e-01   3.18809375e-02  -4.79533337e-02  -2.16852799e-02\n",
      "    1.57013133e-01  -1.37560427e-12  -2.72389054e-02   7.51532391e-02\n",
      "   -5.35035040e-03  -5.72365820e-01   6.51059346e-03   1.40266687e-01\n",
      "   -2.58234981e-02  -1.89657379e-02   4.74746376e-02  -1.73595524e-03\n",
      "   -4.05613594e-02  -9.93774161e-02   4.90166480e-03  -1.05544746e-01\n",
      "   -5.64362388e-04   9.46550667e-02   1.39652863e-01  -9.09163952e-02\n",
      "   -4.93474817e-03  -4.72848564e-02  -4.89405124e-03   3.09477970e-02\n",
      "   -4.34413200e-11   1.47104328e-02   5.07518835e-02   1.67854965e-01\n",
      "    8.40532482e-02   1.60468102e-01  -2.01878905e-01  -1.00495063e-01\n",
      "    1.09624386e-01  -1.68555938e-02  -1.43390498e-03   4.12866734e-02\n",
      "   -1.50474235e-02   1.53731033e-01   4.66773509e-09   1.42448857e-01\n",
      "    7.27955673e-13   9.20948982e-02   8.58596638e-02  -3.87903745e-03\n",
      "    1.18656099e-01  -4.39693499e-03  -4.33691368e-02   1.71654120e-01\n",
      "   -3.65046947e-03   1.03482611e-01   7.80437589e-02  -2.80933175e-02\n",
      "   -4.57182080e-02   5.18718250e-02   1.06741907e-02  -6.68498967e-03\n",
      "    2.45491806e-02  -3.62366973e-03  -1.81487204e-12  -2.12433096e-02\n",
      "    4.02459651e-02  -8.97263410e-04   9.89317074e-02  -1.73986505e-03\n",
      "   -1.21679023e-01  -2.91969776e-02   1.34726003e-01   7.39384741e-02\n",
      "   -7.40079023e-03  -3.77417952e-02   1.32065490e-01   1.71099171e-01\n",
      "   -8.77686739e-02  -1.02956720e-01   1.47248479e-02   2.03082338e-02\n",
      "    1.46464050e-01   1.52731732e-01  -3.59248915e-08  -1.87068807e-12]]\n",
      "deep_regression/fc1/biases:0 (100,) [ 0.29642001 -0.0637654  -0.04846771 -0.06593836  0.29345936 -0.05250334\n",
      "  0.29246211 -0.26329497  0.14329951 -0.12360644  0.25215986  0.25462893\n",
      "  0.30543223  0.21699713  0.27411166 -0.09551328 -0.37555799  0.23124009\n",
      " -0.06741115  0.31325987 -0.3236872  -0.05593921  0.17224191  0.22646964\n",
      " -0.09503126  0.4261415   0.2720862  -0.25604376  0.28324178 -0.0534704\n",
      "  0.23466131 -0.05462979 -0.09877115  0.39347631  0.27871647  0.42063743\n",
      " -0.05071154 -0.26337224  0.24569364  0.36402419 -0.14599346 -0.05558881\n",
      " -0.05312598  0.23680522 -0.11068277  0.24805695  0.26754558 -0.30151278\n",
      " -0.13033906 -0.33604363  0.25686055  0.38683957 -0.19675845  0.29111442\n",
      "  0.12271211  0.21800989  0.21778265 -0.41364992 -0.05131136 -0.31312811\n",
      " -0.0547608   0.24952433  0.23095399 -0.14576909 -0.32257986 -0.05558867\n",
      " -0.0555888  -0.34297416 -0.10504515  0.27663836  0.24808833  0.30531171\n",
      "  0.30816269  0.25200054  0.19764736 -0.18602745  0.09128335 -0.07902148\n",
      " -0.05845967  0.27287456 -0.0437459  -0.11782485 -0.16785182 -0.05131157\n",
      "  0.49564254  0.29823157  0.2380169   0.26680365 -0.14117077 -0.0728334\n",
      " -0.25175762  0.19464651  0.35267878  0.40349823  0.29553145  0.28015444\n",
      " -0.3051047  -0.33608472 -0.02572763 -0.05780352]\n",
      "deep_regression/fc2/weights:0 (100, 50) [[  2.00438639e-03   7.07595900e-05   1.13111455e-02 ...,   2.97963805e-03\n",
      "    5.85988980e-14   5.09448163e-03]\n",
      " [  3.64960828e-13   1.59231732e-13  -1.45322543e-13 ...,  -1.87988988e-13\n",
      "   -1.32591204e-13  -6.83312781e-13]\n",
      " [ -2.00234930e-13  -5.96463959e-13   5.15026661e-14 ...,  -1.07019828e-13\n",
      "   -4.32838119e-13   8.96439661e-13]\n",
      " ..., \n",
      " [ -1.48675321e-02   4.06143896e-04  -1.34346271e-02 ...,  -2.73310556e-03\n",
      "    1.90317583e-13  -1.39894169e-02]\n",
      " [ -5.17705019e-13   2.89099202e-13   1.90938858e-13 ...,  -3.53406269e-13\n",
      "    2.34040733e-13  -2.04219034e-14]\n",
      " [ -1.64071610e-13  -5.64483952e-13  -2.70184970e-13 ...,   1.02601196e-13\n",
      "   -7.93586280e-13  -5.07093621e-14]]\n",
      "deep_regression/fc2/biases:0 (50,) [ 0.43286788 -0.0621722   0.40725204  0.39130208  0.20268746  0.42718413\n",
      "  0.47900879 -0.08982904 -0.06003551  0.55575746 -0.08028869 -0.0869837\n",
      " -0.07570618 -0.07058391 -0.06692466  0.15951814 -0.06718043  0.3973614\n",
      " -0.07242852 -0.07596456  0.57274234  0.80954742  0.48339859 -0.0842965\n",
      "  0.39995891 -0.08409806  0.3961494  -0.22849084  0.41968727  0.42052352\n",
      "  0.43159387 -1.00429487  0.68520486 -0.07701118  0.41185555 -0.08496542\n",
      " -0.0845306  -0.07298982  0.66090977 -0.06240627 -0.05133418  0.72342634\n",
      "  0.44732365  0.41227177  0.39309913 -0.01200138  0.58789241  0.67352301\n",
      " -0.07593396  0.40248656]\n",
      "deep_regression/prediction/weights:0 (50, 1) [[  1.48232982e-01]\n",
      " [ -6.15138747e-03]\n",
      " [  2.62093782e-01]\n",
      " [  3.24509352e-01]\n",
      " [  3.26455608e-02]\n",
      " [  1.47413924e-01]\n",
      " [  3.44273180e-01]\n",
      " [ -5.55016026e-02]\n",
      " [ -2.92509452e-13]\n",
      " [  4.26103264e-01]\n",
      " [ -1.55142173e-02]\n",
      " [ -1.46388203e-01]\n",
      " [ -9.70060527e-02]\n",
      " [ -5.06758839e-02]\n",
      " [ -5.95113309e-03]\n",
      " [  9.84712914e-02]\n",
      " [  1.59818274e-08]\n",
      " [  3.82616818e-01]\n",
      " [  4.06461535e-03]\n",
      " [ -6.00914173e-02]\n",
      " [  4.23181742e-01]\n",
      " [  2.65066087e-01]\n",
      " [  1.76017016e-01]\n",
      " [  3.70465475e-03]\n",
      " [  1.96250826e-01]\n",
      " [ -1.84941009e-01]\n",
      " [  2.56286860e-01]\n",
      " [ -5.05741656e-01]\n",
      " [  1.20114796e-01]\n",
      " [  2.31329754e-01]\n",
      " [  4.07006562e-01]\n",
      " [ -6.17603242e-01]\n",
      " [  7.64966249e-01]\n",
      " [  4.03391542e-09]\n",
      " [  2.78111160e-01]\n",
      " [  2.82546207e-02]\n",
      " [  7.15194180e-13]\n",
      " [  2.15403326e-02]\n",
      " [  4.42728311e-01]\n",
      " [ -1.33857084e-02]\n",
      " [  9.22930352e-13]\n",
      " [  1.03586249e-01]\n",
      " [  1.33882642e-01]\n",
      " [  2.09140554e-01]\n",
      " [  2.99433768e-01]\n",
      " [ -3.79720144e-02]\n",
      " [  7.40651786e-02]\n",
      " [  3.88984233e-01]\n",
      " [ -8.14998448e-02]\n",
      " [  1.98550954e-01]]\n",
      "deep_regression/prediction/biases:0 (1,) [ 0.37605983]\n"
     ]
    }
   ],
   "source": [
    "with tf.Graph().as_default():\n",
    "    input_node = tf.placeholder(tf.float32, shape=(None, 1))\n",
    "    output_node = tf.placeholder(tf.float32, shape=(None, 1))\n",
    "    prediction_node, nodes = regression_model(input_node, is_training=False)\n",
    "  \n",
    "    sv = tf.train.Supervisor(logdir=ckpt_dir)\n",
    "    with sv.managed_session() as sess:\n",
    "        model_variables = slim.get_model_variables()\n",
    "        for v in model_variables:\n",
    "            val = sess.run(v)\n",
    "            print v.name, val.shape, val\n"
   ]
  },
  {
   "cell_type": "markdown",
   "metadata": {},
   "source": [
    "### Let's compute various evaluation metrics on the test set.\n",
    "\n",
    "In slim termiology, losses are optimized, but metrics (which may not be differentiable, e.g., precision and recall) are just measured.\n",
    "As an illustration, the code below computes mean squared error and mean absolute error metrics on the test set.\n",
    "\n",
    "Each metric declaration creates several local variables (which must be initialized via tf.initialize_local_variables()) and returns both a value_op and an update_op. When evaluated, the value_op returns the current value of the metric. The update_op loads a new batch of data, runs the model, obtains the predictions and accumulates the metric statistics appropriately before returning the current value of the metric. We store these value nodes and update nodes in 2 dictionaries.\n",
    "\n",
    "After creating the metric nodes, we can pass them to slim.evaluation.evaluation, which repeatedly evaluates these nodes the specified number of times. (This allows us to compute the evaluation in a streaming fashion across minibatches, which is usefulf for large datasets.) Finally, we print the final value of each metric.\n"
   ]
  },
  {
   "cell_type": "code",
   "execution_count": 12,
   "metadata": {
    "collapsed": false
   },
   "outputs": [
    {
     "name": "stdout",
     "output_type": "stream",
     "text": [
      "Mean Squared Error: 22.214493\n",
      "Mean Absolute Error: 4.627326\n"
     ]
    }
   ],
   "source": [
    "with tf.Graph().as_default():\n",
    "    input_node, output_node = convert_data_to_tensors(x_test, y_test)\n",
    "    prediction_node, nodes = regression_model(input_node, is_training=False)\n",
    "\n",
    "    # Specify metrics to evaluate:\n",
    "    names_to_value_nodes, names_to_update_nodes = slim.metrics.aggregate_metric_map({\n",
    "      'Mean Squared Error': slim.metrics.streaming_mean_squared_error(prediction_node, output_node),\n",
    "      'Mean Absolute Error': slim.metrics.streaming_mean_absolute_error(prediction_node, output_node)\n",
    "    })\n",
    "\n",
    "\n",
    "    init_node = tf.group(\n",
    "        tf.initialize_all_variables(),\n",
    "        tf.initialize_local_variables())\n",
    "\n",
    "    # Make a session which restores the old graph parameters, and then run eval.\n",
    "    sv = tf.train.Supervisor(logdir=ckpt_dir)\n",
    "    with sv.managed_session() as sess:\n",
    "        metric_values = slim.evaluation.evaluation(\n",
    "            sess,\n",
    "            num_evals=1, # Single pass over data\n",
    "            init_op=init_node,\n",
    "            eval_op=names_to_update_nodes.values(),\n",
    "            final_op=names_to_value_nodes.values())\n",
    "\n",
    "    names_to_values = dict(zip(names_to_value_nodes.keys(), metric_values))\n",
    "    for key, value in names_to_values.iteritems():\n",
    "      print('%s: %f' % (key, value))"
   ]
  },
  {
   "cell_type": "markdown",
   "metadata": {},
   "source": [
    "# Slim datasets\n",
    "\n",
    "Slim provides an easy way to handle datasets, without having to worry about which format\n",
    "the data is stored in.\n",
    "\n",
    "There are two main classes. Data Providers are python objects which can provide data tensors on demand.\n",
    "They abstract away the details of how the data is stored, and allow data to be read in parallel\n",
    "using queue runners, to support high throughput processing.\n",
    "\n",
    "Data providers are constructed from slim Datasets, which can be created from data in various\n",
    "file formats. The dataset has various forms of metadata, so it knows what kind of data is stored in the file.\n",
    "Slim versions of various standard datasets, such as CIFAR, ImageNet, and COCO, can be found at XXX.\n",
    "These have been converted from their original format into tfrecord.\n",
    "\n",
    "Below we give an example of the CIFAR10 dataset, which has images and labels.  To save space, we just download the test file.."
   ]
  },
  {
   "cell_type": "code",
   "execution_count": 14,
   "metadata": {
    "collapsed": false
   },
   "outputs": [],
   "source": [
    "%load https://raw.githubusercontent.com/probml/pyprobml/master/tensorflow/cifar10_dataset.py\n"
   ]
  },
  {
   "cell_type": "code",
   "execution_count": 16,
   "metadata": {
    "collapsed": false
   },
   "outputs": [
    {
     "data": {
      "text/plain": [
       "('/tmp/cifar10_test', <httplib.HTTPMessage instance at 0x7f82006c5ab8>)"
      ]
     },
     "execution_count": 16,
     "metadata": {},
     "output_type": "execute_result"
    }
   ],
   "source": [
    "# Retrieve the data.\n",
    "import six\n",
    "import sys\n",
    "from six.moves import urllib\n",
    "url = 'https://github.com/probml/pyprobml/blob/master/tensorflow/cifar10_test.tfrecord'\n",
    "filename = '/tmp/cifar10_test'\n",
    "urllib.request.urlretrieve(url, filename)"
   ]
  },
  {
   "cell_type": "markdown",
   "metadata": {},
   "source": [
    "### Display the first image and its label."
   ]
  },
  {
   "cell_type": "code",
   "execution_count": null,
   "metadata": {
    "collapsed": false
   },
   "outputs": [
    {
     "name": "stdout",
     "output_type": "stream",
     "text": [
      "This dataset contains data of type ['image', 'label']\n"
     ]
    }
   ],
   "source": [
    "with tf.Graph().as_default(): \n",
    "    # The dataset must be constructed inside a tf graph.\n",
    "    dataset = make_cifar_dataset('test', '/tmp')\n",
    "    data_provider = slim.dataset_data_provider.DatasetDataProvider(\n",
    "        dataset, common_queue_capacity=32, common_queue_min=1)\n",
    "    print(\"This dataset contains data of type {}\".format(data_provider.list_items()))\n",
    "    \n",
    "    image_node, label_node = data_provider.get(['image', 'label'])\n",
    "    with tf.Session() as sess:    \n",
    "        image, label = sess.run([image_node, label_node])\n",
    "        with slim.queues.QueueRunners(sess):\n",
    "            image, label = sess.run([image_node, label_node])\n",
    "        \n",
    "    print(label)\n",
    "    plt.figure()\n",
    "    plt.subplot(1, 1, 1)\n",
    "    plt.imshow(image)\n",
    "    plt.title(label)\n",
    "    plt.axis('off')\n",
    "    plt.show()"
   ]
  },
  {
   "cell_type": "code",
   "execution_count": 19,
   "metadata": {
    "collapsed": false
   },
   "outputs": [
    {
     "data": {
      "text/plain": [
       "<tensorflow.contrib.slim.python.slim.data.dataset_data_provider.DatasetDataProvider at 0x7f8201f05b10>"
      ]
     },
     "execution_count": 19,
     "metadata": {},
     "output_type": "execute_result"
    }
   ],
   "source": [
    "data_provider"
   ]
  },
  {
   "cell_type": "markdown",
   "metadata": {},
   "source": [
    "# Convolutional neural nets (CNNs).\n",
    "\n",
    "In this section, we show how to train an image classifier using a simple CNN."
   ]
  },
  {
   "cell_type": "code",
   "execution_count": null,
   "metadata": {
    "collapsed": true
   },
   "outputs": [],
   "source": []
  }
 ],
 "metadata": {
  "kernelspec": {
   "display_name": "Python 2",
   "language": "python",
   "name": "python2"
  },
  "language_info": {
   "codemirror_mode": {
    "name": "ipython",
    "version": 2
   },
   "file_extension": ".py",
   "mimetype": "text/x-python",
   "name": "python",
   "nbconvert_exporter": "python",
   "pygments_lexer": "ipython2",
   "version": "2.7.6"
  }
 },
 "nbformat": 4,
 "nbformat_minor": 0
}
