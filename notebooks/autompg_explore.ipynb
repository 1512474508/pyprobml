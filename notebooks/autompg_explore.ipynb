{
 "cells": [
  {
   "cell_type": "markdown",
   "metadata": {},
   "source": [
    "# Exploratory data analysis for autompg dataset"
   ]
  },
  {
   "cell_type": "code",
   "execution_count": 15,
   "metadata": {},
   "outputs": [],
   "source": [
    "# Boiler plate\n",
    "\n",
    "import matplotlib.pyplot as plt\n",
    "import seaborn as sns\n",
    "import numpy as np\n",
    "import warnings\n",
    "warnings.filterwarnings('ignore')\n",
    "\n",
    "import pandas as pd\n",
    "pd.set_option('precision', 2) # 2 decimal places\n",
    "pd.set_option('display.max_rows', 20)\n",
    "pd.set_option('display.max_columns', 30)\n",
    "pd.set_option('display.width', 150) # wide windows\n",
    "\n",
    "import os\n",
    "figdir = \"../figures\"\n",
    "def save_fig(fname):\n",
    "    if figdir:\n",
    "        plt.savefig(os.path.join(figdir, fname))\n"
   ]
  },
  {
   "cell_type": "code",
   "execution_count": 16,
   "metadata": {
    "scrolled": true
   },
   "outputs": [
    {
     "name": "stdout",
     "output_type": "stream",
     "text": [
      "<class 'pandas.core.frame.DataFrame'>\n",
      "RangeIndex: 398 entries, 0 to 397\n",
      "Data columns (total 8 columns):\n",
      "MPG             398 non-null float64\n",
      "Cylinders       398 non-null int64\n",
      "Displacement    398 non-null float64\n",
      "Horsepower      392 non-null float64\n",
      "Weight          398 non-null float64\n",
      "Acceleration    398 non-null float64\n",
      "Year            398 non-null int64\n",
      "Origin          398 non-null int64\n",
      "dtypes: float64(5), int64(3)\n",
      "memory usage: 25.0 KB\n"
     ]
    }
   ],
   "source": [
    "url = 'https://archive.ics.uci.edu/ml/machine-learning-databases/auto-mpg/auto-mpg.data'\n",
    "# We made a cached copy since UCI repository is often down\n",
    "#url = 'https://raw.githubusercontent.com/probml/pyprobml/master/data/mpg.csv'\n",
    "#column_names = ['mpg','cylinders','displacement','horsepower','weight',\n",
    "#                'acceleration', 'model_year', 'origin', 'name'] \n",
    "column_names = ['MPG','Cylinders','Displacement','Horsepower','Weight',\n",
    "                'Acceleration', 'Year', 'Origin', 'Name']\n",
    "df = pd.read_csv(url, names=column_names, sep='\\s+', na_values=\"?\")\n",
    "\n",
    "# The last column (name) is a unique id for the car, so we drop it\n",
    "df = df.drop(columns=['Name'])\n",
    "\n",
    "\n",
    "df.info()"
   ]
  },
  {
   "cell_type": "markdown",
   "metadata": {},
   "source": [
    "We notice that there are only 392 horsepower rows, but 398 of the others.\n",
    "This is because the HP column has 6 missing values (also called NA, or\n",
    "not available).\n",
    "There are 3 main ways to deal with this:\n",
    "- Drop the rows with any missing values using dropna()\n",
    "- Drop any columns with any missing values using drop()\n",
    "- Replace the missing vales with some other valye (eg the median) using fillna. (This is called missing value imputation.)\n",
    "For simplicity, we adopt the first approach.\n"
   ]
  },
  {
   "cell_type": "code",
   "execution_count": 17,
   "metadata": {},
   "outputs": [
    {
     "name": "stdout",
     "output_type": "stream",
     "text": [
      "<class 'pandas.core.frame.DataFrame'>\n",
      "Int64Index: 392 entries, 0 to 397\n",
      "Data columns (total 8 columns):\n",
      "MPG             392 non-null float64\n",
      "Cylinders       392 non-null int64\n",
      "Displacement    392 non-null float64\n",
      "Horsepower      392 non-null float64\n",
      "Weight          392 non-null float64\n",
      "Acceleration    392 non-null float64\n",
      "Year            392 non-null int64\n",
      "Origin          392 non-null int64\n",
      "dtypes: float64(5), int64(3)\n",
      "memory usage: 27.6 KB\n"
     ]
    }
   ],
   "source": [
    "# Ensure same number of rows for all features.\n",
    "df = df.dropna()\n",
    "df.info()"
   ]
  },
  {
   "cell_type": "code",
   "execution_count": 24,
   "metadata": {},
   "outputs": [
    {
     "data": {
      "text/html": [
       "<div>\n",
       "<style scoped>\n",
       "    .dataframe tbody tr th:only-of-type {\n",
       "        vertical-align: middle;\n",
       "    }\n",
       "\n",
       "    .dataframe tbody tr th {\n",
       "        vertical-align: top;\n",
       "    }\n",
       "\n",
       "    .dataframe thead th {\n",
       "        text-align: right;\n",
       "    }\n",
       "</style>\n",
       "<table border=\"1\" class=\"dataframe\">\n",
       "  <thead>\n",
       "    <tr style=\"text-align: right;\">\n",
       "      <th></th>\n",
       "      <th>MPG</th>\n",
       "      <th>Cylinders</th>\n",
       "      <th>Displacement</th>\n",
       "      <th>Horsepower</th>\n",
       "      <th>Weight</th>\n",
       "      <th>Acceleration</th>\n",
       "      <th>Year</th>\n",
       "      <th>Origin</th>\n",
       "    </tr>\n",
       "  </thead>\n",
       "  <tbody>\n",
       "    <tr>\n",
       "      <th>count</th>\n",
       "      <td>392.00</td>\n",
       "      <td>392.00</td>\n",
       "      <td>392.00</td>\n",
       "      <td>392.00</td>\n",
       "      <td>392.00</td>\n",
       "      <td>392.00</td>\n",
       "      <td>392.00</td>\n",
       "      <td>392</td>\n",
       "    </tr>\n",
       "    <tr>\n",
       "      <th>unique</th>\n",
       "      <td>NaN</td>\n",
       "      <td>NaN</td>\n",
       "      <td>NaN</td>\n",
       "      <td>NaN</td>\n",
       "      <td>NaN</td>\n",
       "      <td>NaN</td>\n",
       "      <td>NaN</td>\n",
       "      <td>3</td>\n",
       "    </tr>\n",
       "    <tr>\n",
       "      <th>top</th>\n",
       "      <td>NaN</td>\n",
       "      <td>NaN</td>\n",
       "      <td>NaN</td>\n",
       "      <td>NaN</td>\n",
       "      <td>NaN</td>\n",
       "      <td>NaN</td>\n",
       "      <td>NaN</td>\n",
       "      <td>USA</td>\n",
       "    </tr>\n",
       "    <tr>\n",
       "      <th>freq</th>\n",
       "      <td>NaN</td>\n",
       "      <td>NaN</td>\n",
       "      <td>NaN</td>\n",
       "      <td>NaN</td>\n",
       "      <td>NaN</td>\n",
       "      <td>NaN</td>\n",
       "      <td>NaN</td>\n",
       "      <td>245</td>\n",
       "    </tr>\n",
       "    <tr>\n",
       "      <th>mean</th>\n",
       "      <td>23.45</td>\n",
       "      <td>5.47</td>\n",
       "      <td>194.41</td>\n",
       "      <td>104.47</td>\n",
       "      <td>2977.58</td>\n",
       "      <td>15.54</td>\n",
       "      <td>75.98</td>\n",
       "      <td>NaN</td>\n",
       "    </tr>\n",
       "    <tr>\n",
       "      <th>std</th>\n",
       "      <td>7.81</td>\n",
       "      <td>1.71</td>\n",
       "      <td>104.64</td>\n",
       "      <td>38.49</td>\n",
       "      <td>849.40</td>\n",
       "      <td>2.76</td>\n",
       "      <td>3.68</td>\n",
       "      <td>NaN</td>\n",
       "    </tr>\n",
       "    <tr>\n",
       "      <th>min</th>\n",
       "      <td>9.00</td>\n",
       "      <td>3.00</td>\n",
       "      <td>68.00</td>\n",
       "      <td>46.00</td>\n",
       "      <td>1613.00</td>\n",
       "      <td>8.00</td>\n",
       "      <td>70.00</td>\n",
       "      <td>NaN</td>\n",
       "    </tr>\n",
       "    <tr>\n",
       "      <th>25%</th>\n",
       "      <td>17.00</td>\n",
       "      <td>4.00</td>\n",
       "      <td>105.00</td>\n",
       "      <td>75.00</td>\n",
       "      <td>2225.25</td>\n",
       "      <td>13.78</td>\n",
       "      <td>73.00</td>\n",
       "      <td>NaN</td>\n",
       "    </tr>\n",
       "    <tr>\n",
       "      <th>50%</th>\n",
       "      <td>22.75</td>\n",
       "      <td>4.00</td>\n",
       "      <td>151.00</td>\n",
       "      <td>93.50</td>\n",
       "      <td>2803.50</td>\n",
       "      <td>15.50</td>\n",
       "      <td>76.00</td>\n",
       "      <td>NaN</td>\n",
       "    </tr>\n",
       "    <tr>\n",
       "      <th>75%</th>\n",
       "      <td>29.00</td>\n",
       "      <td>8.00</td>\n",
       "      <td>275.75</td>\n",
       "      <td>126.00</td>\n",
       "      <td>3614.75</td>\n",
       "      <td>17.02</td>\n",
       "      <td>79.00</td>\n",
       "      <td>NaN</td>\n",
       "    </tr>\n",
       "    <tr>\n",
       "      <th>max</th>\n",
       "      <td>46.60</td>\n",
       "      <td>8.00</td>\n",
       "      <td>455.00</td>\n",
       "      <td>230.00</td>\n",
       "      <td>5140.00</td>\n",
       "      <td>24.80</td>\n",
       "      <td>82.00</td>\n",
       "      <td>NaN</td>\n",
       "    </tr>\n",
       "  </tbody>\n",
       "</table>\n",
       "</div>"
      ],
      "text/plain": [
       "           MPG  Cylinders  Displacement  Horsepower   Weight  Acceleration    Year Origin\n",
       "count   392.00     392.00        392.00      392.00   392.00        392.00  392.00    392\n",
       "unique     NaN        NaN           NaN         NaN      NaN           NaN     NaN      3\n",
       "top        NaN        NaN           NaN         NaN      NaN           NaN     NaN    USA\n",
       "freq       NaN        NaN           NaN         NaN      NaN           NaN     NaN    245\n",
       "mean     23.45       5.47        194.41      104.47  2977.58         15.54   75.98    NaN\n",
       "std       7.81       1.71        104.64       38.49   849.40          2.76    3.68    NaN\n",
       "min       9.00       3.00         68.00       46.00  1613.00          8.00   70.00    NaN\n",
       "25%      17.00       4.00        105.00       75.00  2225.25         13.78   73.00    NaN\n",
       "50%      22.75       4.00        151.00       93.50  2803.50         15.50   76.00    NaN\n",
       "75%      29.00       8.00        275.75      126.00  3614.75         17.02   79.00    NaN\n",
       "max      46.60       8.00        455.00      230.00  5140.00         24.80   82.00    NaN"
      ]
     },
     "execution_count": 24,
     "metadata": {},
     "output_type": "execute_result"
    }
   ],
   "source": [
    "# Summary statistics\n",
    "df.describe(include='all')"
   ]
  },
  {
   "cell_type": "code",
   "execution_count": 18,
   "metadata": {},
   "outputs": [
    {
     "data": {
      "text/plain": [
       "Index(['Europe', 'Japan', 'USA'], dtype='object')"
      ]
     },
     "execution_count": 18,
     "metadata": {},
     "output_type": "execute_result"
    }
   ],
   "source": [
    "# Origin is categorical (1=USA, 2=Europe, 3=Japan)\n",
    "df['Origin'] = df.Origin.replace([1,2,3],['USA','Europe','Japan'])\n",
    "df['Origin'] = df['Origin'].astype('category')\n",
    "\n",
    "# Let us check the categories\n",
    "df['Origin'].cat.categories "
   ]
  },
  {
   "cell_type": "code",
   "execution_count": 6,
   "metadata": {},
   "outputs": [
    {
     "name": "stdout",
     "output_type": "stream",
     "text": [
      "MPG              float64\n",
      "Cylinders          int64\n",
      "Displacement     float64\n",
      "Horsepower       float64\n",
      "Weight           float64\n",
      "Acceleration     float64\n",
      "Year               int64\n",
      "Origin          category\n",
      "dtype: object\n"
     ]
    }
   ],
   "source": [
    "# Let us check the datatypes\n",
    "print(df.dtypes)"
   ]
  },
  {
   "cell_type": "code",
   "execution_count": 21,
   "metadata": {},
   "outputs": [
    {
     "data": {
      "text/html": [
       "<div>\n",
       "<style scoped>\n",
       "    .dataframe tbody tr th:only-of-type {\n",
       "        vertical-align: middle;\n",
       "    }\n",
       "\n",
       "    .dataframe tbody tr th {\n",
       "        vertical-align: top;\n",
       "    }\n",
       "\n",
       "    .dataframe thead th {\n",
       "        text-align: right;\n",
       "    }\n",
       "</style>\n",
       "<table border=\"1\" class=\"dataframe\">\n",
       "  <thead>\n",
       "    <tr style=\"text-align: right;\">\n",
       "      <th></th>\n",
       "      <th>MPG</th>\n",
       "      <th>Cylinders</th>\n",
       "      <th>Displacement</th>\n",
       "      <th>Horsepower</th>\n",
       "      <th>Weight</th>\n",
       "      <th>Acceleration</th>\n",
       "      <th>Year</th>\n",
       "      <th>Origin</th>\n",
       "    </tr>\n",
       "  </thead>\n",
       "  <tbody>\n",
       "    <tr>\n",
       "      <th>393</th>\n",
       "      <td>27.0</td>\n",
       "      <td>4</td>\n",
       "      <td>140.0</td>\n",
       "      <td>86.0</td>\n",
       "      <td>2790.0</td>\n",
       "      <td>15.6</td>\n",
       "      <td>82</td>\n",
       "      <td>USA</td>\n",
       "    </tr>\n",
       "    <tr>\n",
       "      <th>394</th>\n",
       "      <td>44.0</td>\n",
       "      <td>4</td>\n",
       "      <td>97.0</td>\n",
       "      <td>52.0</td>\n",
       "      <td>2130.0</td>\n",
       "      <td>24.6</td>\n",
       "      <td>82</td>\n",
       "      <td>Europe</td>\n",
       "    </tr>\n",
       "    <tr>\n",
       "      <th>395</th>\n",
       "      <td>32.0</td>\n",
       "      <td>4</td>\n",
       "      <td>135.0</td>\n",
       "      <td>84.0</td>\n",
       "      <td>2295.0</td>\n",
       "      <td>11.6</td>\n",
       "      <td>82</td>\n",
       "      <td>USA</td>\n",
       "    </tr>\n",
       "    <tr>\n",
       "      <th>396</th>\n",
       "      <td>28.0</td>\n",
       "      <td>4</td>\n",
       "      <td>120.0</td>\n",
       "      <td>79.0</td>\n",
       "      <td>2625.0</td>\n",
       "      <td>18.6</td>\n",
       "      <td>82</td>\n",
       "      <td>USA</td>\n",
       "    </tr>\n",
       "    <tr>\n",
       "      <th>397</th>\n",
       "      <td>31.0</td>\n",
       "      <td>4</td>\n",
       "      <td>119.0</td>\n",
       "      <td>82.0</td>\n",
       "      <td>2720.0</td>\n",
       "      <td>19.4</td>\n",
       "      <td>82</td>\n",
       "      <td>USA</td>\n",
       "    </tr>\n",
       "  </tbody>\n",
       "</table>\n",
       "</div>"
      ],
      "text/plain": [
       "      MPG  Cylinders  Displacement  Horsepower  Weight  Acceleration  Year  Origin\n",
       "393  27.0          4         140.0        86.0  2790.0          15.6    82     USA\n",
       "394  44.0          4          97.0        52.0  2130.0          24.6    82  Europe\n",
       "395  32.0          4         135.0        84.0  2295.0          11.6    82     USA\n",
       "396  28.0          4         120.0        79.0  2625.0          18.6    82     USA\n",
       "397  31.0          4         119.0        82.0  2720.0          19.4    82     USA"
      ]
     },
     "execution_count": 21,
     "metadata": {},
     "output_type": "execute_result"
    }
   ],
   "source": [
    "# Let us inspect the data. We see meaningful names for Origin.\n",
    "df.tail()"
   ]
  },
  {
   "cell_type": "code",
   "execution_count": 22,
   "metadata": {},
   "outputs": [
    {
     "name": "stdout",
     "output_type": "stream",
     "text": [
      "\\begin{tabular}{rrrrrrrl}\n",
      "\\toprule\n",
      "  MPG &  Cylinders &  Displacement &  Horsepower &  Weight &  Acceleration &  Year &  Origin \\\\\n",
      "\\midrule\n",
      " 27.0 &          4 &         140.0 &        86.0 &  2790.0 &          15.6 &    82 &     USA \\\\\n",
      " 44.0 &          4 &          97.0 &        52.0 &  2130.0 &          24.6 &    82 &  Europe \\\\\n",
      " 32.0 &          4 &         135.0 &        84.0 &  2295.0 &          11.6 &    82 &     USA \\\\\n",
      " 28.0 &          4 &         120.0 &        79.0 &  2625.0 &          18.6 &    82 &     USA \\\\\n",
      " 31.0 &          4 &         119.0 &        82.0 &  2720.0 &          19.4 &    82 &     USA \\\\\n",
      "\\bottomrule\n",
      "\\end{tabular}\n",
      "\n"
     ]
    }
   ],
   "source": [
    "# Create latex table from first 5 rows \n",
    "str = df[-5:].to_latex(index=False, escape=False)\n",
    "print(str)"
   ]
  },
  {
   "cell_type": "code",
   "execution_count": 8,
   "metadata": {},
   "outputs": [
    {
     "data": {
      "image/png": "[encoded data removed]",
      "text/plain": [
       "<Figure size 432x288 with 1 Axes>"
      ]
     },
     "metadata": {
      "needs_background": "light"
     },
     "output_type": "display_data"
    }
   ],
   "source": [
    "# Plot mpg distribution for cars from different countries of origin\n",
    "data = pd.concat( [df['MPG'], df['Origin']], axis=1)\n",
    "fig, ax = plt.subplots()\n",
    "ax = sns.boxplot(x='Origin', y='MPG', data=data)\n",
    "ax.axhline(data.MPG.mean(), color='r', linestyle='dashed', linewidth=2)\n",
    "plt.savefig(os.path.join(figdir, 'auto-mpg-origin-boxplot.pdf'))\n",
    "plt.show()"
   ]
  },
  {
   "cell_type": "code",
   "execution_count": 9,
   "metadata": {},
   "outputs": [
    {
     "data": {
      "image/png": "[encoded data removed]",
      "text/plain": [
       "<Figure size 432x288 with 1 Axes>"
      ]
     },
     "metadata": {
      "needs_background": "light"
     },
     "output_type": "display_data"
    }
   ],
   "source": [
    "# Plot mpg distribution for cars from different years\n",
    "data = pd.concat( [df['MPG'], df['Year']], axis=1)\n",
    "fig, ax = plt.subplots()\n",
    "ax = sns.boxplot(x='Year', y='MPG', data=data)\n",
    "ax.axhline(data.MPG.mean(), color='r', linestyle='dashed', linewidth=2)\n",
    "plt.savefig(os.path.join(figdir, 'auto-mpg-year-boxplot.pdf'))\n",
    "plt.show()"
   ]
  },
  {
   "cell_type": "code",
   "execution_count": null,
   "metadata": {},
   "outputs": [],
   "source": []
  }
 ],
 "metadata": {
  "kernelspec": {
   "display_name": "Python 3",
   "language": "python",
   "name": "python3"
  },
  "language_info": {
   "codemirror_mode": {
    "name": "ipython",
    "version": 3
   },
   "file_extension": ".py",
   "mimetype": "text/x-python",
   "name": "python",
   "nbconvert_exporter": "python",
   "pygments_lexer": "ipython3",
   "version": "3.7.3"
  }
 },
 "nbformat": 4,
 "nbformat_minor": 2
}
