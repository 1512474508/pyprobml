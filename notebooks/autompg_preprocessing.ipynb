{
 "cells": [
  {
   "cell_type": "markdown",
   "metadata": {},
   "source": [
    "# Illustrate feature preprocessing on autompg dataset"
   ]
  },
  {
   "cell_type": "code",
   "execution_count": 1,
   "metadata": {},
   "outputs": [],
   "source": [
    "# Boiler plate\n",
    "\n",
    "import matplotlib.pyplot as plt\n",
    "import seaborn as sns\n",
    "import numpy as np\n",
    "import warnings\n",
    "warnings.filterwarnings('ignore')\n",
    "\n",
    "import pandas as pd\n",
    "pd.set_option('precision', 2) # 2 decimal places\n",
    "pd.set_option('display.max_rows', 20)\n",
    "pd.set_option('display.max_columns', 30)\n",
    "pd.set_option('display.width', 150) # wide windows\n",
    "\n",
    "import patsy"
   ]
  },
  {
   "cell_type": "code",
   "execution_count": 9,
   "metadata": {},
   "outputs": [],
   "source": [
    "url = 'https://archive.ics.uci.edu/ml/machine-learning-databases/auto-mpg/auto-mpg.data'\n",
    "# We made a cached copy since UCI repository is often down\n",
    "#url = 'https://raw.githubusercontent.com/probml/pyprobml/master/data/mpg.csv'\n",
    "#column_names = ['mpg','cylinders','displacement','horsepower','weight',\n",
    "#                'acceleration', 'model_year', 'origin', 'name'] \n",
    "column_names = ['MPG','Cylinders','Displacement','Horsepower','Weight',\n",
    "                'Acceleration', 'Year', 'Origin', 'Name']\n",
    "df = pd.read_csv(url, names=column_names, sep='\\s+', na_values=\"?\")\n",
    "\n",
    "# The last column (name) is a unique id for the car, so we drop it\n",
    "df = df.drop(columns=['Name'])\n",
    "\n",
    "# Ensure same number of rows for all features.\n",
    "df = df.dropna()\n",
    "\n",
    "# Origin is categorical (1=USA, 2=Europe, 3=Japan)\n",
    "df['Origin'] = df.Origin.replace([1,2,3],['USA','Europe','Japan'])\n",
    "df['Origin'] = df['Origin'].astype('category')"
   ]
  },
  {
   "cell_type": "code",
   "execution_count": 3,
   "metadata": {},
   "outputs": [
    {
     "name": "stdout",
     "output_type": "stream",
     "text": [
      "[0 1 2]\n",
      "['Europe' 'Japan' 'USA']\n"
     ]
    }
   ],
   "source": [
    "# Convert origin factor to integer\n",
    "from sklearn.preprocessing import LabelEncoder\n",
    "encoder = LabelEncoder()\n",
    "origin = df['Origin']\n",
    "origin = encoder.fit_transform(origin)\n",
    "# Check the data\n",
    "print(np.unique(origin)) # [0 1 2] # Not the same as original [1,2,3]!\n",
    "# Check the encoding - happens to be the same as original ordering\n",
    "print(encoder.classes_) # ['Europe' 'Japan' 'USA'] \n",
    "# Convert back (for printing purposes)\n",
    "origin_names = encoder.inverse_transform(origin)\n",
    "assert np.array_equal(origin_names, df['Origin'])"
   ]
  },
  {
   "cell_type": "code",
   "execution_count": 4,
   "metadata": {},
   "outputs": [
    {
     "name": "stdout",
     "output_type": "stream",
     "text": [
      "[[0. 0. 1.]\n",
      " [1. 0. 0.]\n",
      " [0. 0. 1.]\n",
      " [0. 0. 1.]\n",
      " [0. 0. 1.]]\n"
     ]
    }
   ],
   "source": [
    "# Convert integer encoding to one-hot vectors\n",
    "from sklearn.preprocessing import OneHotEncoder\n",
    "encoder = OneHotEncoder()\n",
    "origin = origin.reshape(-1, 1) # Convert (N) to (N,1)\n",
    "origin_onehot = encoder.fit_transform(origin) # Sparse array\n",
    "# Convert to dense array for printing purposes\n",
    "print(origin_onehot[-5:,:].toarray())"
   ]
  },
  {
   "cell_type": "code",
   "execution_count": null,
   "metadata": {},
   "outputs": [],
   "source": [
    "\n",
    "# We should be able to combine LabelEncoder and OneHotEncoder together\n",
    "# using a Pipeline. However this fails due to known bug: https://github.com/scikit-learn/scikit-learn/issues/3956\n",
    "# TypeError: fit_transform() takes 2 positional arguments but 3 were given\n",
    "\n",
    "'''\n",
    "from sklearn.pipeline import Pipeline\n",
    "pipeline = Pipeline([\n",
    "    ('str2int', LabelEncoder()),\n",
    "    ('int2onehot', OneHotEncoder())\n",
    "])\n",
    "origin_onehot2 = pipeline.fit_transform(df['Origin'])\n",
    "'''\n",
    "\n",
    "# However, as of sckit v0.20, we can now convert Categorical to OneHot directly.\n",
    "# https://jorisvandenbossche.github.io/blog/2017/11/20/categorical-encoder/\n",
    "# https://medium.com/bigdatarepublic/integrating-pandas-and-scikit-learn-with-pipelines-f70eb6183696\n",
    "\n",
    "# See also sklearn-pandas library\n",
    "#https://github.com/scikit-learn-contrib/sklearn-pandas#transformation-mapping"
   ]
  },
  {
   "cell_type": "code",
   "execution_count": 5,
   "metadata": {},
   "outputs": [
    {
     "data": {
      "text/html": [
       "<div>\n",
       "<style scoped>\n",
       "    .dataframe tbody tr th:only-of-type {\n",
       "        vertical-align: middle;\n",
       "    }\n",
       "\n",
       "    .dataframe tbody tr th {\n",
       "        vertical-align: top;\n",
       "    }\n",
       "\n",
       "    .dataframe thead th {\n",
       "        text-align: right;\n",
       "    }\n",
       "</style>\n",
       "<table border=\"1\" class=\"dataframe\">\n",
       "  <thead>\n",
       "    <tr style=\"text-align: right;\">\n",
       "      <th></th>\n",
       "      <th>MPG</th>\n",
       "      <th>Cylinders</th>\n",
       "      <th>Displacement</th>\n",
       "      <th>Horsepower</th>\n",
       "      <th>Weight</th>\n",
       "      <th>Acceleration</th>\n",
       "      <th>Year</th>\n",
       "      <th>Origin:0</th>\n",
       "      <th>Origin:1</th>\n",
       "      <th>Origin:2</th>\n",
       "    </tr>\n",
       "  </thead>\n",
       "  <tbody>\n",
       "    <tr>\n",
       "      <th>393</th>\n",
       "      <td>27.0</td>\n",
       "      <td>4</td>\n",
       "      <td>140.0</td>\n",
       "      <td>86.0</td>\n",
       "      <td>2790.0</td>\n",
       "      <td>15.6</td>\n",
       "      <td>82</td>\n",
       "      <td>0.0</td>\n",
       "      <td>0.0</td>\n",
       "      <td>1.0</td>\n",
       "    </tr>\n",
       "    <tr>\n",
       "      <th>394</th>\n",
       "      <td>44.0</td>\n",
       "      <td>4</td>\n",
       "      <td>97.0</td>\n",
       "      <td>52.0</td>\n",
       "      <td>2130.0</td>\n",
       "      <td>24.6</td>\n",
       "      <td>82</td>\n",
       "      <td>1.0</td>\n",
       "      <td>0.0</td>\n",
       "      <td>0.0</td>\n",
       "    </tr>\n",
       "    <tr>\n",
       "      <th>395</th>\n",
       "      <td>32.0</td>\n",
       "      <td>4</td>\n",
       "      <td>135.0</td>\n",
       "      <td>84.0</td>\n",
       "      <td>2295.0</td>\n",
       "      <td>11.6</td>\n",
       "      <td>82</td>\n",
       "      <td>0.0</td>\n",
       "      <td>0.0</td>\n",
       "      <td>1.0</td>\n",
       "    </tr>\n",
       "    <tr>\n",
       "      <th>396</th>\n",
       "      <td>28.0</td>\n",
       "      <td>4</td>\n",
       "      <td>120.0</td>\n",
       "      <td>79.0</td>\n",
       "      <td>2625.0</td>\n",
       "      <td>18.6</td>\n",
       "      <td>82</td>\n",
       "      <td>0.0</td>\n",
       "      <td>0.0</td>\n",
       "      <td>1.0</td>\n",
       "    </tr>\n",
       "    <tr>\n",
       "      <th>397</th>\n",
       "      <td>31.0</td>\n",
       "      <td>4</td>\n",
       "      <td>119.0</td>\n",
       "      <td>82.0</td>\n",
       "      <td>2720.0</td>\n",
       "      <td>19.4</td>\n",
       "      <td>82</td>\n",
       "      <td>0.0</td>\n",
       "      <td>0.0</td>\n",
       "      <td>1.0</td>\n",
       "    </tr>\n",
       "  </tbody>\n",
       "</table>\n",
       "</div>"
      ],
      "text/plain": [
       "      MPG  Cylinders  Displacement  Horsepower  Weight  Acceleration  Year  Origin:0  Origin:1  Origin:2\n",
       "393  27.0          4         140.0        86.0  2790.0          15.6    82       0.0       0.0       1.0\n",
       "394  44.0          4          97.0        52.0  2130.0          24.6    82       1.0       0.0       0.0\n",
       "395  32.0          4         135.0        84.0  2295.0          11.6    82       0.0       0.0       1.0\n",
       "396  28.0          4         120.0        79.0  2625.0          18.6    82       0.0       0.0       1.0\n",
       "397  31.0          4         119.0        82.0  2720.0          19.4    82       0.0       0.0       1.0"
      ]
     },
     "execution_count": 5,
     "metadata": {},
     "output_type": "execute_result"
    }
   ],
   "source": [
    "# Function to add one-hot encoding as extra columns to a dataframe\n",
    "def one_hot_encode_dataframe_col(df, colname):\n",
    "  encoder = OneHotEncoder(sparse=False)\n",
    "  data = df[[colname]] # Extract column as (N,1) matrix\n",
    "  data_onehot = encoder.fit_transform(data)\n",
    "  df = df.drop(columns=[colname])\n",
    "  ncats = np.size(encoder.categories_)\n",
    "  for c in range(ncats):\n",
    "    colname_c = '{}:{}'.format(colname, c)\n",
    "    df[colname_c] = data_onehot[:,c]\n",
    "  return df, encoder\n",
    "\n",
    "df_onehot, encoder_origin = one_hot_encode_dataframe_col(df, 'Origin')\n",
    "\n",
    "df_onehot.tail()"
   ]
  },
  {
   "cell_type": "code",
   "execution_count": 7,
   "metadata": {},
   "outputs": [
    {
     "name": "stdout",
     "output_type": "stream",
     "text": [
      "   Cyl  C  O\n",
      "0    4  R  U\n",
      "1    2  R  J\n",
      "2    3  G  J\n",
      "3    2  B  U\n",
      "4    4  R  U\n"
     ]
    }
   ],
   "source": [
    "# Simple example of feature cross\n",
    "\n",
    "\n",
    "cylinders = pd.Series([4,   2,    3,   2,   4], dtype='int')\n",
    "colors = pd.Series(['R', 'R', 'G', 'B', 'R'], dtype='category')\n",
    "origin = pd.Series(['U', 'J', 'J', 'U', 'U'], dtype='category')\n",
    "data = {'Cyl': cylinders, 'C': colors, 'O': origin}\n",
    "df0 = pd.DataFrame(data=data)\n",
    "print(df0)"
   ]
  },
  {
   "cell_type": "code",
   "execution_count": 10,
   "metadata": {},
   "outputs": [
    {
     "name": "stdout",
     "output_type": "stream",
     "text": [
      "     Intercept  O[T.J]  O[T.U]  D[T.80]:O[E]  D[T.80]:O[J]  D[T.80]:O[U]  Cyl    Dsp     HP     Wgt   Acc\n",
      "387        1.0     0.0     1.0           0.0           0.0           1.0  6.0  262.0   85.0  3015.0  17.0\n",
      "388        1.0     0.0     1.0           0.0           0.0           1.0  4.0  156.0   92.0  2585.0  14.5\n",
      "389        1.0     0.0     1.0           0.0           0.0           1.0  6.0  232.0  112.0  2835.0  14.7\n",
      "390        1.0     1.0     0.0           0.0           1.0           0.0  4.0  144.0   96.0  2665.0  13.9\n",
      "391        1.0     0.0     1.0           0.0           0.0           1.0  4.0  135.0   84.0  2370.0  13.0\n"
     ]
    }
   ],
   "source": [
    "# Create feature crosses for AutoMPG\n",
    "\n",
    "# For demo purposes, replace integer year with binary decade (70s and 80s)\n",
    "year = df.pop('Year')\n",
    "decade = [ 70 if (y>=70 and y<=79) else 80 for y in year ]\n",
    "df['Decade'] =  pd.Series(decade, dtype='category')\n",
    "\n",
    "# Make feature cross between #decades and origin (2*3 values)\n",
    "y = df.pop(\"MPG\") # Remove target column from dataframe and store\n",
    "df.columns = ['Cyl', 'Dsp', 'HP', 'Wgt', 'Acc',  'O', 'D'] # Shorten names\n",
    "df['O'] = df['O'].replace(['USA','Europe','Japan'], ['U','E','J'])\n",
    "df_cross = patsy.dmatrix('D:O + Cyl + Dsp + HP + Wgt + Acc', df, return_type='dataframe')\n",
    "print(df_cross.tail())"
   ]
  },
  {
   "cell_type": "code",
   "execution_count": null,
   "metadata": {},
   "outputs": [],
   "source": []
  }
 ],
 "metadata": {
  "kernelspec": {
   "display_name": "Python 3",
   "language": "python",
   "name": "python3"
  },
  "language_info": {
   "codemirror_mode": {
    "name": "ipython",
    "version": 3
   },
   "file_extension": ".py",
   "mimetype": "text/x-python",
   "name": "python",
   "nbconvert_exporter": "python",
   "pygments_lexer": "ipython3",
   "version": "3.7.3"
  }
 },
 "nbformat": 4,
 "nbformat_minor": 2
}
