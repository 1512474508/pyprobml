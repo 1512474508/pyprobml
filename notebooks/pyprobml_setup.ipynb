{
  "nbformat": 4,
  "nbformat_minor": 0,
  "metadata": {
    "accelerator": "GPU",
    "colab": {
      "name": "pyprobml-setup.ipynb",
      "version": "0.3.2",
      "provenance": [],
      "private_outputs": true,
      "collapsed_sections": [],
      "toc_visible": true,
      "include_colab_link": true
    },
    "kernelspec": {
      "display_name": "Python 3",
      "name": "python3"
    }
  },
  "cells": [
    {
      "cell_type": "markdown",
      "metadata": {
        "id": "view-in-github",
        "colab_type": "text"
      },
      "source": [
        "<a href=\"https://colab.research.google.com/github/probml/pyprobml/blob/master/notebooks/pyprobml_setup.ipynb\" target=\"_parent\"><img src=\"https://colab.research.google.com/assets/colab-badge.svg\" alt=\"Open In Colab\"/></a>"
      ]
    },
    {
      "cell_type": "markdown",
      "metadata": {
        "id": "My9BNYkvUV_w",
        "colab_type": "text"
      },
      "source": [
        "# Installation of the python probabilistic machine learning codebase\n",
        "This notebook imports all the libraries we will need. Other notebooks may only use a subset of these."
      ]
    },
    {
      "cell_type": "markdown",
      "metadata": {
        "id": "Ih1_s9f0UkXZ",
        "colab_type": "text"
      },
      "source": [
        "See [this notebook](https://colab.research.google.com/github/probml/pyprobml/blob/master/notebooks/pyprobml_setup.ipynb) for detailed setup instructions."
      ]
    },
    {
      "cell_type": "code",
      "metadata": {
        "colab_type": "code",
        "id": "YfIk2es3hJEd",
        "colab": {}
      },
      "source": [
        "# Standard Python libraries\n",
        "from __future__ import absolute_import, division, print_function, unicode_literals\n",
        "\n",
        "import os\n",
        "import time\n",
        "import numpy as np\n",
        "import glob\n",
        "import matplotlib.pyplot as plt\n",
        "import PIL\n",
        "import imageio\n",
        "\n",
        "from IPython import display\n",
        "\n",
        "import sklearn\n",
        "\n",
        "import seaborn as sns;\n",
        "sns.set(style=\"ticks\", color_codes=True)\n",
        "\n",
        "import pandas as pd\n",
        "pd.set_option('precision', 2) # 2 decimal places\n",
        "pd.set_option('display.max_rows', 20)\n",
        "pd.set_option('display.max_columns', 30)\n",
        "pd.set_option('display.width', 100) # wide windows\n",
        "\n",
        "# Check we can plot stuff\n",
        "plt.figure()\n",
        "plt.plot(range(10))"
      ],
      "execution_count": 0,
      "outputs": []
    },
    {
      "cell_type": "code",
      "metadata": {
        "id": "hpvTqXhPs-UJ",
        "colab_type": "code",
        "colab": {}
      },
      "source": [
        "# Tensorflow 2.0\n",
        "try:\n",
        "  # %tensorflow_version only exists in Colab.\n",
        "  %tensorflow_version 2.x\n",
        "except Exception:\n",
        "  pass\n",
        "import tensorflow as tf\n",
        "\n",
        "from tensorflow import keras\n",
        "\n",
        "print(\"tf version {}\".format(tf.__version__))\n",
        "if tf.test.is_gpu_available():\n",
        "    print(tf.test.gpu_device_name())\n",
        "else:\n",
        "    print(\"TF cannot find GPU\")"
      ],
      "execution_count": 0,
      "outputs": []
    },
    {
      "cell_type": "code",
      "metadata": {
        "id": "CjfJPiBxtB8l",
        "colab_type": "code",
        "colab": {}
      },
      "source": [
        "# Pytorch\n",
        "import torch\n",
        "import torchvision\n",
        "print(\"torch version {}\".format(torch.__version__))\n",
        "if torch.cuda.is_available():\n",
        "    print(torch.cuda.get_device_name(0))\n",
        "else:\n",
        "    print(\"Torch cannot find GPU\")"
      ],
      "execution_count": 0,
      "outputs": []
    },
    {
      "cell_type": "code",
      "metadata": {
        "id": "sC2z8lZ4WBUm",
        "colab_type": "code",
        "colab": {}
      },
      "source": [
        "# JAX (https://github.com/google/jax)\n",
        "!pip install --upgrade -q https://storage.googleapis.com/jax-releases/cuda$(echo $CUDA_VERSION | sed -e 's/\\.//' -e 's/\\..*//')/jaxlib-$(pip search jaxlib | grep -oP '[0-9\\.]+' | head -n 1)-cp36-none-linux_x86_64.whl\n",
        "!pip install --upgrade -q jax\n",
        "\n",
        "# Check we can use it\n",
        "import jax.numpy as jnp\n",
        "A = jnp.zeros((3,3))\n"
      ],
      "execution_count": 0,
      "outputs": []
    },
    {
      "cell_type": "code",
      "metadata": {
        "id": "qyaIZxfFWTFM",
        "colab_type": "code",
        "colab": {}
      },
      "source": [
        "# PyProbML files (data, scripts, etc)\n",
        "!rm -rf pyprobml # Run this first if the pyprobml directory already exists\n",
        "!git clone https://github.com/probml/pyprobml.git\n",
        "\n",
        "# Check we can access scripts and any functions they define\n",
        "os.chdir('pyprobml/scripts')\n",
        "import pyprobml_utils as pml\n",
        "pml.pyprobml_test()\n",
        "\n",
        "\n",
        "# Check we can read a datafile (we assume we have chdir to inside scripts dir)\n",
        "!ls '../data'\n",
        "datadir = '../data'\n",
        "import re\n",
        "fname = os.path.join(datadir, 'timemachine.txt')\n",
        "with open(fname, 'r') as f:\n",
        "    lines = f.readlines()\n",
        "    sentences = [re.sub('[^A-Za-z]+', ' ', st).lower().split()\n",
        "                   for st in lines]\n",
        "sentences[:2]\n"
      ],
      "execution_count": 0,
      "outputs": []
    },
    {
      "cell_type": "code",
      "metadata": {
        "id": "_oZT6P7hcqEw",
        "colab_type": "code",
        "colab": {}
      },
      "source": [
        ""
      ],
      "execution_count": 0,
      "outputs": []
    }
  ]
}