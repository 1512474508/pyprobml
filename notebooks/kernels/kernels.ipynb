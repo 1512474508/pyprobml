{
  "nbformat": 4,
  "nbformat_minor": 0,
  "metadata": {
    "colab": {
      "name": "kernels.ipynb",
      "provenance": [],
      "authorship_tag": "ABX9TyM58nkZzaBsQIt3m5lEa3e9",
      "include_colab_link": true
    },
    "kernelspec": {
      "name": "python3",
      "display_name": "Python 3"
    }
  },
  "cells": [
    {
      "cell_type": "markdown",
      "metadata": {
        "id": "view-in-github",
        "colab_type": "text"
      },
      "source": [
        "<a href=\"https://colab.research.google.com/github/probml/pyprobml/blob/master/notebooks/kernels/kernels.ipynb\" target=\"_parent\"><img src=\"https://colab.research.google.com/assets/colab-badge.svg\" alt=\"Open In Colab\"/></a>"
      ]
    },
    {
      "cell_type": "code",
      "metadata": {
        "id": "32nPp7Qo8CUc",
        "colab_type": "code",
        "colab": {}
      },
      "source": [
        ""
      ],
      "execution_count": 0,
      "outputs": []
    },
    {
      "cell_type": "markdown",
      "metadata": {
        "id": "C2iQh4yM8ELv",
        "colab_type": "text"
      },
      "source": [
        "# Other kernel methods\n",
        "\n",
        "[Gaussian processes](https://colab.sandbox.google.com/github/probml/pyprobml/blob/master/notebooks/gp/gp.ipynb) use positive definite (Mercer) kernels to define priors and posteriors over functions. However, we can also use such kernels to define function spaces for use in non-Bayesian applications. In this notebook, we give some examples of this."
      ]
    },
    {
      "cell_type": "code",
      "metadata": {
        "id": "R4XamF818aR5",
        "colab_type": "code",
        "colab": {}
      },
      "source": [
        ""
      ],
      "execution_count": 0,
      "outputs": []
    }
  ]
}