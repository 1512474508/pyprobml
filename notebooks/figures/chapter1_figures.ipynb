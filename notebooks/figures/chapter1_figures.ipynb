{
  "nbformat": 4,
  "nbformat_minor": 0,
  "metadata": {
    "colab": {
      "name": "chapter1_figures.ipynb",
      "provenance": [],
      "collapsed_sections": []
    },
    "kernelspec": {
      "name": "python3",
      "display_name": "Python 3"
    }
  },
  "cells": [
    {
      "cell_type": "markdown",
      "metadata": {
        "id": "gL5HzLsrDUPM",
        "colab_type": "text"
      },
      "source": [
        "[![Open In Colab](https://colab.research.google.com/assets/colab-badge.svg)](https://colab.research.google.com/github/probml/pyprobml/blob/master/notebooks/figures/chapter1_figures.ipynb)\n",
        "\n"
      ]
    },
    {
      "cell_type": "markdown",
      "metadata": {
        "id": "xMEFX8DznQC5",
        "colab_type": "text"
      },
      "source": [
        "##### Copyright and License.\n",
        "\n",
        "![GitHub](https://img.shields.io/github/license/probml/pyprobml)"
      ]
    },
    {
      "cell_type": "code",
      "metadata": {
        "id": "DRkQ6l6Lnnuv",
        "colab_type": "code",
        "colab": {},
        "cellView": "form"
      },
      "source": [
        "#@title Agreement\n",
        "\n",
        "# Copyright (c) 2021 Kevin P. Murphy (murphyk@gmail.com) and Mahmoud Soliman (mjs@aucegypt.edu)\n",
        "#\n",
        "# Permission is hereby granted, free of charge, to any person obtaining a\n",
        "# copy of this software and associated documentation files (the \"Software\"),\n",
        "# to deal in the Software without restriction, including without limitation\n",
        "# the rights to use, copy, modify, merge, publish, distribute, sublicense,\n",
        "# and/or sell copies of the Software, and to permit persons to whom the\n",
        "# Software is furnished to do so, subject to the following conditions:\n",
        "#\n",
        "# The above copyright notice and this permission notice shall be included in\n",
        "# all copies or substantial portions of the Software.\n",
        "#\n",
        "# THE SOFTWARE IS PROVIDED \"AS IS\", WITHOUT WARRANTY OF ANY KIND, EXPRESS OR\n",
        "# IMPLIED, INCLUDING BUT NOT LIMITED TO THE WARRANTIES OF MERCHANTABILITY,\n",
        "# FITNESS FOR A PARTICULAR PURPOSE AND NONINFRINGEMENT. IN NO EVENT SHALL\n",
        "# THE AUTHORS OR COPYRIGHT HOLDERS BE LIABLE FOR ANY CLAIM, DAMAGES OR OTHER\n",
        "# LIABILITY, WHETHER IN AN ACTION OF CONTRACT, TORT OR OTHERWISE, ARISING\n",
        "# FROM, OUT OF OR IN CONNECTION WITH THE SOFTWARE OR THE USE OR OTHER\n",
        "# DEALINGS IN THE SOFTWARE."
      ],
      "execution_count": null,
      "outputs": []
    },
    {
      "cell_type": "markdown",
      "metadata": {
        "id": "tEPrhkWco3AU",
        "colab_type": "text"
      },
      "source": [
        "#Setup and environment sanity checks\n",
        "Check the hardware specifications for the GCP VM this notebook running on and the software stack installed."
      ]
    },
    {
      "cell_type": "code",
      "metadata": {
        "id": "LmGavxNegH4A",
        "colab_type": "code",
        "colab": {},
        "cellView": "form"
      },
      "source": [
        "#@title Imports\n",
        "from tensorflow.python.client import device_lib\n",
        "from psutil import virtual_memory\n",
        "import cv2\n",
        "from google.colab.patches import cv2_imshow\n",
        "%tensorflow_version 2.x\n",
        "import tensorflow as tf\n",
        "import os"
      ],
      "execution_count": null,
      "outputs": []
    },
    {
      "cell_type": "code",
      "metadata": {
        "id": "DySk3IyvsTUq",
        "colab_type": "code",
        "colab": {},
        "cellView": "form"
      },
      "source": [
        "#@title Hardware check\n",
        "\n",
        "\n",
        "\n",
        "def find_accelerator():\n",
        "  \n",
        "  mem = virtual_memory()\n",
        "  devices=device_lib.list_local_devices()\n",
        "  RAM=\"Physical RAM: {:.2f} GB\".format(mem.total/(1024*1024*1024))\n",
        "  try:\n",
        "    tpu = tf.distribute.cluster_resolver.TPUClusterResolver()  \n",
        "    device=[\"TPU at \"+str(tpu.cluster_spec().as_dict()['worker'])]  \n",
        "  except ValueError:\n",
        "    device =[d.physical_device_desc for d in devices if d.device_type==\"GPU\"]\n",
        "  if not device:\n",
        "    return None, RAM\n",
        "  return device ,  RAM \n",
        "\n",
        "a,r=find_accelerator()\n",
        "print(\"Accelerator found:\",a,r)\n",
        "\n"
      ],
      "execution_count": null,
      "outputs": []
    },
    {
      "cell_type": "code",
      "metadata": {
        "id": "OStleC8s7um9",
        "colab_type": "code",
        "colab": {},
        "cellView": "form"
      },
      "source": [
        "#@title Install the extra required packages\n",
        "!apt install octave  -qq > /dev/null\n",
        "!apt-get install liboctave-dev -qq > /dev/null"
      ],
      "execution_count": null,
      "outputs": []
    },
    {
      "cell_type": "code",
      "metadata": {
        "id": "-vudXuETwKMa",
        "colab_type": "code",
        "colab": {},
        "cellView": "form"
      },
      "source": [
        "#@title Clone PyProbML repo and set enviroment variables\n",
        "!git clone https://github.com/probml/pyprobml/ -q\n",
        "os.environ[\"PYPROBML\"]='/content/pyprobml/'"
      ],
      "execution_count": null,
      "outputs": []
    },
    {
      "cell_type": "markdown",
      "metadata": {
        "id": "Tp-jsBVskH3H",
        "colab_type": "text"
      },
      "source": [
        "# Figures\n"
      ]
    },
    {
      "cell_type": "code",
      "metadata": {
        "id": "YRdgnZL1-JOx",
        "colab_type": "code",
        "colab": {},
        "cellView": "form"
      },
      "source": [
        "#@title Helper code to display images\n",
        "def display_image(image,ratio):\n",
        "    img = cv2.imread(image, cv2.IMREAD_UNCHANGED)\n",
        "    img=cv2.resize(img, (0,0), fx=ratio, fy=ratio) \n",
        "    cv2_imshow(img)\n",
        "    print(\"\\n\")"
      ],
      "execution_count": null,
      "outputs": []
    },
    {
      "cell_type": "markdown",
      "metadata": {
        "id": "01q3xv6pLWUr",
        "colab_type": "text"
      },
      "source": [
        "Figure 1.1: \n",
        "\n",
        "Boxplots of MPG (miles per gallon) vs \n",
        "\n",
        "(a) country of origin, or \n",
        "\n",
        "(b) year of manufacture. The dotted red line is the\n",
        "average"
      ]
    },
    {
      "cell_type": "code",
      "metadata": {
        "id": "2wQIG85RLHFn",
        "colab_type": "code",
        "colab": {},
        "cellView": "form"
      },
      "source": [
        "#@title Figure 1.1\n",
        "%cd /content/pyprobml/scripts\n",
        "%run /content/pyprobml/scripts/autompg_plot.py\n"
      ],
      "execution_count": null,
      "outputs": []
    },
    {
      "cell_type": "markdown",
      "metadata": {
        "id": "-2eo3HxXMtGY",
        "colab_type": "text"
      },
      "source": [
        "Figure 1.2: \n",
        "\n",
        "(a) Linear regression on some 1d data. \n",
        "\n",
        "(b) The vertical lines denote the residuals between the observed output value for each input (blue circle) and its predicted value (red cross). The goal of least squares regression is to pick a line that minimizes the sum of squared residuals."
      ]
    },
    {
      "cell_type": "code",
      "metadata": {
        "id": "t3Ex3QTqMpK5",
        "colab_type": "code",
        "colab": {},
        "cellView": "form"
      },
      "source": [
        "#@title Figure 1.2\n",
        "%cd /content/pyprobml/scripts\n",
        "%run /content/pyprobml/scripts/linreg_residuals_plot.py"
      ],
      "execution_count": null,
      "outputs": []
    },
    {
      "cell_type": "markdown",
      "metadata": {
        "id": "a2ooCDtANdyK",
        "colab_type": "text"
      },
      "source": [
        "Figure 1.5: \n",
        "\n",
        "Visualization of the Iris data as a pairwise scatter plot. The diagonal plots the marginal histograms of the 4 features.\n",
        "The off diagonals contain scatterplots of all possible pairs of features."
      ]
    },
    {
      "cell_type": "code",
      "metadata": {
        "id": "YdtUnWIjNeM8",
        "colab_type": "code",
        "colab": {},
        "cellView": "form"
      },
      "source": [
        "#@title Figure 1.5\n",
        "%cd /content/pyprobml/scripts\n",
        "%run /content/pyprobml/scripts/iris_plot.py"
      ],
      "execution_count": null,
      "outputs": []
    },
    {
      "cell_type": "markdown",
      "metadata": {
        "id": "LSuvDmjYOQrU",
        "colab_type": "text"
      },
      "source": [
        "Figure 1.6: \n",
        "\n",
        "NLL loss surface for binary logistic regression applied to Iris dataset with 1 feature and 1 bias term.\n"
      ]
    },
    {
      "cell_type": "code",
      "metadata": {
        "id": "5h4v_07zz3ab",
        "colab_type": "code",
        "colab": {},
        "cellView": "form"
      },
      "source": [
        "#@title Figure 1.6\n",
        "\n",
        "%run /content/pyprobml/scripts/iris_logreg_loss_surface.py\n"
      ],
      "execution_count": null,
      "outputs": []
    },
    {
      "cell_type": "markdown",
      "metadata": {
        "id": "4paKolxqOc6j",
        "colab_type": "text"
      },
      "source": [
        "Fig 1.7b \n",
        "\n",
        "Illustration of a nonconvex 2d function with many local maxima."
      ]
    },
    {
      "cell_type": "code",
      "metadata": {
        "id": "a_zbKanmz-aP",
        "colab_type": "code",
        "colab": {},
        "cellView": "form"
      },
      "source": [
        "#@title Figure 1.7b\n",
        "%cd /content/pyprobml/scripts/matlab\n",
        "!octave -W '/content/pyprobml/scripts/matlab/maxGMMplot.m' >> _\n",
        "display_image(\"./output1.jpg\",0.4)\n",
        "print(\"\\n\")\n",
        "display_image(\"./output2.jpg\",0.4)\n",
        "%cd /content/"
      ],
      "execution_count": null,
      "outputs": []
    },
    {
      "cell_type": "markdown",
      "metadata": {
        "id": "A4q6PgLaOyu6",
        "colab_type": "text"
      },
      "source": [
        "Figure 1.8: \n",
        "\n",
        "(a-c) Polynomial of degrees 1, 14 and 20 fit to 21 datapoints (the same data as in Fig. 1.2). With a degree- 20 polynomial, we can perfectly interpolate all $N=21$ training points, as we see. \n",
        "\n",
        "(d) MSE vs degree."
      ]
    },
    {
      "cell_type": "code",
      "metadata": {
        "id": "41Z36GjVAOfb",
        "colab_type": "code",
        "colab": {},
        "cellView": "both"
      },
      "source": [
        "#@title Figure 1.8\n",
        "%cd /content/pyprobml/scripts/\n",
        "%run /content/pyprobml/scripts/linreg_poly_vs_degree.py"
      ],
      "execution_count": null,
      "outputs": []
    },
    {
      "cell_type": "markdown",
      "metadata": {
        "id": "e5xHEeomrMiG",
        "colab_type": "text"
      },
      "source": [
        "Figure 1.10 \n",
        "\n",
        "Illustration of the binomial distribution with $N=10$ and \n",
        "\n",
        "(a) $\\mu=0.25$ and \n",
        "\n",
        "(b) $\\mu=0.9$."
      ]
    },
    {
      "cell_type": "code",
      "metadata": {
        "id": "sgk-b4W_m7E8",
        "colab_type": "code",
        "colab": {},
        "cellView": "form"
      },
      "source": [
        "#@title Figure 1.10 \n",
        "%run /content/pyprobml/scripts/binom_dist_plot.py\n",
        " "
      ],
      "execution_count": null,
      "outputs": []
    },
    {
      "cell_type": "markdown",
      "metadata": {
        "id": "pYZzOyEuPH_g",
        "colab_type": "text"
      },
      "source": [
        "Figure 1.11: \n",
        "\n",
        "(a) The sigmoid (logistic) function \u001b$\\sigma(a) =(1+e^{a})^ {-1}$ \n",
        "\n",
        "(b) The Heaviside function $I(a>0)$.\n",
        "\n",
        "\n",
        "Figure 1.24: \n",
        "\n",
        "Plots of some popular activation functions."
      ]
    },
    {
      "cell_type": "code",
      "metadata": {
        "id": "t3R8kKAcPGvf",
        "colab_type": "code",
        "colab": {},
        "cellView": "form"
      },
      "source": [
        "#@title Figure 1.11 and Figure 1.24\n",
        "%run /content/pyprobml/scripts/activation_fun_plot.py"
      ],
      "execution_count": null,
      "outputs": []
    },
    {
      "cell_type": "markdown",
      "metadata": {
        "id": "PHgULTSZRdnh",
        "colab_type": "text"
      },
      "source": [
        "Figure 1.12:\n",
        "\n",
        "Logistic regression applied to a 1-dimensional, 2-class version of the Iris dataset.\n",
        "\n",
        "Figure 1.13b: \n",
        "\n",
        "Visualization of optimal linear decision boundary induced by logistic regression on a 2-class, 2-feature\n",
        "version of the iris dataset\n",
        "\n",
        "Figure 1.17: \n",
        "\n",
        "Logistic regression on the 3-class, 2-feature version of the Iris dataset."
      ]
    },
    {
      "cell_type": "code",
      "metadata": {
        "id": "By8zQX5xRe-7",
        "colab_type": "code",
        "colab": {},
        "cellView": "form"
      },
      "source": [
        "#@title Figure 1.12 and Figure 1.13b and 1.17\n",
        "%run /content/pyprobml/scripts/iris_logreg.py"
      ],
      "execution_count": null,
      "outputs": []
    },
    {
      "cell_type": "markdown",
      "metadata": {
        "id": "Bc1S7CvgR7tt",
        "colab_type": "text"
      },
      "source": [
        "Figure 1.15: \n",
        "\n",
        "Plots of \u001b$\\sigma(w_{1}x_{1}+w_{2}x_{2})$. Here $w=(w_{1},w_{2})$ defines the normal to the decision boundary. Points to the right\n",
        "of this have \u001b$\\sigma(w^T,x)>0.5$, and points to the left have \u001b$\\sigma(w^T,x)<0.5$."
      ]
    },
    {
      "cell_type": "code",
      "metadata": {
        "id": "z5DyOFrpR732",
        "colab_type": "code",
        "colab": {},
        "cellView": "form"
      },
      "source": [
        "#@title Figure 1.15\n",
        "%run /content/pyprobml/scripts/sigmoid_2d_plot.py"
      ],
      "execution_count": null,
      "outputs": []
    },
    {
      "cell_type": "markdown",
      "metadata": {
        "id": "ePWrKuZbUaD0",
        "colab_type": "text"
      },
      "source": [
        "Figure 1.16: \n",
        "\n",
        "Softmax distribution $\\mathcal{S}(a/T)$, where $a=(3,0,1)$, at temperatures of $T=100$, $T=2$ and $T=1$. When the\n",
        "temperature is high (left), the distribution is uniform, whereas when the temperature is low (right), the distribution is “spiky”,\n",
        "with most of its mass on the largest element"
      ]
    },
    {
      "cell_type": "code",
      "metadata": {
        "id": "97w6SBNSUaUJ",
        "colab_type": "code",
        "colab": {},
        "cellView": "form"
      },
      "source": [
        "#@title Figure 1.16\n",
        "%run /content/pyprobml/scripts/softmax_plot.py"
      ],
      "execution_count": null,
      "outputs": []
    },
    {
      "cell_type": "markdown",
      "metadata": {
        "id": "SxJucLstXAQt",
        "colab_type": "text"
      },
      "source": [
        "Figure 1.18: \n",
        "\n",
        "Example of 3-class logistic regression with 2d inputs. \n",
        "\n",
        "(a) Original features. \n",
        "\n",
        "(b) Quadratic features. "
      ]
    },
    {
      "cell_type": "code",
      "metadata": {
        "id": "Zpk_U2CEXAhE",
        "colab_type": "code",
        "colab": {},
        "cellView": "form"
      },
      "source": [
        "#@title Figure 1.18\n",
        "%cd /content/pyprobml/scripts/\n",
        "%run /content/pyprobml/scripts/logreg_multiclass_demo.py"
      ],
      "execution_count": null,
      "outputs": []
    },
    {
      "cell_type": "markdown",
      "metadata": {
        "id": "LAbbpEmSX_GI",
        "colab_type": "text"
      },
      "source": [
        "Figure 1.19:\n",
        "\n",
        "(a) A Gaussian pdf with mean 0 and variance 1. (This is known as the **standard normal**.)  \n",
        "\n",
        "(b) Visualization of the conditional density model $p(y|x,\\theta)=\\mathcal{N}(y|w_{0} + w_{1},\\sigma ^{2})$. The density falls off\n",
        "exponentially fast as we move away from the regression line."
      ]
    },
    {
      "cell_type": "code",
      "metadata": {
        "id": "2YeRgh04X_aA",
        "colab_type": "code",
        "colab": {},
        "cellView": "form"
      },
      "source": [
        "#@title Figure 1.19\n",
        "%run /content/pyprobml/scripts/gauss_plot.py\n",
        "%run /content/pyprobml/scripts/linreg_wedge_plot.py"
      ],
      "execution_count": null,
      "outputs": []
    },
    {
      "cell_type": "markdown",
      "metadata": {
        "id": "3CW9YGeaYiM-",
        "colab_type": "text"
      },
      "source": [
        "Figure 1.20: \n",
        "\n",
        "Polynomial regression applied to 2d data. Vertical axis is temperature, horizontal axes are location within a\n",
        "room. Data was collected by some remote sensing motes at Intel’s lab in Berkeley, CA (data courtesy of Romain Thibaux).\n",
        "\n",
        "(a) The fitted plane has the form $\\widehat{f}(x)=w_{0} + w_{1}x_{1} + w_{2}x_{2}$.\n",
        "\n",
        "(b) Temperature data is fitted with a quadratic of the form $\\widehat{f}(x)=w_{0} + w_{1}x_{1} + w_{2}x_{2} +w_{3}x_{1}^{2}+w_{4}x_{2}^{2}$\n"
      ]
    },
    {
      "cell_type": "code",
      "metadata": {
        "id": "HsT9YcbeYikr",
        "colab_type": "code",
        "colab": {},
        "cellView": "form"
      },
      "source": [
        "#@title Figure 1.20\n",
        "%run /content/pyprobml/scripts/linreg_2d_surface_demo.py"
      ],
      "execution_count": null,
      "outputs": []
    },
    {
      "cell_type": "markdown",
      "metadata": {
        "id": "WE-QXy5CYyoj",
        "colab_type": "text"
      },
      "source": [
        "Figure 1.21: \n",
        "\n",
        "(a) Contours of the RSS error surface for the example in Fig. 1.2. The blue cross represents the MLE. \n",
        "\n",
        "(b)\n",
        "Corresponding surface plot."
      ]
    },
    {
      "cell_type": "code",
      "metadata": {
        "id": "fFxbjdCLRm-Q",
        "colab_type": "code",
        "colab": {},
        "cellView": "form"
      },
      "source": [
        "#@title Figure 1.21\n",
        "%run /content/pyprobml/scripts/linreg_contours_sse_plot.py"
      ],
      "execution_count": null,
      "outputs": []
    },
    {
      "cell_type": "markdown",
      "metadata": {
        "id": "-qiN1bk4ZBCZ",
        "colab_type": "text"
      },
      "source": [
        "Figure 1.23: \n",
        "\n",
        "Linear regression using Gaussian output with mean \u0016$\\mu(x)=b + wx$ \u0003  and \n",
        "\n",
        "(a) fixed variance $\\sigma^{2}$ (homoskedastic) or\n",
        "\n",
        "\n",
        "(b) input-dependent variance \u001b$\\sigma(x)^{2}$ (heteroskedastic)."
      ]
    },
    {
      "cell_type": "code",
      "metadata": {
        "id": "e8IUi21IZBUs",
        "colab_type": "code",
        "colab": {},
        "cellView": "form"
      },
      "source": [
        "#@title Figure 1.23\n",
        "%run /content/pyprobml/scripts/linreg_1d_hetero_tfp.py"
      ],
      "execution_count": null,
      "outputs": []
    },
    {
      "cell_type": "markdown",
      "metadata": {
        "id": "ZbtxrUkZZqV_",
        "colab_type": "text"
      },
      "source": [
        "Figure 1.27: \n",
        "\n",
        "Illustration of predictions from an MLP fit using MLE to a 1d regression dataset with growing noise. \n",
        "\n",
        "(a) Output\n",
        "variance is input-dependent, as in Fig. 1.26. \n",
        "\n",
        "(b) Mean is computed using same model as in (a), but output variance is treated as\n",
        "a fixed parameter $\\sigma^{2}$, which is estimated by MLE after training, as in Sec. 10.3.4.2"
      ]
    },
    {
      "cell_type": "code",
      "metadata": {
        "id": "t-Z_tr3yZq4E",
        "colab_type": "code",
        "colab": {},
        "cellView": "form"
      },
      "source": [
        "#@title Figure 1.27\n",
        "%run /content/pyprobml/scripts/nonlinreg_1d_hetero_tfp.py"
      ],
      "execution_count": null,
      "outputs": []
    },
    {
      "cell_type": "markdown",
      "metadata": {
        "id": "yPbTNLXmlfcn",
        "colab_type": "text"
      },
      "source": [
        "Figure 1.28: \n",
        "\n",
        "(a) Visualization of the MNIST dataset [LeC+98a; YB19]. Each image is $32\\times32\\times1$, where the final dimension\n",
        "of size 1 refers to gray scale. There are 60k training examples and 10k test examples. There are 10 classes, corresponding to\n",
        "the digits 0–9. \n",
        "\n",
        "(b) Visualization of the FashionMNIST dataset [XRV17]. Each image is\n",
        "$32\\times32\\times1$, where the final dimension of size 1 refers to gray scale. There are 60k training examples and 10k test examples.\n",
        "There are 10 classes: ’T-shirt/top’, ’Trouser’, ’Pullover’, ’Dress’, ’Coat’, ’Sandal’, ’Shirt’, ’Sneaker’, ’Bag’, ’Ankle boot’. We show\n",
        "the first 25 images from the training set. "
      ]
    },
    {
      "cell_type": "code",
      "metadata": {
        "id": "UESrGO6PZzXl",
        "colab_type": "code",
        "colab": {},
        "cellView": "form"
      },
      "source": [
        "#@title Figure 1.28\n",
        "%run /content/pyprobml/scripts/mnist_mlp_tf.py\n",
        "%run /content/pyprobml/scripts/fashion_mlp_tf.py"
      ],
      "execution_count": null,
      "outputs": []
    },
    {
      "cell_type": "markdown",
      "metadata": {
        "id": "lNtfvQjlr6di",
        "colab_type": "text"
      },
      "source": [
        "Figure 1.29: \n",
        "\n",
        "(a) Some images from the CIFAR-10 dataset . Each image is $32\\times32\\times3$, where the final dimension of\n",
        "size 3 refers to RGB. There are 50k training examples and 10k test examples. There are 10 classes: plane, car, bird, cat, deer,\n",
        "dog, frog, horse, ship, and truck. We show the first 25 images from the training set."
      ]
    },
    {
      "cell_type": "code",
      "metadata": {
        "id": "qa4_24RTr6u5",
        "colab_type": "code",
        "colab": {},
        "cellView": "form"
      },
      "source": [
        "#@title Figure 1.29\n",
        "%run /content/pyprobml/scripts/cifar_viz_tf.py\n"
      ],
      "execution_count": null,
      "outputs": []
    },
    {
      "cell_type": "markdown",
      "metadata": {
        "id": "sQesaQXxslVN",
        "colab_type": "text"
      },
      "source": [
        "Figure 1.37: \n",
        "\n",
        "A simple regression tree on two inputs."
      ]
    },
    {
      "cell_type": "code",
      "metadata": {
        "id": "mklkDBCZsluB",
        "colab_type": "code",
        "colab": {},
        "cellView": "form"
      },
      "source": [
        "#@title Figure 1.37\n",
        "\n",
        "%cd /content/pyprobml/scripts/matlab\n",
        "!octave -W '//content/pyprobml/scripts/matlab/regtreeSurfaceDemo.m' >> _\n",
        "display_image(\"./output1.jpg\",0.4)\n"
      ],
      "execution_count": null,
      "outputs": []
    },
    {
      "cell_type": "markdown",
      "metadata": {
        "id": "r-FVEyx7xFR1",
        "colab_type": "text"
      },
      "source": [
        "Figure 1.38: \n",
        "\n",
        "(a) Iris data. We only show the first two features, sepal length and sepal width, and ignore petal length and petal\n",
        "width. \n",
        "\n",
        "(b) Decision boundaries learned by an unpruned decision tree. "
      ]
    },
    {
      "cell_type": "code",
      "metadata": {
        "id": "wVnpPliGvYqB",
        "colab_type": "code",
        "colab": {}
      },
      "source": [
        "#@title Figure 1.38 and 1.39\n",
        "\n",
        "%cd /content/pyprobml/scripts/matlab\n",
        "\n",
        "!octave -W '/content/pyprobml/scripts/matlab/dtreeDemoIris.m' >> _\n",
        "display_image(\"./output1.jpg\",0.4)\n"
      ],
      "execution_count": null,
      "outputs": []
    },
    {
      "cell_type": "markdown",
      "metadata": {
        "id": "1mNJGT_Qjzqh",
        "colab_type": "text"
      },
      "source": [
        "Figure 1.40: \n",
        "\n",
        "(a) Illustration of a K-nearest neighbors classifier in $2d$ for $K=5$. The nearest neighbors of test point $x$ have\n",
        "labels {1, 1, 1, 0, 0} so we predict $p(y=1|x,\\mathcal{D})=3/5$. \n",
        "\n",
        "(b) Illustration of the Voronoi tesselation induced by $1-NN$."
      ]
    },
    {
      "cell_type": "code",
      "metadata": {
        "id": "yjYC5-i5h9Wk",
        "colab_type": "code",
        "colab": {},
        "cellView": "form"
      },
      "source": [
        "#@title Figure 1.40\n",
        "%run /content/pyprobml/scripts/knn_voronoi_plot.py\n"
      ],
      "execution_count": null,
      "outputs": []
    },
    {
      "cell_type": "markdown",
      "metadata": {
        "id": "ZwCVUxg2kpbo",
        "colab_type": "text"
      },
      "source": [
        "Figure 1.41: \n",
        "\n",
        "Decision boundaries induced by a KNN classifier. \n",
        "\n",
        "(a) $K\u0003=1$. \n",
        "\n",
        "(b) $K =2$. \n",
        "\n",
        "(c) $K \u0003=5$. \n",
        "\n",
        "(d) Train and test error vs $K$.\n"
      ]
    },
    {
      "cell_type": "code",
      "metadata": {
        "id": "oOxgoudMkqUi",
        "colab_type": "code",
        "colab": {},
        "cellView": "form"
      },
      "source": [
        "#@title Figure 1.41\n",
        "%run /content/pyprobml/scripts/knn_classify_demo.py\n"
      ],
      "execution_count": null,
      "outputs": []
    },
    {
      "cell_type": "markdown",
      "metadata": {
        "id": "0zIUnNpBk2LG",
        "colab_type": "text"
      },
      "source": [
        "Figure 1.42b: \n",
        "\n",
        "\n",
        "Illustration of the curse of dimensionality. \n",
        "\n",
        "\n",
        "(b)We plot the edge length of a cube needed to cover a given volume of the unit cube as a function of the number of dimensions."
      ]
    },
    {
      "cell_type": "code",
      "metadata": {
        "id": "UPhzwsPnk32P",
        "colab_type": "code",
        "colab": {},
        "cellView": "form"
      },
      "source": [
        "#@title Figure 1.42\n",
        "%run /content/pyprobml/scripts/curse_dimensionality_plot.py\n"
      ],
      "execution_count": null,
      "outputs": []
    },
    {
      "cell_type": "markdown",
      "metadata": {
        "id": "mL4kFehClGmk",
        "colab_type": "text"
      },
      "source": [
        "Figure 1.43: \n",
        "\n",
        "(a-c) Ridge regression applied to a degree 14 polynomial fit to 21 datapoints. \n",
        "\n",
        "(d) MSE vs strength of regularizer.\n",
        "The degree of regularization increases from left to right, so model complexity decreases from left to right."
      ]
    },
    {
      "cell_type": "code",
      "metadata": {
        "id": "UZlUbB3WlF4T",
        "colab_type": "code",
        "colab": {},
        "cellView": "form"
      },
      "source": [
        "#@title Figure 1.43\n",
        "%run /content/pyprobml/scripts/linreg_poly_ridge.py\n"
      ],
      "execution_count": null,
      "outputs": []
    },
    {
      "cell_type": "markdown",
      "metadata": {
        "id": "NujrVlyPlVOO",
        "colab_type": "text"
      },
      "source": [
        "Figure 1.44: \n",
        "\n",
        "\n",
        "Predictions made by a polynomial regression model fit to a small dataset. \n",
        "\n",
        "(a) Plugin approximation to predictive\n",
        "density using the MLE. Black curve is posterior mean, error bars are 2 standard deviations. \n",
        "\n",
        "(b) Bayesian posterior predictive\n",
        "density, obtained by integrating out the parameters. Generated by linreg_post_pred_plot.py."
      ]
    },
    {
      "cell_type": "code",
      "metadata": {
        "id": "qo0OV_MWlYLV",
        "colab_type": "code",
        "colab": {},
        "cellView": "form"
      },
      "source": [
        "#@title Figure 1.44\n",
        "%run /content/pyprobml/scripts/linreg_post_pred_plot.py\n"
      ],
      "execution_count": null,
      "outputs": []
    },
    {
      "cell_type": "markdown",
      "metadata": {
        "id": "2XeTKRgvlmlV",
        "colab_type": "text"
      },
      "source": [
        "Figure 1.45: \n",
        "\n",
        "Performance of a text classifier (an MLP applied to a bag of word embeddings using average pooling) vs number of\n",
        "training epochs on the IMDB movie sentiment dataset. $Blue = train, red = validation$. \n",
        "\n",
        "(a) Cross entropy loss. Early stopping is\n",
        "triggered at about epoch 25. \n",
        "\n",
        "(b) Classification accuracy."
      ]
    },
    {
      "cell_type": "code",
      "metadata": {
        "id": "irD_2N4JlnFF",
        "colab_type": "code",
        "colab": {},
        "cellView": "form"
      },
      "source": [
        "#@title Figure 1.45\n",
        "%cd /content/pyprobml/scripts\n",
        "%run /content/pyprobml/scripts/imdb_mlp_bow_tf.py\n"
      ],
      "execution_count": null,
      "outputs": []
    },
    {
      "cell_type": "markdown",
      "metadata": {
        "id": "nAKHu-0GmGK4",
        "colab_type": "text"
      },
      "source": [
        "Figure 1.46: \n",
        "\n",
        "MSE on training and test sets vs size of training set, for data generated from a degree 2 polynomial with Gaussian\n",
        "noise of variance \u001b$\\sigma^{2}$=4. We fit polynomial models of varying degree to this data."
      ]
    },
    {
      "cell_type": "code",
      "metadata": {
        "id": "Am4THcCplxsd",
        "colab_type": "code",
        "colab": {},
        "cellView": "form"
      },
      "source": [
        "#@title Figure 1.46\n",
        "%run /content/pyprobml/scripts/linreg_poly_vs_n.py\n"
      ],
      "execution_count": null,
      "outputs": []
    },
    {
      "cell_type": "markdown",
      "metadata": {
        "id": "_F2bYT7jmQ1G",
        "colab_type": "text"
      },
      "source": [
        "Figure 1.49: \n",
        "\n",
        "(a) A scatterplot of the petal features from the iris dataset. \n",
        "\n",
        "(b) The result of unsupervised clustering using $K=3$."
      ]
    },
    {
      "cell_type": "code",
      "metadata": {
        "id": "cA3eIZbomRFx",
        "colab_type": "code",
        "colab": {},
        "cellView": "form"
      },
      "source": [
        "#@title Figure 1.49\n",
        "%run /content/pyprobml/scripts/iris_kmeans.py"
      ],
      "execution_count": null,
      "outputs": []
    },
    {
      "cell_type": "markdown",
      "metadata": {
        "id": "oO77zt6Gmlau",
        "colab_type": "text"
      },
      "source": [
        "Figure 1.50: \n",
        "\n",
        "(a) Some 3d data points. \n",
        "\n",
        "(b) We fit a 2d linear subspace to the 3d data using PCA."
      ]
    },
    {
      "cell_type": "code",
      "metadata": {
        "id": "m3FggayDmi-g",
        "colab_type": "code",
        "colab": {},
        "cellView": "form"
      },
      "source": [
        "#@title Figure 1.50\n",
        "%run /content/pyprobml/scripts/pca_demo.py"
      ],
      "execution_count": null,
      "outputs": []
    }
  ]
}