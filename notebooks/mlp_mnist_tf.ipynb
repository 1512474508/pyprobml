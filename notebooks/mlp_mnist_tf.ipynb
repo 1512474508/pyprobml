{
  "nbformat": 4,
  "nbformat_minor": 0,
  "metadata": {
    "colab": {
      "name": "mlp-mnist-tf.ipynb",
      "provenance": [],
      "toc_visible": true,
      "include_colab_link": true
    },
    "kernelspec": {
      "name": "python3",
      "display_name": "Python 3"
    },
    "accelerator": "GPU"
  },
  "cells": [
    {
      "cell_type": "markdown",
      "metadata": {
        "id": "view-in-github",
        "colab_type": "text"
      },
      "source": [
        "<a href=\"https://colab.research.google.com/github/probml/pyprobml/blob/master/notebooks/mlp_mnist_tf.ipynb\" target=\"_parent\"><img src=\"https://colab.research.google.com/assets/colab-badge.svg\" alt=\"Open In Colab\"/></a>"
      ]
    },
    {
      "cell_type": "markdown",
      "metadata": {
        "id": "QF_0i-K8kTVb"
      },
      "source": [
        "# MLP on MNIST using TF 2.0"
      ]
    },
    {
      "cell_type": "code",
      "metadata": {
        "id": "4gxhcMwIkWhE"
      },
      "source": [
        "# Standard Python libraries\n",
        "from __future__ import absolute_import, division, print_function, unicode_literals\n",
        "\n",
        "import os\n",
        "import time\n",
        "import numpy as np\n",
        "import glob\n",
        "import matplotlib.pyplot as plt\n",
        "import PIL\n",
        "import imageio\n",
        "from IPython import display\n",
        "import sklearn\n",
        "from time import time"
      ],
      "execution_count": 29,
      "outputs": []
    },
    {
      "cell_type": "code",
      "metadata": {
        "id": "04olJ_KNkXtP",
        "colab": {
          "base_uri": "https://localhost:8080/"
        },
        "outputId": "fe9b5e34-a1c3-4bab-889d-4bf1fd47dd7a"
      },
      "source": [
        "# Tensorflow\n",
        "try:\n",
        "  # %tensorflow_version only exists in Colab.\n",
        "  %tensorflow_version 2.x\n",
        "except Exception:\n",
        "  pass\n",
        "import tensorflow as tf\n",
        "\n",
        "from tensorflow import keras\n",
        "\n",
        "print(\"tf version {}\".format(tf.__version__))\n",
        "if tf.test.is_gpu_available():\n",
        "    print(tf.test.gpu_device_name())\n",
        "else:\n",
        "    print(\"TF cannot find GPU\")"
      ],
      "execution_count": 30,
      "outputs": [
        {
          "output_type": "stream",
          "text": [
            "tf version 2.3.0\n",
            "/device:GPU:0\n"
          ],
          "name": "stdout"
        }
      ]
    },
    {
      "cell_type": "code",
      "metadata": {
        "colab": {
          "base_uri": "https://localhost:8080/"
        },
        "id": "aojHBWP9oFzV",
        "outputId": "8b357fc2-a029-40ea-eb83-3d22c7d6d226"
      },
      "source": [
        "tf.config.list_physical_devices('GPU')"
      ],
      "execution_count": 31,
      "outputs": [
        {
          "output_type": "execute_result",
          "data": {
            "text/plain": [
              "[PhysicalDevice(name='/physical_device:GPU:0', device_type='GPU')]"
            ]
          },
          "metadata": {
            "tags": []
          },
          "execution_count": 31
        }
      ]
    },
    {
      "cell_type": "code",
      "metadata": {
        "id": "AHNAC99akgr2",
        "colab": {
          "base_uri": "https://localhost:8080/",
          "height": 621
        },
        "outputId": "363f2693-4bb4-460a-dace-d40457c9de76"
      },
      "source": [
        "np.random.seed(0)\n",
        "\n",
        "FASHION = False\n",
        "\n",
        "if FASHION:\n",
        "  (train_images, train_labels), (test_images, test_labels) = keras.datasets.fashion_mnist.load_data() \n",
        "  class_names = ['T-shirt/top', 'Trouser', 'Pullover', 'Dress', 'Coat', \n",
        "               'Sandal', 'Shirt', 'Sneaker', 'Bag', 'Ankle boot']\n",
        "else:\n",
        "  (train_images, train_labels), (test_images, test_labels) = keras.datasets.mnist.load_data() \n",
        "  class_names = [str(x) for x in range(10)]\n",
        "train_images = train_images / 255.0\n",
        "test_images = test_images / 255.0\n",
        "\n",
        "print(np.shape(train_images))\n",
        "print(np.shape(test_images))\n",
        "#(60000, 28, 28)\n",
        "#(10000, 28, 28)\n",
        "\n",
        "\n",
        "plt.figure(figsize=(10,10))\n",
        "for i in range(25):\n",
        "    plt.subplot(5,5,i+1)\n",
        "    plt.xticks([])\n",
        "    plt.yticks([])\n",
        "    plt.grid(False)\n",
        "    plt.imshow(train_images[i], cmap=plt.cm.binary)\n",
        "    plt.xlabel(class_names[train_labels[i]])\n",
        "#save_fig(\"fashion-mnist-data.pdf\")\n",
        "plt.show()"
      ],
      "execution_count": 32,
      "outputs": [
        {
          "output_type": "stream",
          "text": [
            "(60000, 28, 28)\n",
            "(10000, 28, 28)\n"
          ],
          "name": "stdout"
        },
        {
          "output_type": "display_data",
          "data": {
            "image/png": "[encoded data removed]",
            "text/plain": [
              "<Figure size 720x720 with 25 Axes>"
            ]
          },
          "metadata": {
            "tags": []
          }
        }
      ]
    },
    {
      "cell_type": "code",
      "metadata": {
        "id": "dBHJvIfWkkrH",
        "colab": {
          "base_uri": "https://localhost:8080/"
        },
        "outputId": "94492100-2c53-4219-c7a5-64c748861604"
      },
      "source": [
        "\n",
        "model = keras.Sequential([\n",
        "    keras.layers.Flatten(input_shape=(28, 28)),\n",
        "    keras.layers.Dense(128, activation=tf.nn.relu),\n",
        "    keras.layers.Dense(128, activation=tf.nn.relu),\n",
        "    keras.layers.Dense(10, activation=tf.nn.softmax)\n",
        "])\n",
        "\n",
        "model.summary()\n",
        "    \n",
        "model.compile(optimizer='adam', \n",
        "              loss='sparse_categorical_crossentropy',\n",
        "              metrics=['accuracy'])\n",
        "\n",
        "\n",
        "# We just train for 2 epochs because (1) it is faster, and\n",
        "# (2) it produces more errors, which makes for a more interesting plot :)\n",
        "time_start = time()\n",
        "model.fit(train_images, train_labels, epochs=2)\n",
        "print('time spent training {:0.3f}'.format(time() - time_start))"
      ],
      "execution_count": 33,
      "outputs": [
        {
          "output_type": "stream",
          "text": [
            "Model: \"sequential_1\"\n",
            "_________________________________________________________________\n",
            "Layer (type)                 Output Shape              Param #   \n",
            "=================================================================\n",
            "flatten_1 (Flatten)          (None, 784)               0         \n",
            "_________________________________________________________________\n",
            "dense_2 (Dense)              (None, 128)               100480    \n",
            "_________________________________________________________________\n",
            "dense_3 (Dense)              (None, 128)               16512     \n",
            "_________________________________________________________________\n",
            "dense_4 (Dense)              (None, 10)                1290      \n",
            "=================================================================\n",
            "Total params: 118,282\n",
            "Trainable params: 118,282\n",
            "Non-trainable params: 0\n",
            "_________________________________________________________________\n",
            "Epoch 1/2\n",
            "1875/1875 [==============================] - 4s 2ms/step - loss: 0.2316 - accuracy: 0.9318\n",
            "Epoch 2/2\n",
            "1875/1875 [==============================] - 3s 2ms/step - loss: 0.1006 - accuracy: 0.9692\n",
            "time spent training 7.392\n"
          ],
          "name": "stdout"
        }
      ]
    },
    {
      "cell_type": "code",
      "metadata": {
        "id": "er7jDfc-knqL",
        "colab": {
          "base_uri": "https://localhost:8080/"
        },
        "outputId": "14ae00c9-350a-4c3f-9b1c-b7c728062c78"
      },
      "source": [
        "predictions = model.predict(test_images)\n",
        "print(np.shape(predictions))\n",
        "\n",
        "# Overall accuracy\n",
        "train_loss, train_acc = model.evaluate(train_images, train_labels)\n",
        "print('Train accuracy:', train_acc)\n",
        "test_loss, test_acc = model.evaluate(test_images, test_labels)\n",
        "print('Test accuracy:', test_acc)"
      ],
      "execution_count": 34,
      "outputs": [
        {
          "output_type": "stream",
          "text": [
            "(10000, 10)\n",
            "1875/1875 [==============================] - 3s 2ms/step - loss: 0.0696 - accuracy: 0.9788\n",
            "Train accuracy: 0.9787833094596863\n",
            "313/313 [==============================] - 1s 2ms/step - loss: 0.0955 - accuracy: 0.9697\n",
            "Test accuracy: 0.9696999788284302\n"
          ],
          "name": "stdout"
        }
      ]
    },
    {
      "cell_type": "code",
      "metadata": {
        "id": "NEdpVpqakqSW",
        "colab": {
          "base_uri": "https://localhost:8080/"
        },
        "outputId": "2bff91f0-102c-416d-b478-0822fb34b413"
      },
      "source": [
        "# To apply prediction to a single image, we need to reshape to an (N,D,D) tensor\n",
        "# where N=1\n",
        "img = test_images[0]\n",
        "img = (np.expand_dims(img,0))\n",
        "print(img.shape)\n",
        "predictions_single = model.predict(img)\n",
        "print(predictions_single.shape)"
      ],
      "execution_count": 35,
      "outputs": [
        {
          "output_type": "stream",
          "text": [
            "(1, 28, 28)\n",
            "(1, 10)\n"
          ],
          "name": "stdout"
        }
      ]
    },
    {
      "cell_type": "code",
      "metadata": {
        "id": "sn-AVadRlCgF"
      },
      "source": [
        "def plot_image_and_label(predictions_array, true_label, img):\n",
        "  plt.grid(False)\n",
        "  plt.xticks([])\n",
        "  plt.yticks([])\n",
        "  img = np.reshape(img, (28, 28)) # drop any trailing dimension of size 1\n",
        "  plt.imshow(img, cmap=plt.cm.binary)\n",
        "  predicted_label = np.argmax(predictions_array)\n",
        "  if predicted_label == true_label:\n",
        "    color = 'blue'\n",
        "  else:\n",
        "    color = 'red'\n",
        "  plt.xlabel(\"truth={}, pred={}, score={:2.0f}%\".format(\n",
        "      class_names[true_label],\n",
        "      class_names[predicted_label],\n",
        "      100*np.max(predictions_array)),\n",
        "      color=color)\n",
        "\n",
        "def plot_label_dist(predictions_array, true_label):\n",
        "  plt.grid(False)\n",
        "  plt.xticks([])\n",
        "  plt.yticks([])\n",
        "  thisplot = plt.bar(range(10), predictions_array, color=\"#777777\")\n",
        "  plt.ylim([0, 1]) \n",
        "  predicted_label = np.argmax(predictions_array)\n",
        "  thisplot[predicted_label].set_color('red')\n",
        "  thisplot[true_label].set_color('blue')"
      ],
      "execution_count": 36,
      "outputs": []
    },
    {
      "cell_type": "code",
      "metadata": {
        "id": "mB8HzR_slEn6",
        "colab": {
          "base_uri": "https://localhost:8080/",
          "height": 621
        },
        "outputId": "8f714dbd-b5b9-4d77-e0f2-c711bc061f67"
      },
      "source": [
        "# Plot some test images, their predicted label, and the true label\n",
        "# Color correct predictions in blue, incorrect predictions in red\n",
        "\n",
        "# We select the first 9 images plus 6 error images\n",
        "pred = np.argmax(predictions, axis=1)\n",
        "errors = np.where(pred != test_labels)[0]\n",
        "print(errors.shape)\n",
        "ndx1 = range(9)\n",
        "ndx2 = errors[:6]\n",
        "ndx = np.concatenate((ndx1, ndx2))\n",
        "print(ndx) # test images to show\n",
        "\n",
        "num_rows = 5\n",
        "num_cols = 3\n",
        "num_images = num_rows*num_cols\n",
        "plt.figure(figsize=(2*2*num_cols, 2*num_rows))\n",
        "\n",
        "for i in range(num_images):\n",
        "  n = ndx[i]\n",
        "  plt.subplot(num_rows, 2*num_cols, 2*i+1)\n",
        "  plot_image_and_label(predictions[n], test_labels[n], test_images[n])\n",
        "  plt.subplot(num_rows, 2*num_cols, 2*i+2)\n",
        "  plot_label_dist(predictions[n], test_labels[n])\n",
        "#save_fig(\"fashion-mlp-predictions-2epochs.pdf\")\n",
        "plt.show()"
      ],
      "execution_count": 37,
      "outputs": [
        {
          "output_type": "stream",
          "text": [
            "(303,)\n",
            "[  0   1   2   3   4   5   6   7   8 149 151 259 340 358 381]\n"
          ],
          "name": "stdout"
        },
        {
          "output_type": "display_data",
          "data": {
            "image/png": "[encoded data removed]",
            "text/plain": [
              "<Figure size 864x720 with 30 Axes>"
            ]
          },
          "metadata": {
            "tags": []
          }
        }
      ]
    },
    {
      "cell_type": "code",
      "metadata": {
        "id": "D1JpMMhSrBcn"
      },
      "source": [
        ""
      ],
      "execution_count": 37,
      "outputs": []
    }
  ]
}