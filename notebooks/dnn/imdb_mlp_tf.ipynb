{
  "nbformat": 4,
  "nbformat_minor": 0,
  "metadata": {
    "colab": {
      "name": "imdb_mlp_tf.ipynb",
      "provenance": [],
      "include_colab_link": true
    },
    "kernelspec": {
      "name": "python3",
      "display_name": "Python 3"
    }
  },
  "cells": [
    {
      "cell_type": "markdown",
      "metadata": {
        "id": "view-in-github",
        "colab_type": "text"
      },
      "source": [
        "<a href=\"https://colab.research.google.com/github/probml/pyprobml/blob/master/notebooks/dnn/imdb_mlp_tf.ipynb\" target=\"_parent\"><img src=\"https://colab.research.google.com/assets/colab-badge.svg\" alt=\"Open In Colab\"/></a>"
      ]
    },
    {
      "cell_type": "markdown",
      "metadata": {
        "id": "kxiXt-gMpkL2",
        "colab_type": "text"
      },
      "source": [
        "# MLP applied to IMDB movie reviews (sentiment analysis) <a class=\"anchor\" id=\"imdb-keras-mlp\"></a>\n",
        "\n",
        "We use the IMDB movie review dataset, where the task is to classify the sentiment of the review as positive or negative. We use the preprocessed version of the dataset from\n",
        "https://www.tensorflow.org/datasets"
      ]
    },
    {
      "cell_type": "markdown",
      "metadata": {
        "id": "_JOfkbubpZYg",
        "colab_type": "text"
      },
      "source": [
        ""
      ]
    }
  ]
}