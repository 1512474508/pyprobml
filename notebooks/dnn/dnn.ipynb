{
  "nbformat": 4,
  "nbformat_minor": 0,
  "metadata": {
    "colab": {
      "name": "dnn.ipynb",
      "version": "0.3.2",
      "provenance": [],
      "include_colab_link": true
    },
    "kernelspec": {
      "name": "python3",
      "display_name": "Python 3"
    }
  },
  "cells": [
    {
      "cell_type": "markdown",
      "metadata": {
        "id": "view-in-github",
        "colab_type": "text"
      },
      "source": [
        "<a href=\"https://colab.research.google.com/github/probml/pyprobml/blob/master/notebooks/dnn/dnn.ipynb\" target=\"_parent\"><img src=\"https://colab.research.google.com/assets/colab-badge.svg\" alt=\"Open In Colab\"/></a>"
      ]
    },
    {
      "cell_type": "code",
      "metadata": {
        "id": "2FZe-_mFlFm_",
        "colab_type": "code",
        "colab": {}
      },
      "source": [
        ""
      ],
      "execution_count": 0,
      "outputs": []
    },
    {
      "cell_type": "markdown",
      "metadata": {
        "id": "YMlYEa1DlIdI",
        "colab_type": "text"
      },
      "source": [
        "# Deep neural networks\n",
        "\n",
        "\n",
        "* [The Python ecosystem for deep learning](#DL)\n",
        "* [Tensorflow](https://colab.research.google.com/github/probml/pyprobml/blob/master/notebooks/intro/tf.ipynb) \n",
        "* [PyTorch](https://colab.research.google.com/github/probml/pyprobml/blob/master/notebooks/intro/pytorch.ipynb) \n",
        "* [Jax](https://colab.research.google.com/github/probml/pyprobml/blob/master/notebooks/intro/jax.ipynb) \n"
      ]
    },
    {
      "cell_type": "code",
      "metadata": {
        "id": "npp5JTeglVNv",
        "colab_type": "code",
        "colab": {}
      },
      "source": [
        ""
      ],
      "execution_count": 0,
      "outputs": []
    }
  ]
}