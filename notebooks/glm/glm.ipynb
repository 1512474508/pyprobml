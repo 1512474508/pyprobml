{
  "nbformat": 4,
  "nbformat_minor": 0,
  "metadata": {
    "colab": {
      "name": "glm.ipynb",
      "version": "0.3.2",
      "provenance": [],
      "include_colab_link": true
    },
    "kernelspec": {
      "name": "python3",
      "display_name": "Python 3"
    }
  },
  "cells": [
    {
      "cell_type": "markdown",
      "metadata": {
        "id": "view-in-github",
        "colab_type": "text"
      },
      "source": [
        "<a href=\"https://colab.research.google.com/github/probml/pyprobml/blob/master/notebooks/glm/glm.ipynb\" target=\"_parent\"><img src=\"https://colab.research.google.com/assets/colab-badge.svg\" alt=\"Open In Colab\"/></a>"
      ]
    },
    {
      "cell_type": "markdown",
      "metadata": {
        "id": "BQOC5AzvvKxc",
        "colab_type": "text"
      },
      "source": [
        "# Generalized linear models (GLM)"
      ]
    },
    {
      "cell_type": "markdown",
      "metadata": {
        "id": "6IWXKoZFvgcI",
        "colab_type": "text"
      },
      "source": [
        " ## Linear regression <a class=\"anchor\" id=\"linreg\"></a>\n",
        " \n",
        " See [this notebook](https://colab.research.google.com/github/probml/pyprobml/blob/master/notebooks/intro/linreg.ipynb) "
      ]
    },
    {
      "cell_type": "markdown",
      "metadata": {
        "id": "Rf6xIAGuvclI",
        "colab_type": "text"
      },
      "source": [
        " ## Logistic regression <a class=\"anchor\" id=\"logreg\"></a>\n",
        " \n",
        " See [this notebook](https://colab.research.google.com/github/probml/pyprobml/blob/master/notebooks/intro/logreg.ipynb) "
      ]
    },
    {
      "cell_type": "markdown",
      "metadata": {
        "id": "EhDZgVIPveji",
        "colab_type": "text"
      },
      "source": [
        ""
      ]
    }
  ]
}