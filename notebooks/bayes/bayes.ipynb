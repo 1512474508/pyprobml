{
  "nbformat": 4,
  "nbformat_minor": 0,
  "metadata": {
    "kernelspec": {
      "display_name": "Python 3",
      "language": "python",
      "name": "python3"
    },
    "language_info": {
      "codemirror_mode": {
        "name": "ipython",
        "version": 3
      },
      "file_extension": ".py",
      "mimetype": "text/x-python",
      "name": "python",
      "nbconvert_exporter": "python",
      "pygments_lexer": "ipython3",
      "version": "3.7.3"
    },
    "colab": {
      "name": "bayes.ipynb",
      "version": "0.3.2",
      "provenance": [],
      "include_colab_link": true
    }
  },
  "cells": [
    {
      "cell_type": "markdown",
      "metadata": {
        "id": "view-in-github",
        "colab_type": "text"
      },
      "source": [
        "<a href=\"https://colab.research.google.com/github/probml/pyprobml/blob/master/notebooks/bayes/bayes.ipynb\" target=\"_parent\"><img src=\"https://colab.research.google.com/assets/colab-badge.svg\" alt=\"Open In Colab\"/></a>"
      ]
    },
    {
      "cell_type": "markdown",
      "metadata": {
        "id": "zB6ogdFJ7Liw",
        "colab_type": "text"
      },
      "source": [
        "# Bayesian Statistics (Unfinished)\n"
      ]
    },
    {
      "cell_type": "code",
      "metadata": {
        "id": "VdDT44uy7Liz",
        "colab_type": "code",
        "colab": {}
      },
      "source": [
        "%matplotlib inline\n",
        "import sklearn\n",
        "import scipy\n",
        "import scipy.optimize\n",
        "import matplotlib.pyplot as plt\n",
        "import seaborn as sns\n",
        "import warnings\n",
        "warnings.filterwarnings('ignore')\n",
        "import itertools\n",
        "import time\n",
        "import numpy as np\n",
        "import os\n",
        "\n",
        "\n",
        "\n",
        "\n"
      ],
      "execution_count": 0,
      "outputs": []
    },
    {
      "cell_type": "markdown",
      "metadata": {
        "id": "TjGukFgD7Li2",
        "colab_type": "text"
      },
      "source": [
        "## Credible intervals <a class=\"anchor\" id=\"credible\"></a>\n",
        "\n",
        "\n"
      ]
    },
    {
      "cell_type": "code",
      "metadata": {
        "id": "RPVLjF_-7Li3",
        "colab_type": "code",
        "outputId": "69a70eb1-97e6-4ea6-a527-fb61d09e2fef",
        "colab": {
          "base_uri": "https://localhost:8080/",
          "height": 68
        }
      },
      "source": [
        "# We illustrate how to compute a 95% posterior credible interval for a random variable\n",
        "# with a beta distribution.\n",
        "\n",
        "from scipy.stats import beta\n",
        "\n",
        "np.random.seed(42)\n",
        "\n",
        "N1 = 2; N0 = 8; N = N0 + N1 # Sufficient statistics\n",
        "aprior = 1; bprior = 1; # prior\n",
        "apost = aprior + N1; bpost = bprior + N0 # posterior\n",
        "\n",
        "# Interval function\n",
        "alpha = 0.05\n",
        "CI1 = beta.interval(1-alpha, apost, bpost)\n",
        "print('{:0.2f}--{:0.2f}'.format(CI1[0], CI1[1])) # (0.06:0.52) \n",
        "\n",
        "# Use the inverse CFD\n",
        "l  = beta.ppf(alpha/2, apost, bpost)\n",
        "u  = beta.ppf(1-alpha/2, apost, bpost)\n",
        "CI2 = (l,u)\n",
        "print('{:0.2f}--{:0.2f}'.format(CI2[0], CI2[1])) # (0.06:0.52) \n",
        "\n",
        "# Use Monte Carlo sampling\n",
        "samples = beta.rvs(apost, bpost, size=1000)\n",
        "samples = np.sort(samples)\n",
        "CI3 = np.percentile(samples, 100*np.array([alpha/2, 1-alpha/2])) \n",
        "print('{:0.2f}--{:0.2f}'.format(CI3[0], CI3[1])) # (0.06:0.51) \n",
        "\n"
      ],
      "execution_count": 0,
      "outputs": [
        {
          "output_type": "stream",
          "text": [
            "0.06--0.52\n",
            "0.06--0.52\n",
            "0.06--0.51\n"
          ],
          "name": "stdout"
        }
      ]
    },
    {
      "cell_type": "code",
      "metadata": {
        "id": "OxwrDdco7Li6",
        "colab_type": "code",
        "colab": {}
      },
      "source": [
        ""
      ],
      "execution_count": 0,
      "outputs": []
    }
  ]
}