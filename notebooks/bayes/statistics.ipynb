{
 "cells": [
  {
   "cell_type": "markdown",
   "metadata": {},
   "source": [
    "# Statistics\n"
   ]
  },
  {
   "cell_type": "code",
   "execution_count": 1,
   "metadata": {},
   "outputs": [
    {
     "name": "stdout",
     "output_type": "stream",
     "text": [
      "jax version 0.1.39\n",
      "jax backend cpu\n",
      "torch version 1.1.0\n",
      "Torch cannot find GPU\n",
      "tf version 2.0.0-dev20190629\n",
      "TF cannot find GPU\n"
     ]
    }
   ],
   "source": [
    "%matplotlib inline\n",
    "import sklearn\n",
    "import scipy\n",
    "import scipy.optimize\n",
    "import matplotlib.pyplot as plt\n",
    "from mpl_toolkits import mplot3d\n",
    "from mpl_toolkits.mplot3d import Axes3D\n",
    "import seaborn as sns\n",
    "import warnings\n",
    "warnings.filterwarnings('ignore')\n",
    "import itertools\n",
    "import time\n",
    "from functools import partial\n",
    "\n",
    "import os\n",
    "figdir = \"../figures\" # set this to '' if you don't want to save figures\n",
    "def save_fig(fname):\n",
    "    if figdir:\n",
    "        plt.savefig(os.path.join(figdir, fname))\n",
    "\n",
    "import numpy as onp\n",
    "onp.set_printoptions(precision=3)\n",
    "import jax\n",
    "import jax.numpy as np\n",
    "from jax import grad, hessian, jacfwd, jacrev, jit, vmap\n",
    "from jax.experimental import optimizers\n",
    "print(\"jax version {}\".format(jax.__version__))\n",
    "from jax.lib import xla_bridge\n",
    "print(\"jax backend {}\".format(xla_bridge.get_backend().platform))\n",
    "\n",
    "import torch\n",
    "import torchvision\n",
    "print(\"torch version {}\".format(torch.__version__))\n",
    "if torch.cuda.is_available():\n",
    "    print(torch.cuda.get_device_name(0))\n",
    "    print(\"current device {}\".format(torch.cuda.current_device()))\n",
    "else:\n",
    "    print(\"Torch cannot find GPU\")\n",
    "    \n",
    "import tensorflow as tf\n",
    "from tensorflow import keras\n",
    "print(\"tf version {}\".format(tf.__version__))\n",
    "if tf.test.is_gpu_available():\n",
    "    print(tf.test.gpu_device_name())\n",
    "else:\n",
    "    print(\"TF cannot find GPU\")\n",
    "\n"
   ]
  },
  {
   "cell_type": "markdown",
   "metadata": {},
   "source": [
    "## Credible intervals <a class=\"anchor\" id=\"credible\"></a>\n",
    "\n",
    "\n"
   ]
  },
  {
   "cell_type": "code",
   "execution_count": 4,
   "metadata": {},
   "outputs": [
    {
     "name": "stdout",
     "output_type": "stream",
     "text": [
      "0.06--0.52\n",
      "0.06--0.52\n",
      "0.06--0.51\n"
     ]
    }
   ],
   "source": [
    "# We illustrate how to compute a 95% posterior credible interval for a random variable\n",
    "# with a beta distribution.\n",
    "\n",
    "from scipy.stats import beta\n",
    "\n",
    "onp.random.seed(42)\n",
    "\n",
    "N1 = 2; N0 = 8; N = N0 + N1 # Sufficient statistics\n",
    "aprior = 1; bprior = 1; # prior\n",
    "apost = aprior + N1; bpost = bprior + N0 # posterior\n",
    "\n",
    "# Interval function\n",
    "alpha = 0.05\n",
    "CI1 = beta.interval(1-alpha, apost, bpost)\n",
    "print('{:0.2f}--{:0.2f}'.format(CI1[0], CI1[1])) # (0.06:0.52) \n",
    "\n",
    "# Use the inverse CFD\n",
    "l  = beta.ppf(alpha/2, apost, bpost)\n",
    "u  = beta.ppf(1-alpha/2, apost, bpost)\n",
    "CI2 = (l,u)\n",
    "print('{:0.2f}--{:0.2f}'.format(CI2[0], CI2[1])) # (0.06:0.52) \n",
    "\n",
    "# Use Monte Carlo sampling\n",
    "samples = beta.rvs(apost, bpost, size=1000)\n",
    "samples = np.sort(samples)\n",
    "CI3 = onp.percentile(samples, 100*np.array([alpha/2, 1-alpha/2])) \n",
    "print('{:0.2f}--{:0.2f}'.format(CI3[0], CI3[1])) # (0.06:0.51) \n",
    "\n"
   ]
  },
  {
   "cell_type": "code",
   "execution_count": null,
   "metadata": {},
   "outputs": [],
   "source": []
  }
 ],
 "metadata": {
  "kernelspec": {
   "display_name": "Python 3",
   "language": "python",
   "name": "python3"
  },
  "language_info": {
   "codemirror_mode": {
    "name": "ipython",
    "version": 3
   },
   "file_extension": ".py",
   "mimetype": "text/x-python",
   "name": "python",
   "nbconvert_exporter": "python",
   "pygments_lexer": "ipython3",
   "version": "3.7.3"
  }
 },
 "nbformat": 4,
 "nbformat_minor": 2
}
