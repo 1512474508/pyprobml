{
  "nbformat": 4,
  "nbformat_minor": 0,
  "metadata": {
    "colab": {
      "name": "lvm.ipynb",
      "provenance": [],
      "collapsed_sections": [],
      "include_colab_link": true
    },
    "kernelspec": {
      "name": "python3",
      "display_name": "Python 3"
    }
  },
  "cells": [
    {
      "cell_type": "markdown",
      "metadata": {
        "id": "view-in-github",
        "colab_type": "text"
      },
      "source": [
        "<a href=\"https://colab.research.google.com/github/probml/pyprobml/blob/master/notebooks/lvm/lvm.ipynb\" target=\"_parent\"><img src=\"https://colab.research.google.com/assets/colab-badge.svg\" alt=\"Open In Colab\"/></a>"
      ]
    },
    {
      "cell_type": "markdown",
      "metadata": {
        "id": "SCN7XKGkX3Th",
        "colab_type": "text"
      },
      "source": [
        "# Latent variable models (LVM)\n",
        "\n",
        "* Autoencoders\n",
        "  * [Fashion](https://colab.research.google.com/github/probml/pyprobml/blob/master/notebooks/lvm/ae_fashion_tf.ipynb)\n",
        "  * [CelebA](https://colab.research.google.com/github/probml/pyprobml/blob/master/notebooks/lvm/ae_vae_celeba_tf.ipynb)\n",
        "  * [MNIST 2d](https://colab.research.google.com/github/probml/pyprobml/blob/master/notebooks/lvm/ae_mnist_2d_tf.ipynb)\n",
        "* VAE\n",
        "  * [Fashion](https://colab.research.google.com/github/probml/pyprobml/blob/master/notebooks/lvm/vae_fashion_tf.ipynb)\n",
        "  * [CelebA](https://colab.research.google.com/github/probml/pyprobml/blob/master/notebooks/lvm/vae_celeba_tf.ipynb)\n",
        "  * [MNIST 2d](https://colab.research.google.com/github/probml/pyprobml/blob/master/notebooks/lvm/vae_mnist_2d_tf.ipynb)\n",
        "* GANs\n",
        "  * [DCGAN Fashion](https://colab.research.google.com/github/probml/pyprobml/blob/master/notebooks/lvm/dcgan_fashion_tf.ipynb)\n"
      ]
    },
    {
      "cell_type": "code",
      "metadata": {
        "id": "lRuWbd0qYEKT",
        "colab_type": "code",
        "colab": {
          "base_uri": "https://localhost:8080/",
          "height": 34
        },
        "outputId": "f0db14a6-aba5-45ba-ccbb-905308253d24"
      },
      "source": [
        "print('This is a test')"
      ],
      "execution_count": 1,
      "outputs": [
        {
          "output_type": "stream",
          "text": [
            "This is a test\n"
          ],
          "name": "stdout"
        }
      ]
    },
    {
      "cell_type": "code",
      "metadata": {
        "id": "_D0mspMxY_7z",
        "colab_type": "code",
        "colab": {}
      },
      "source": [
        ""
      ],
      "execution_count": 0,
      "outputs": []
    }
  ]
}