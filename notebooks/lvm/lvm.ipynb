{
  "nbformat": 4,
  "nbformat_minor": 0,
  "metadata": {
    "colab": {
      "name": "lvm.ipynb",
      "version": "0.3.2",
      "provenance": [],
      "collapsed_sections": [],
      "include_colab_link": true
    },
    "kernelspec": {
      "name": "python3",
      "display_name": "Python 3"
    }
  },
  "cells": [
    {
      "cell_type": "markdown",
      "metadata": {
        "id": "view-in-github",
        "colab_type": "text"
      },
      "source": [
        "<a href=\"https://colab.research.google.com/github/probml/pyprobml/blob/master/notebooks/lvm/lvm.ipynb\" target=\"_parent\"><img src=\"https://colab.research.google.com/assets/colab-badge.svg\" alt=\"Open In Colab\"/></a>"
      ]
    },
    {
      "cell_type": "markdown",
      "metadata": {
        "id": "SCN7XKGkX3Th",
        "colab_type": "text"
      },
      "source": [
        "# Latent variable models (LVM)\n",
        "\n",
        "* [Autoencoders](https://colab.research.google.com/github/probml/pyprobml/blob/master/notebooks/lvm/ae_fashion_tf.ipynb) "
      ]
    },
    {
      "cell_type": "code",
      "metadata": {
        "id": "lRuWbd0qYEKT",
        "colab_type": "code",
        "colab": {}
      },
      "source": [
        ""
      ],
      "execution_count": 0,
      "outputs": []
    }
  ]
}