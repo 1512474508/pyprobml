{
  "nbformat": 4,
  "nbformat_minor": 0,
  "metadata": {
    "colab": {
      "name": "statmod.ipynb",
      "provenance": [],
      "collapsed_sections": [],
      "include_colab_link": true
    },
    "kernelspec": {
      "name": "python3",
      "display_name": "Python 3"
    }
  },
  "cells": [
    {
      "cell_type": "markdown",
      "metadata": {
        "id": "view-in-github",
        "colab_type": "text"
      },
      "source": [
        "<a href=\"https://colab.research.google.com/github/probml/pyprobml/blob/master/notebooks/statmod-struct/statmod-struct.ipynb\" target=\"_parent\"><img src=\"https://colab.research.google.com/assets/colab-badge.svg\" alt=\"Open In Colab\"/></a>"
      ]
    },
    {
      "cell_type": "markdown",
      "metadata": {
        "id": "jdoFigu6nCm6",
        "colab_type": "text"
      },
      "source": [
        "# Statistical models: structured\n",
        "\n",
        "In this chapter, we discuss models of the form p(y|x)"
      ]
    },
    {
      "cell_type": "code",
      "metadata": {
        "id": "7A8icwLcnEp8",
        "colab_type": "code",
        "outputId": "26640daf-d833-4bfe-c78a-21295997ac7a",
        "colab": {
          "base_uri": "https://localhost:8080/",
          "height": 51
        }
      },
      "source": [
        "import numpy as np\n",
        "print(np.random.randn(10))"
      ],
      "execution_count": 0,
      "outputs": [
        {
          "output_type": "stream",
          "text": [
            "[-0.39466746 -2.73415426  0.12097845  1.62681686  0.61285748  1.35446915\n",
            " -0.68113115 -1.45760164  0.2077077   1.62142639]\n"
          ],
          "name": "stdout"
        }
      ]
    },
    {
      "cell_type": "markdown",
      "metadata": {
        "id": "ynIEJcaAiHE0",
        "colab_type": "text"
      },
      "source": [
        " ## Linear regression <a class=\"anchor\" id=\"linreg\"></a>\n",
        " \n",
        " See [this notebook](https://colab.research.google.com/github/probml/pyprobml/blob/master/notebooks/intro/linreg.ipynb) \n",
        " "
      ]
    },
    {
      "cell_type": "markdown",
      "metadata": {
        "id": "jS4ZRmFBiKYc",
        "colab_type": "text"
      },
      "source": [
        " ## Logistic regression <a class=\"anchor\" id=\"logreg\"></a>\n",
        " \n",
        " See [this notebook](https://colab.research.google.com/github/probml/pyprobml/blob/master/notebooks/intro/logreg.ipynb) "
      ]
    }
  ]
}