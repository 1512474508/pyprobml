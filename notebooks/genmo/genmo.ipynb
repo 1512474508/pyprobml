{
  "nbformat": 4,
  "nbformat_minor": 0,
  "metadata": {
    "colab": {
      "name": "genmo.ipynb",
      "provenance": [],
      "include_colab_link": true
    },
    "kernelspec": {
      "name": "python3",
      "display_name": "Python 3"
    }
  },
  "cells": [
    {
      "cell_type": "markdown",
      "metadata": {
        "id": "view-in-github",
        "colab_type": "text"
      },
      "source": [
        "<a href=\"https://colab.research.google.com/github/probml/pyprobml/blob/master/notebooks/genmo/genmo.ipynb\" target=\"_parent\"><img src=\"https://colab.research.google.com/assets/colab-badge.svg\" alt=\"Open In Colab\"/></a>"
      ]
    },
    {
      "cell_type": "markdown",
      "metadata": {
        "id": "-vGa5N8BTGW1",
        "colab_type": "text"
      },
      "source": [
        "# Other deep generative models\n",
        "\n",
        "In this notebook, we consider various kinds of generative models (beyond the VAE family).\n",
        "\n",
        "* Generative Adversarial Networks (GANs)\n",
        "  * [DCGAN Fashion](https://colab.research.google.com/github/probml/pyprobml/blob/master/notebooks/gan/dcgan_fashion_tf.ipynb)\n"
      ]
    },
    {
      "cell_type": "code",
      "metadata": {
        "id": "wGWrIj7Rj5Qp",
        "colab_type": "code",
        "colab": {}
      },
      "source": [
        ""
      ],
      "execution_count": 0,
      "outputs": []
    }
  ]
}