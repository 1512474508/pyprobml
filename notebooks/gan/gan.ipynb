{
  "nbformat": 4,
  "nbformat_minor": 0,
  "metadata": {
    "colab": {
      "name": "GANs.ipynb",
      "provenance": [],
      "authorship_tag": "ABX9TyOStUjMggoQSH7swkBE2Nfl",
      "include_colab_link": true
    },
    "kernelspec": {
      "name": "python3",
      "display_name": "Python 3"
    }
  },
  "cells": [
    {
      "cell_type": "markdown",
      "metadata": {
        "id": "view-in-github",
        "colab_type": "text"
      },
      "source": [
        "<a href=\"https://colab.research.google.com/github/probml/pyprobml/blob/master/notebooks/gan/gan.ipynb\" target=\"_parent\"><img src=\"https://colab.research.google.com/assets/colab-badge.svg\" alt=\"Open In Colab\"/></a>"
      ]
    },
    {
      "cell_type": "markdown",
      "metadata": {
        "id": "kyri5lARlDoD",
        "colab_type": "text"
      },
      "source": [
        "# Implicit probability models\n",
        "\n",
        "* Generative Adversarial Networks (GANs)\n",
        "  * [DCGAN Fashion](https://colab.research.google.com/github/probml/pyprobml/blob/master/notebooks/gan/dcgan_fashion_tf.ipynb)"
      ]
    },
    {
      "cell_type": "code",
      "metadata": {
        "id": "Hq4Jh04XlI7s",
        "colab_type": "code",
        "colab": {}
      },
      "source": [
        ""
      ],
      "execution_count": 0,
      "outputs": []
    }
  ]
}