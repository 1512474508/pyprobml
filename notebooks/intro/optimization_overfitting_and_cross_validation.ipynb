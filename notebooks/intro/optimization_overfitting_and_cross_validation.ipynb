{
  "nbformat": 4,
  "nbformat_minor": 0,
  "metadata": {
    "colab": {
      "name": "optimization_overfitting_and_cross_validation.ipynb",
      "provenance": [],
      "include_colab_link": true,
      "collapsed_sections": []
    },
    "kernelspec": {
      "name": "python3",
      "display_name": "Python 3"
    },
    "accelerator": "GPU"
  },
  "cells": [
      {
        "cell_type": "markdown",
        "metadata": {
          "id": "view-in-github",
          "colab_type": "text"
        },
        "source": [
          "<a href=\"https://colab.research.google.com/github/probml/pyprobml/blob/master/notebooks/intro/optimization_overfitting_and_cross_validation.ipynb\" target=\"_parent\"><img src=\"https://colab.research.google.com/assets/colab-badge.svg\" alt=\"Open In Colab\"/></a>"
        ]
      },
    {
      "cell_type": "markdown",
      "metadata": {
        "id": "POrA585UFLms",
        "colab_type": "text"
      },
      "source": [
        "##### Copyright and License.\n",
        "\n",
        "![GitHub](https://img.shields.io/github/license/probml/pyprobml)\n"
      ]
    },
    {
      "cell_type": "code",
      "metadata": {
        "id": "DRkQ6l6Lnnuv",
        "colab_type": "code",
        "colab": {},
        "cellView": "form"
      },
      "source": [
        "#@title Agreement\n",
        "\n",
        "# Copyright (c) 2021 Kevin P. Murphy (murphyk@gmail.com) and Mahmoud Soliman (mjs@aucegypt.edu)\n",
        "#\n",
        "# Permission is hereby granted, free of charge, to any person obtaining a\n",
        "# copy of this software and associated documentation files (the \"Software\"),\n",
        "# to deal in the Software without restriction, including without limitation\n",
        "# the rights to use, copy, modify, merge, publish, distribute, sublicense,\n",
        "# and/or sell copies of the Software, and to permit persons to whom the\n",
        "# Software is furnished to do so, subject to the following conditions:\n",
        "#\n",
        "# The above copyright notice and this permission notice shall be included in\n",
        "# all copies or substantial portions of the Software.\n",
        "#\n",
        "# THE SOFTWARE IS PROVIDED \"AS IS\", WITHOUT WARRANTY OF ANY KIND, EXPRESS OR\n",
        "# IMPLIED, INCLUDING BUT NOT LIMITED TO THE WARRANTIES OF MERCHANTABILITY,\n",
        "# FITNESS FOR A PARTICULAR PURPOSE AND NONINFRINGEMENT. IN NO EVENT SHALL\n",
        "# THE AUTHORS OR COPYRIGHT HOLDERS BE LIABLE FOR ANY CLAIM, DAMAGES OR OTHER\n",
        "# LIABILITY, WHETHER IN AN ACTION OF CONTRACT, TORT OR OTHERWISE, ARISING\n",
        "# FROM, OUT OF OR IN CONNECTION WITH THE SOFTWARE OR THE USE OR OTHER\n",
        "# DEALINGS IN THE SOFTWARE."
      ],
      "execution_count": null,
      "outputs": []
    },
    {
      "cell_type": "code",
      "metadata": {
        "id": "I3CEU8u0FQR0",
        "colab_type": "code",
        "colab": {},
        "cellView": "form"
      },
      "source": [
        "#@title Attribution \n",
        "#This notebook is based on the following: \n",
        "#https://www.tensorflow.org/tutorials/keras/overfit_and_underfit\n",
        "#https://scikit-learn.org/stable/modules/cross_validation.html#cross-validation"
      ],
      "execution_count": null,
      "outputs": []
    },
    {
      "cell_type": "code",
      "metadata": {
        "id": "qEYlbLuzFh_b",
        "colab_type": "code",
        "colab": {},
        "cellView": "form"
      },
      "source": [
        "#@title Imports\n",
        "from tensorflow.python.client import device_lib\n",
        "from psutil import virtual_memory\n",
        "import cv2\n",
        "from google.colab.patches import cv2_imshow\n",
        "%tensorflow_version 2.x\n",
        "import tensorflow as tf\n",
        "import os\n",
        "\n",
        "\n",
        "from tensorflow.keras import layers\n",
        "from tensorflow.keras import regularizers\n",
        "from  IPython import display\n",
        "from matplotlib import pyplot as plt\n",
        "\n",
        "import numpy as np\n",
        "\n",
        "import pathlib\n",
        "import shutil\n",
        "import tempfile\n",
        "\n",
        "from tqdm import tqdm"
      ],
      "execution_count": null,
      "outputs": []
    },
    {
      "cell_type": "code",
      "metadata": {
        "id": "X_8KoI6UFkRo",
        "colab_type": "code",
        "colab": {},
        "cellView": "form"
      },
      "source": [
        "#@title Hardware check \n",
        "\n",
        "\n",
        "\n",
        "def find_accelerator():\n",
        "  \n",
        "  mem = virtual_memory()\n",
        "  devices=device_lib.list_local_devices()\n",
        "  RAM=\"Physical RAM: {:.2f} GB\".format(mem.total/(1024*1024*1024))\n",
        "  try:\n",
        "    tpu = tf.distribute.cluster_resolver.TPUClusterResolver()  \n",
        "    device=[\"TPU at \"+str(tpu.cluster_spec().as_dict()['worker'])]  \n",
        "  except ValueError:\n",
        "    device =[d.physical_device_desc for d in devices if d.device_type==\"GPU\"]\n",
        "  if not device:\n",
        "    return None, RAM\n",
        "  return device ,  RAM \n",
        "\n",
        "a,r=find_accelerator()\n",
        "print(\"Please make sure that the statement below says Accelerator found\")\n",
        "print(\"Accelerator found:\",a,r)\n",
        "\n"
      ],
      "execution_count": null,
      "outputs": []
    },
    {
      "cell_type": "code",
      "metadata": {
        "id": "w3V-stpMFlJN",
        "colab_type": "code",
        "colab": {},
        "cellView": "form"
      },
      "source": [
        "#@title Install the extra required packages if any\n",
        "!pip install git+https://github.com/tensorflow/docs -q\n",
        "import tensorflow_docs as tfdocs\n",
        "import tensorflow_docs.modeling\n",
        "import tensorflow_docs.plots"
      ],
      "execution_count": null,
      "outputs": []
    },
    {
      "cell_type": "code",
      "metadata": {
        "id": "v-TOJuDUFnBq",
        "colab_type": "code",
        "colab": {},
        "cellView": "form"
      },
      "source": [
        "#@title Clone PyProbML repo and set enviroment variables\n",
        "!git clone https://github.com/probml/pyprobml/ -q\n",
        "os.environ[\"PYPROBML\"]='/content/pyprobml/'"
      ],
      "execution_count": null,
      "outputs": []
    },
    {
      "cell_type": "code",
      "metadata": {
        "id": "_VPO4WODGc-9",
        "colab_type": "code",
        "colab": {},
        "cellView": "form"
      },
      "source": [
        "#@title Setup tensorboard\n",
        "logdir = pathlib.Path(tempfile.mkdtemp())/\"tensorboard_logs\"\n",
        "shutil.rmtree(logdir, ignore_errors=True)"
      ],
      "execution_count": null,
      "outputs": []
    },
    {
      "cell_type": "code",
      "metadata": {
        "id": "V4juJBTsQ4E3",
        "colab_type": "code",
        "colab": {},
        "cellView": "both"
      },
      "source": [
        "#@title Download HIGGs dataset\n",
        "gz = tf.keras.utils.get_file('HIGGS.csv.gz', 'http://mlphysics.ics.uci.edu/data/higgs/HIGGS.csv.gz')"
      ],
      "execution_count": null,
      "outputs": []
    },
    {
      "cell_type": "code",
      "metadata": {
        "id": "ZCwHCZ1jQ456",
        "colab_type": "code",
        "colab": {}
      },
      "source": [
        "#Set variables like number of features and the sample of the entire dataset we will use. \n",
        "#Note that we are only using 10K samples to make sure the runtime is minimal.\n",
        "#The full dataset has 11 million samples\n",
        "num_features = 28\n",
        "sample_size=10000"
      ],
      "execution_count": null,
      "outputs": []
    },
    {
      "cell_type": "code",
      "metadata": {
        "id": "S52HSaWzQ83v",
        "colab_type": "code",
        "colab": {}
      },
      "source": [
        "#Using dataset api to read samples on the fly with no decompressio step\n",
        "ds = tf.data.experimental.CsvDataset(gz,[float(),]*(num_features+1), compression_type=\"GZIP\")\n",
        "#Convert a sample from a list of scalers to a pair of features and label\n",
        "def pack_row(*row):\n",
        "  label = row[0]\n",
        "  features = tf.stack(row[1:],1)\n",
        "  return features, label\n",
        "#Apply pack_row on the sample features\n",
        "packed_ds = ds.batch(sample_size).map(pack_row).unbatch()\n",
        "#Plot the 1st 1K features, note they are they are normalized to -2 and 2 and not perfectly so.\n",
        "#It should be fine for our purpose \n",
        "for features,label in packed_ds.batch(1000).take(1):\n",
        "  print(features[0])\n",
        "  plt.hist(features.numpy().flatten(), bins = 101)"
      ],
      "execution_count": null,
      "outputs": []
    },
    {
      "cell_type": "code",
      "metadata": {
        "id": "43RCuXSPRJvt",
        "colab_type": "code",
        "colab": {}
      },
      "source": [
        "#We are using 10K samples split into 8K for training and 2K for validation\n",
        "def ds_split_size(size,split=[0.2,0.8]):\n",
        "  return int(size*split[0]), int(size*split[1])\n",
        "N_VALIDATION,N_TRAIN =ds_split_size(sample_size) \n",
        "BUFFER_SIZE = sample_size\n",
        "BATCH_SIZE = 500\n",
        "STEPS_PER_EPOCH = N_TRAIN//BATCH_SIZE"
      ],
      "execution_count": null,
      "outputs": []
    },
    {
      "cell_type": "code",
      "metadata": {
        "id": "IfGYBu2Rc6Lr",
        "colab_type": "code",
        "colab": {}
      },
      "source": [
        "validate_ds = packed_ds.take(N_VALIDATION).cache()\n",
        "train_ds = packed_ds.skip(N_VALIDATION).take(N_TRAIN).cache()\n"
      ],
      "execution_count": null,
      "outputs": []
    },
    {
      "cell_type": "code",
      "metadata": {
        "id": "IFQVnooac_BF",
        "colab_type": "code",
        "colab": {}
      },
      "source": [
        "validate_ds = validate_ds.batch(BATCH_SIZE)\n",
        "train_ds = train_ds.shuffle(BUFFER_SIZE).repeat().batch(BATCH_SIZE)"
      ],
      "execution_count": null,
      "outputs": []
    },
    {
      "cell_type": "code",
      "metadata": {
        "id": "QPNBo_AvdBlI",
        "colab_type": "code",
        "colab": {}
      },
      "source": [
        "# A schedules.InverseTimeDecay instance is used to hyperbolically decrease the learning rate \n",
        "# to 1/2 of the base rate at 1000 epochs, 1/3 at 2000 epochs and so on.\n",
        "lr_schedule = tf.keras.optimizers.schedules.InverseTimeDecay(\n",
        "  0.001,\n",
        "  decay_steps=STEPS_PER_EPOCH*1000,\n",
        "  decay_rate=1,\n",
        "  staircase=False)\n",
        "step = np.linspace(0,100000)\n",
        "lr = lr_schedule(step)\n",
        "plt.figure(figsize = (8,6))\n",
        "plt.plot(step/STEPS_PER_EPOCH, lr)\n",
        "plt.ylim([0,max(plt.ylim())])\n",
        "plt.xlabel('Epoch')\n",
        "_ = plt.ylabel('Learning Rate')\n",
        "#We are using the ADAM optimizer, it's fast and will help us understand overfitting\n",
        "def get_optimizer():\n",
        "  return tf.keras.optimizers.Adam(lr_schedule)"
      ],
      "execution_count": null,
      "outputs": []
    },
    {
      "cell_type": "code",
      "metadata": {
        "id": "ngB3bqQzdIM7",
        "colab_type": "code",
        "colab": {}
      },
      "source": [
        "# We are using callbacks here to hook an early stop condition (more on that later) \n",
        "# and log the metrics to tensorboard to helo with the visualizations\n",
        "def get_callbacks(name):\n",
        "  return [\n",
        "    tfdocs.modeling.EpochDots(),\n",
        "    tf.keras.callbacks.EarlyStopping(monitor='val_binary_crossentropy', patience=200),\n",
        "    tf.keras.callbacks.TensorBoard(logdir/name),\n",
        "  ]"
      ],
      "execution_count": null,
      "outputs": []
    },
    {
      "cell_type": "code",
      "metadata": {
        "id": "4FN3tu0sdKT0",
        "colab_type": "code",
        "colab": {}
      },
      "source": [
        "# Setting up the training for 10K max epochs and using validation BCE as a metric\n",
        "def compile_and_fit(model, name,data=None, optimizer=None, max_epochs=10000):\n",
        "  if optimizer is None:\n",
        "    optimizer = get_optimizer()\n",
        "  model.compile(optimizer=optimizer,\n",
        "                loss=tf.keras.losses.BinaryCrossentropy(from_logits=True),\n",
        "                metrics=[\n",
        "                  tf.keras.losses.BinaryCrossentropy(\n",
        "                      from_logits=True, name='binary_crossentropy'),\n",
        "                  'accuracy'])\n",
        "  print(\"Starting training model size {}\".format(name))\n",
        "  if data:\n",
        "    history=model.fit(x=data[0],y=data[1],\n",
        "                      validation_data=(data[2],data[3]),\n",
        "                      steps_per_epoch = STEPS_PER_EPOCH,\n",
        "                      epochs=max_epochs,\n",
        "                      callbacks=get_callbacks(name),\n",
        "                      verbose=0)\n",
        "  else:\n",
        "    history = model.fit(\n",
        "      train_ds,\n",
        "      steps_per_epoch = STEPS_PER_EPOCH,\n",
        "      epochs=max_epochs,\n",
        "      validation_data=validate_ds,\n",
        "      callbacks=get_callbacks(name),\n",
        "      verbose=0)\n",
        "  return history"
      ],
      "execution_count": null,
      "outputs": []
    },
    {
      "cell_type": "code",
      "metadata": {
        "id": "UV5wiwRzoOLT",
        "colab_type": "code",
        "colab": {}
      },
      "source": [
        "size_histories = {}\n",
        "#Setting 4 model sizes to try with the following format (number_of_layers,width_of_layer)\n",
        "model_size={\"tiny\":(1,16),\"small\":(2,16),\"medium\":(4,64),\"large\":(4,512)}\n",
        "# Creating fully connected dense model  \n",
        "def get_models():\n",
        "  models={}\n",
        "  for name,size in model_size.items():\n",
        "    models[name]=tf.keras.Sequential(name=name)\n",
        "    models[name].add(layers.Dense(size[1], activation='elu', input_shape=(num_features,)))\n",
        "    for i in range(1,size[0]):\n",
        "      models[name].add(layers.Dense(size[1], activation='elu'))\n",
        "\n",
        "      \n",
        "    models[name].add(layers.Dense(1))\n",
        "   \n",
        "  return models\n",
        "# Now we have 4 models in a dictionary\n",
        "models=get_models()\n",
        "\n"
      ],
      "execution_count": null,
      "outputs": []
    },
    {
      "cell_type": "code",
      "metadata": {
        "id": "9g-MYfiKhFR6",
        "colab_type": "code",
        "colab": {}
      },
      "source": [
        "# We can see here the number of paramters per model \n",
        "# Note that we have 8000 X 28 datapoints for training (224K). \n",
        "# Intuitively the large model with 800K paramaters is an overkill.  \n",
        "for name,model in models.items():\n",
        "  print(model.summary())"
      ],
      "execution_count": null,
      "outputs": []
    },
    {
      "cell_type": "code",
      "metadata": {
        "id": "DAB9mJTmgZPt",
        "colab_type": "code",
        "colab": {}
      },
      "source": [
        "# Training time!\n",
        "for name,model in models.items():\n",
        "  size_histories[name] = compile_and_fit(model, 'sizes/'+name)"
      ],
      "execution_count": null,
      "outputs": []
    },
    {
      "cell_type": "code",
      "metadata": {
        "id": "kGZTVpTMoll9",
        "colab_type": "code",
        "colab": {}
      },
      "source": [
        "#Plot the BCE\n",
        "plotter = tfdocs.plots.HistoryPlotter(metric = 'binary_crossentropy', smoothing_std=10)\n",
        "plotter.plot(size_histories)\n",
        "plt.ylim([0.5, 0.7])"
      ],
      "execution_count": null,
      "outputs": []
    },
    {
      "cell_type": "code",
      "metadata": {
        "id": "ELU6Snv4oyor",
        "colab_type": "code",
        "colab": {}
      },
      "source": [
        "#Load and run tensorboard\n",
        "%load_ext tensorboard\n",
        "%tensorboard --logdir {logdir}/sizes"
      ],
      "execution_count": null,
      "outputs": []
    },
    {
      "cell_type": "markdown",
      "metadata": {
        "id": "kCWgQRdom3Zu",
        "colab_type": "text"
      },
      "source": [
        "As you can see above the both the medium and large model did overfit. \n",
        "\n",
        "The validation accuracy and BCE are worse than the training ones by significant margins (Almost perfect training scores i.e. the models \"memorized\" the training data and failed to generalize on the validation data)"
      ]
    },
    {
      "cell_type": "markdown",
      "metadata": {
        "id": "RasVE9dWn1Xp",
        "colab_type": "text"
      },
      "source": [
        "We will experiment with regularization techniques to try to pervent overfitting, an interesting change also is to use SGD as an optimizer.\n",
        "\n",
        "\n",
        "Note that SGD is much slower than ADAM in terms of runtime (but as you can see in the below graphs more stable) below are screenshots of same code only changing the optimizer to SGD instead of ADAM."
      ]
    },
    {
      "cell_type": "markdown",
      "metadata": {
        "id": "qg9yl8w9dpva",
        "colab_type": "text"
      },
      "source": [
        "![alt text](https://github.com/probml/pyprobml/raw/master/notebooks/figures/HIGGS_SGD_BCE_plot.png)\n",
        "\n",
        "![alt text](https://github.com/probml/pyprobml/raw/master/notebooks/figures/HIGGS_SGD_BCE_tensorboard.png)\n",
        "![alt text](https://github.com/probml/pyprobml/raw/master/notebooks/figures/HIGGS_SGD_Accuracy_tensorboard.png)\n",
        "\n",
        "\n"
      ]
    },
    {
      "cell_type": "markdown",
      "metadata": {
        "id": "sG9PoN2WpOtH",
        "colab_type": "text"
      },
      "source": [
        "Now that we have looked at optimizers and overfitting, let's look at a possible solution specially on small sized data (although artifically so in this instance)."
      ]
    },
    {
      "cell_type": "code",
      "metadata": {
        "id": "Z4ZXUc_8q31s",
        "colab_type": "code",
        "colab": {}
      },
      "source": [
        "# The tensorflow dataset API has support for cross validation, but not as versatile as sklearn. \n",
        "# So we will opt-in for sklearn to showcase the types of cross validation \n",
        "# We will load our 10K samples in numpy arrays to work with sklearn\n",
        "X_train_numpy=np.empty(shape=[N_TRAIN,num_features])\n",
        "y_train_numpy=np.empty(shape=[N_TRAIN])\n",
        "X_test_numpy=np.empty(shape=[N_VALIDATION,num_features])\n",
        "y_test_numpy=np.empty(shape=[N_VALIDATION])\n",
        "ci=0\n",
        "for feature,label in packed_ds.take(N_TRAIN):\n",
        "  X_train_numpy[ci]=(feature.numpy())\n",
        "  y_train_numpy[ci]=(label.numpy())\n",
        "  ci=ci+1\n",
        "ci=0\n",
        "for feature,label in packed_ds.skip(N_TRAIN).take(N_VALIDATION):\n",
        "  X_test_numpy[ci]=(feature.numpy())\n",
        "  y_test_numpy[ci]=(label.numpy())\n",
        "  ci=ci+1\n",
        "print(len(X_train_numpy))\n",
        "print(len(y_train_numpy))\n",
        "print(len(X_test_numpy))\n",
        "print(len(y_test_numpy))"
      ],
      "execution_count": null,
      "outputs": []
    },
    {
      "cell_type": "code",
      "metadata": {
        "id": "ZvVj7eUN0Ntg",
        "colab_type": "code",
        "colab": {}
      },
      "source": [
        "from sklearn.model_selection import StratifiedKFold ,LeaveOneOut\n",
        "cv_histories={}\n",
        "splits=4\n",
        "cvr=0\n",
        "kfold = StratifiedKFold(splits)\n",
        "models_cv=get_models()\n",
        "for train_index,val_index in kfold.split(X_train_numpy,y_train_numpy):\n",
        "  x_train,x_val=X_train_numpy[train_index],X_train_numpy[val_index]\n",
        "  y_train,y_val=y_train_numpy[train_index],y_train_numpy[val_index]\n",
        "  cv_histories['medium_cv_'+str(cvr)] = compile_and_fit(models_cv['medium'],\n",
        "                                              name='sizes/medium_cv_'+str(cvr),\n",
        "                                              data=[x_train,y_train,x_val,y_val],\n",
        "                                              max_epochs=64 \n",
        "                                              # Our medium model trained for 256 epochs \n",
        "                                              # So to make this apples to apples comparison\n",
        "                                              # We use 256//splits which is 64\n",
        "                                              # You can change this depending on your experiments \n",
        "                                              )\n",
        "  cvr=cvr+1\n",
        "\n"
      ],
      "execution_count": null,
      "outputs": []
    },
    {
      "cell_type": "code",
      "metadata": {
        "id": "o9T9IR30-BDq",
        "colab_type": "code",
        "colab": {}
      },
      "source": [
        "print('Test score:',models_cv['medium'].evaluate(X_test_numpy,y_test_numpy))\n",
        "# Note that the BCE for medium sized model on the test set is larger without cross validation \n",
        "# In our run it was 1.206 without CV and 1.152 with CV after same number of epochs"
      ],
      "execution_count": null,
      "outputs": []
    }
  ]
}
