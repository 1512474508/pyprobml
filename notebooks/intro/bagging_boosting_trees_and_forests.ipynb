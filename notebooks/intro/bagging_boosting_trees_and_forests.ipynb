{
  "nbformat": 4,
  "nbformat_minor": 0,
  "metadata": {
    "colab": {
      "name": "Bagging_boosting_trees_and_forests.ipynb",
      "provenance": [],
      "collapsed_sections": [],
      "include_colab_link": true,
      "toc_visible": true
    },
    "kernelspec": {
      "name": "python3",
      "display_name": "Python 3"
    }
  },
  "cells": [
    {
      "cell_type": "markdown",
      "metadata": {
        "id": "gL5HzLsrDUPM",
        "colab_type": "text"
      },
      "source": [
        "[![Open In Colab](https://colab.research.google.com/assets/colab-badge.svg)](https://colab.research.google.com/github/probml/pyprobml/blob/master/notebooks/figures/chapter1_figures.ipynb)\n",
        "\n"
      ]
    },
    {
      "cell_type": "markdown",
      "metadata": {
        "id": "xMEFX8DznQC5",
        "colab_type": "text"
      },
      "source": [
        "##### Copyright and License.\n",
        "\n",
        "![GitHub](https://img.shields.io/github/license/probml/pyprobml)"
      ]
    },
    {
      "cell_type": "code",
      "metadata": {
        "id": "DRkQ6l6Lnnuv",
        "colab_type": "code",
        "cellView": "form",
        "colab": {}
      },
      "source": [
        "#@title Agreement\n",
        "\n",
        "# Copyright (c) 2021 Kevin P. Murphy (murphyk@gmail.com) and Mahmoud Soliman (mjs@aucegypt.edu)\n",
        "#\n",
        "# Permission is hereby granted, free of charge, to any person obtaining a\n",
        "# copy of this software and associated documentation files (the \"Software\"),\n",
        "# to deal in the Software without restriction, including without limitation\n",
        "# the rights to use, copy, modify, merge, publish, distribute, sublicense,\n",
        "# and/or sell copies of the Software, and to permit persons to whom the\n",
        "# Software is furnished to do so, subject to the following conditions:\n",
        "#\n",
        "# The above copyright notice and this permission notice shall be included in\n",
        "# all copies or substantial portions of the Software.\n",
        "#\n",
        "# THE SOFTWARE IS PROVIDED \"AS IS\", WITHOUT WARRANTY OF ANY KIND, EXPRESS OR\n",
        "# IMPLIED, INCLUDING BUT NOT LIMITED TO THE WARRANTIES OF MERCHANTABILITY,\n",
        "# FITNESS FOR A PARTICULAR PURPOSE AND NONINFRINGEMENT. IN NO EVENT SHALL\n",
        "# THE AUTHORS OR COPYRIGHT HOLDERS BE LIABLE FOR ANY CLAIM, DAMAGES OR OTHER\n",
        "# LIABILITY, WHETHER IN AN ACTION OF CONTRACT, TORT OR OTHERWISE, ARISING\n",
        "# FROM, OUT OF OR IN CONNECTION WITH THE SOFTWARE OR THE USE OR OTHER\n",
        "# DEALINGS IN THE SOFTWARE."
      ],
      "execution_count": null,
      "outputs": []
    },
    {
      "cell_type": "code",
      "metadata": {
        "id": "LooMB_tChMat",
        "colab_type": "code",
        "cellView": "both",
        "colab": {}
      },
      "source": [
        "#@title Attribution \n",
        "#This notebook is based on the following: \n",
        "#https://www.kaggle.com/kevalm/xgboost-implementation-on-iris-dataset-python\n",
        "#https://xgboost.readthedocs.io/en/latest/tutorials/index.html\n",
        "#https://marcotcr.github.io/lime/tutorials/Tutorial%20-%20continuous%20and%20categorical%20features.html\n",
        "#https://scikit-learn.org/stable/auto_examples/ensemble/plot_forest_importances.html\n",
        "#https://github.com/slundberg/shap/blob/master/notebooks/kernel_explainer/Iris%20classification%20with%20scikit-learn.ipynb"
      ],
      "execution_count": null,
      "outputs": []
    },
    {
      "cell_type": "markdown",
      "metadata": {
        "id": "tEPrhkWco3AU",
        "colab_type": "text"
      },
      "source": [
        "#Setup and environment sanity checks\n",
        "Check the hardware specifications for the GCP VM this notebook running on and the software stack installed."
      ]
    },
    {
      "cell_type": "code",
      "metadata": {
        "id": "LmGavxNegH4A",
        "colab_type": "code",
        "cellView": "both",
        "colab": {}
      },
      "source": [
        "#@title Imports\n",
        "from tensorflow.python.client import device_lib\n",
        "from psutil import virtual_memory\n",
        "import cv2\n",
        "from google.colab.patches import cv2_imshow\n",
        "%tensorflow_version 2.x\n",
        "import tensorflow as tf\n",
        "import os\n",
        "import numpy as np\n",
        "import xgboost as xgb\n",
        "from xgboost import XGBClassifier\n",
        "from sklearn import metrics\n",
        "from sklearn import datasets\n",
        "from sklearn import metrics\n",
        "from sklearn.ensemble import RandomForestClassifier\n",
        "from xgboost import plot_importance\n",
        "from matplotlib import pyplot\n",
        "from sklearn.model_selection import train_test_split"
      ],
      "execution_count": null,
      "outputs": []
    },
    {
      "cell_type": "code",
      "metadata": {
        "id": "DySk3IyvsTUq",
        "colab_type": "code",
        "cellView": "form",
        "colab": {}
      },
      "source": [
        "#@title Hardware check \n",
        "\n",
        "\n",
        "\n",
        "def find_accelerator():\n",
        "  \n",
        "  mem = virtual_memory()\n",
        "  devices=device_lib.list_local_devices()\n",
        "  RAM=\"Physical RAM: {:.2f} GB\".format(mem.total/(1024*1024*1024))\n",
        "  try:\n",
        "    tpu = tf.distribute.cluster_resolver.TPUClusterResolver()  \n",
        "    device=[\"TPU at \"+str(tpu.cluster_spec().as_dict()['worker'])]  \n",
        "  except ValueError:\n",
        "    device =[d.physical_device_desc for d in devices if d.device_type==\"GPU\"]\n",
        "  if not device:\n",
        "    return None, RAM\n",
        "  return device ,  RAM \n",
        "\n",
        "a,r=find_accelerator()\n",
        "print(\"Accelerator found:\",a,r)\n",
        "\n"
      ],
      "execution_count": null,
      "outputs": []
    },
    {
      "cell_type": "code",
      "metadata": {
        "id": "OStleC8s7um9",
        "colab_type": "code",
        "cellView": "both",
        "colab": {}
      },
      "source": [
        "#@title Install the extra required packages if any\n",
        "!pip install lime -qq\n",
        "import lime\n",
        "import lime.lime_tabular as ll\n",
        "!pip install shap -qq\n",
        "import shap"
      ],
      "execution_count": null,
      "outputs": []
    },
    {
      "cell_type": "code",
      "metadata": {
        "id": "-vudXuETwKMa",
        "colab_type": "code",
        "cellView": "both",
        "colab": {}
      },
      "source": [
        "#@title Clone PyProbML repo and set enviroment variables\n",
        "!git clone https://github.com/probml/pyprobml/ -q\n",
        "os.environ[\"PYPROBML\"]='/content/pyprobml/'"
      ],
      "execution_count": null,
      "outputs": []
    },
    {
      "cell_type": "markdown",
      "metadata": {
        "id": "w9Dsy6fl8MPx",
        "colab_type": "text"
      },
      "source": [
        "# Introduction"
      ]
    },
    {
      "cell_type": "markdown",
      "metadata": {
        "id": "xNvkqv5s8SLU",
        "colab_type": "text"
      },
      "source": [
        "In this notebook we will explore how to use XGBoost and sklearn to demonstrate the bagging, boosting and forests concepts"
      ]
    },
    {
      "cell_type": "markdown",
      "metadata": {
        "id": "NBIbdCSk6W7T",
        "colab_type": "text"
      },
      "source": [
        "**XGBoost**\n",
        "\n",
        "Support for the following features:\n",
        "1. Vanilla Gradient Boosting algorithm (also known as GBDT (Grandient boosted decisin trees) or GBM(gradient boosting machine) with support to tuning [parameters](https://xgboost.readthedocs.io/en/latest/parameter.html#parameters-for-tree-booster), parallization and GPU support.\n",
        "2. Stochastic Gradient Boosting with sampling with uniform and gradient-based sampling support as well as sub-sampling at the row, column and column per split levels.\n",
        "3. Regularized Gradient Boosting with support to both L1 and L2 regularization(via alpha and lamda parameters respectively).\n",
        "4. Dropout-ique behaviour via DART booster.\n",
        "\n",
        "Note that we are using the SKLearn-like api of XGBoost for simplicity.\n",
        "\n"
      ]
    },
    {
      "cell_type": "markdown",
      "metadata": {
        "id": "fWCa52G07n__",
        "colab_type": "text"
      },
      "source": [
        "**SKLearn** \n",
        "\n",
        "supports several features for ensemble learning one of which is Random forests, which uses bagging of decision tree classifiers (weak learners) on various sub-samples of the dataset and uses averaging to improve the predictive accuracy and control over-fitting"
      ]
    },
    {
      "cell_type": "markdown",
      "metadata": {
        "id": "fCBU5_vt7SCN",
        "colab_type": "text"
      },
      "source": [
        "# Iris dataset\n"
      ]
    },
    {
      "cell_type": "code",
      "metadata": {
        "id": "5QDROXli5l1e",
        "colab_type": "code",
        "colab": {}
      },
      "source": [
        "#loading the dataset\n",
        "iris = datasets.load_iris() \n",
        "X = iris.data               \n",
        "y = iris.target             "
      ],
      "execution_count": null,
      "outputs": []
    },
    {
      "cell_type": "code",
      "metadata": {
        "id": "GkwH6S7B5rmM",
        "colab_type": "code",
        "colab": {}
      },
      "source": [
        "#Splitting data into 80/20 training and testing\n",
        "X_train, X_test, y_train, y_test = train_test_split(X, y, test_size=0.2, random_state=42)"
      ],
      "execution_count": null,
      "outputs": []
    },
    {
      "cell_type": "markdown",
      "metadata": {
        "id": "ih7VTJNQsora",
        "colab_type": "text"
      },
      "source": [
        "# Exploring boosting with xgboost"
      ]
    },
    {
      "cell_type": "code",
      "metadata": {
        "id": "GI1SE7VBOd5t",
        "colab_type": "code",
        "cellView": "form",
        "colab": {}
      },
      "source": [
        "#@title XGBClassifier\n"
      ],
      "execution_count": null,
      "outputs": []
    },
    {
      "cell_type": "code",
      "metadata": {
        "id": "RVHiiJiiP-_o",
        "colab_type": "code",
        "colab": {}
      },
      "source": [
        "xgbc = XGBClassifier()\n",
        "xgbc"
      ],
      "execution_count": null,
      "outputs": []
    },
    {
      "cell_type": "code",
      "metadata": {
        "id": "ohJ2-IKA6F6Z",
        "colab_type": "code",
        "colab": {}
      },
      "source": [
        "#Training the classifier\n",
        "xgbc.fit(X_train, y_train)\n",
        "#Inferencing on testing data\n",
        "xgbc_y_pred = xgbc.predict(X_test)\n",
        "#Measuring accuracy\n",
        "xgbc_acc=metrics.accuracy_score(y_test, xgbc_y_pred)\n",
        "print('XGBClassifier accuracy is '+str(xgbc_acc))"
      ],
      "execution_count": null,
      "outputs": []
    },
    {
      "cell_type": "code",
      "metadata": {
        "id": "_EWy2apMzPxi",
        "colab_type": "code",
        "cellView": "form",
        "colab": {}
      },
      "source": [
        "#@title Visualization of boosted tree\n",
        "import seaborn as sns\n",
        "import matplotlib.pyplot as plt\n",
        "%matplotlib inline\n",
        "\n",
        "xgb.plot_tree(xgbc, num_trees=2)\n",
        "fig = plt.gcf()\n",
        "fig.set_size_inches(150, 100)\n",
        "fig.savefig('treeIris.png') "
      ],
      "execution_count": null,
      "outputs": []
    },
    {
      "cell_type": "code",
      "metadata": {
        "id": "W9R6zux9zcHa",
        "colab_type": "code",
        "colab": {}
      },
      "source": [
        "#@title Feature importance of XGBClassifier\n",
        "\n",
        "plot_importance(xgbc)\n",
        "pyplot.show()\n",
        "\n",
        "#f1 - sepal length in cm\n",
        "#f2 - sepal width in cm\n",
        "#f3 - petal length in cm\n",
        "#f4 - petal width in cm "
      ],
      "execution_count": null,
      "outputs": []
    },
    {
      "cell_type": "code",
      "metadata": {
        "id": "BQ9pWAk2A84_",
        "colab_type": "code",
        "cellView": "both",
        "colab": {}
      },
      "source": [
        "#@title Explanation of a sample of testing data of XGBClassifier via LIME\n",
        "xgbc_lime_explainer = ll.LimeTabularExplainer(X_train, feature_names=iris.feature_names, class_names=iris.target_names, discretize_continuous=True)\n",
        "xgbc_i = np.random.randint(0, X_test.shape[0])\n",
        "xgbc_exp = xgbc_lime_explainer.explain_instance(X_test[xgbc_i], xgbc.predict_proba, num_features=2, top_labels=1)\n",
        "xgbc_exp.show_in_notebook(show_table=True, show_all=False)"
      ],
      "execution_count": null,
      "outputs": []
    },
    {
      "cell_type": "code",
      "metadata": {
        "id": "d_0qmuMmHB_I",
        "colab_type": "code",
        "colab": {}
      },
      "source": [
        "#@title Explanation of testing data of XGBClassifier via SHAP\n",
        "shap.initjs()\n",
        "# explain all the predictions in the test set\n",
        "xgbc_shap_explainer = shap.KernelExplainer(xgbc.predict_proba, X_train,model_output='probability', feature_perturbation = \"interventional\")\n",
        "xgbc_shap_values = xgbc_shap_explainer.shap_values(X_test)\n",
        "shap.force_plot(xgbc_shap_explainer.expected_value[0], xgbc_shap_values[0], X_test)"
      ],
      "execution_count": null,
      "outputs": []
    },
    {
      "cell_type": "code",
      "metadata": {
        "id": "llIFYfwBLic0",
        "colab_type": "code",
        "colab": {}
      },
      "source": [
        "xgbc_shap_explainer_2=shap.TreeExplainer(xgbc)\n",
        "xgbc_shap_values_2 = xgbc_shap_explainer_2.shap_values(X_test)\n",
        "shap.summary_plot(xgbc_shap_values_2, X_test)"
      ],
      "execution_count": null,
      "outputs": []
    },
    {
      "cell_type": "markdown",
      "metadata": {
        "id": "MtrfoIpb4vW8",
        "colab_type": "text"
      },
      "source": [
        "# Exploring bagging (Random Forests) with sklearn"
      ]
    },
    {
      "cell_type": "code",
      "metadata": {
        "id": "-9wmaLK-OL3b",
        "colab_type": "code",
        "cellView": "form",
        "colab": {}
      },
      "source": [
        "#@title RandomForestClassifier\n"
      ],
      "execution_count": null,
      "outputs": []
    },
    {
      "cell_type": "code",
      "metadata": {
        "id": "AnqPwiP_QfIa",
        "colab_type": "code",
        "colab": {}
      },
      "source": [
        "skrfc = RandomForestClassifier(n_estimators=100, max_depth=None, min_samples_split=2, random_state=42)\n",
        "skrfc.fit(X_train, y_train)"
      ],
      "execution_count": null,
      "outputs": []
    },
    {
      "cell_type": "code",
      "metadata": {
        "id": "xV5gz694TUik",
        "colab_type": "code",
        "colab": {}
      },
      "source": [
        "skrfc_y_pred = skrfc.predict(X_test)\n",
        "skrfc_acc=metrics.accuracy_score(y_test, skrfc_y_pred)\n",
        "print('RandomForestClassifier accuracy is '+str(skrfc_acc))"
      ],
      "execution_count": null,
      "outputs": []
    },
    {
      "cell_type": "code",
      "metadata": {
        "id": "NVYnGmXPPTdx",
        "colab_type": "code",
        "colab": {}
      },
      "source": [
        "#@title Feature importance of RandomForestClassifier\n",
        "importances = skrfc.feature_importances_\n",
        "std = np.std([tree.feature_importances_ for tree in skrfc.estimators_],\n",
        "             axis=0)\n",
        "indices = np.argsort(importances)[::-1]\n",
        "\n",
        "# Plot the impurity-based feature importances of the forest\n",
        "plt.figure()\n",
        "plt.title(\"Feature importances\")\n",
        "plt.bar(range(X.shape[1]), importances[indices],\n",
        "        color=\"r\", yerr=std[indices], align=\"center\")\n",
        "plt.xticks(range(X.shape[1]), indices)\n",
        "plt.xlim([-1, X.shape[1]])\n",
        "plt.show()"
      ],
      "execution_count": null,
      "outputs": []
    },
    {
      "cell_type": "code",
      "metadata": {
        "id": "web-7y5wUWmH",
        "colab_type": "code",
        "colab": {}
      },
      "source": [
        "#@title Explanation of a sample of testing data of RandomForestClassifier via LIME\n",
        "skrfc_lime_explainer = ll.LimeTabularExplainer(X_train, feature_names=iris.feature_names, class_names=iris.target_names, discretize_continuous=True)\n",
        "skrfc_i = np.random.randint(0, X_test.shape[0])\n",
        "skrfc_exp = skrfc_lime_explainer.explain_instance(X_test[xgbc_i], skrfc.predict_proba, num_features=2, top_labels=1)\n",
        "skrfc_exp.show_in_notebook(show_table=True, show_all=False)"
      ],
      "execution_count": null,
      "outputs": []
    },
    {
      "cell_type": "code",
      "metadata": {
        "id": "Ts_TcpnC-4IL",
        "colab_type": "code",
        "colab": {}
      },
      "source": [
        "#@title Explanation of testing data of RandomForestClassifier via SHAP\n",
        "shap.initjs()\n",
        "# explain all the predictions in the test set\n",
        "skrfc_shap_explainer = shap.KernelExplainer(skrfc.predict_proba, X_train,model_output='probability', feature_perturbation = \"interventional\")\n",
        "skrfc_shap_values = skrfc_shap_explainer.shap_values(X_test)\n",
        "shap.force_plot(skrfc_shap_explainer.expected_value[0], skrfc_shap_values[0], X_test)"
      ],
      "execution_count": null,
      "outputs": []
    },
    {
      "cell_type": "code",
      "metadata": {
        "id": "eEBifUbm_Phz",
        "colab_type": "code",
        "colab": {}
      },
      "source": [
        "skrfc_shap_explainer_2=shap.TreeExplainer(skrfc)\n",
        "skrfc_shap_values_2 = skrfc_shap_explainer_2.shap_values(X_test)\n",
        "shap.summary_plot(skrfc_shap_values_2, X_test)"
      ],
      "execution_count": null,
      "outputs": []
    }
  ]
}