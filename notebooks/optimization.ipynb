{
 "cells": [
  {
   "cell_type": "markdown",
   "metadata": {},
   "source": [
    "# Optimization\n",
    "\n",
    "In this notebook, we explore various optimization problems and algorithms.\n",
    "\n",
    "## TOC\n",
    "* [Automatic differentiation](#AD)\n",
    "* [Stochastic gradient descent](#SGD)"
   ]
  },
  {
   "cell_type": "code",
   "execution_count": 5,
   "metadata": {
    "scrolled": true
   },
   "outputs": [
    {
     "name": "stdout",
     "output_type": "stream",
     "text": [
      "jax version 0.1.39\n",
      "jax backend gpu\n",
      "torch version 1.1.0\n",
      "GeForce RTX 2080 with Max-Q Design\n",
      "current device 0\n",
      "tf version 2.0.0-dev20190629\n"
     ]
    },
    {
     "ename": "InternalError",
     "evalue": "CUDA runtime implicit initialization on GPU:0 failed. Status: unknown error",
     "output_type": "error",
     "traceback": [
      "\u001b[0;31m---------------------------------------------------------------------------\u001b[0m",
      "\u001b[0;31mInternalError\u001b[0m                             Traceback (most recent call last)",
      "\u001b[0;32m<ipython-input-5-b432327d0c41>\u001b[0m in \u001b[0;36m<module>\u001b[0;34m\u001b[0m\n\u001b[1;32m     40\u001b[0m \u001b[0;32mfrom\u001b[0m \u001b[0mtensorflow\u001b[0m \u001b[0;32mimport\u001b[0m \u001b[0mkeras\u001b[0m\u001b[0;34m\u001b[0m\u001b[0;34m\u001b[0m\u001b[0m\n\u001b[1;32m     41\u001b[0m \u001b[0mprint\u001b[0m\u001b[0;34m(\u001b[0m\u001b[0;34m\"tf version {}\"\u001b[0m\u001b[0;34m.\u001b[0m\u001b[0mformat\u001b[0m\u001b[0;34m(\u001b[0m\u001b[0mtf\u001b[0m\u001b[0;34m.\u001b[0m\u001b[0m__version__\u001b[0m\u001b[0;34m)\u001b[0m\u001b[0;34m)\u001b[0m\u001b[0;34m\u001b[0m\u001b[0;34m\u001b[0m\u001b[0m\n\u001b[0;32m---> 42\u001b[0;31m \u001b[0;32mif\u001b[0m \u001b[0mtf\u001b[0m\u001b[0;34m.\u001b[0m\u001b[0mtest\u001b[0m\u001b[0;34m.\u001b[0m\u001b[0mis_gpu_available\u001b[0m\u001b[0;34m(\u001b[0m\u001b[0;34m)\u001b[0m\u001b[0;34m:\u001b[0m\u001b[0;34m\u001b[0m\u001b[0;34m\u001b[0m\u001b[0m\n\u001b[0m\u001b[1;32m     43\u001b[0m     \u001b[0mprint\u001b[0m\u001b[0;34m(\u001b[0m\u001b[0mtf\u001b[0m\u001b[0;34m.\u001b[0m\u001b[0mtest\u001b[0m\u001b[0;34m.\u001b[0m\u001b[0mgpu_device_name\u001b[0m\u001b[0;34m(\u001b[0m\u001b[0;34m)\u001b[0m\u001b[0;34m)\u001b[0m\u001b[0;34m\u001b[0m\u001b[0;34m\u001b[0m\u001b[0m\n\u001b[1;32m     44\u001b[0m \u001b[0;32melse\u001b[0m\u001b[0;34m:\u001b[0m\u001b[0;34m\u001b[0m\u001b[0;34m\u001b[0m\u001b[0m\n",
      "\u001b[0;32m~/miniconda3/lib/python3.7/site-packages/tensorflow_core/python/framework/test_util.py\u001b[0m in \u001b[0;36mis_gpu_available\u001b[0;34m(cuda_only, min_cuda_compute_capability)\u001b[0m\n\u001b[1;32m   1388\u001b[0m \u001b[0;34m\u001b[0m\u001b[0m\n\u001b[1;32m   1389\u001b[0m   \u001b[0;32mtry\u001b[0m\u001b[0;34m:\u001b[0m\u001b[0;34m\u001b[0m\u001b[0;34m\u001b[0m\u001b[0m\n\u001b[0;32m-> 1390\u001b[0;31m     \u001b[0;32mfor\u001b[0m \u001b[0mlocal_device\u001b[0m \u001b[0;32min\u001b[0m \u001b[0mdevice_lib\u001b[0m\u001b[0;34m.\u001b[0m\u001b[0mlist_local_devices\u001b[0m\u001b[0;34m(\u001b[0m\u001b[0;34m)\u001b[0m\u001b[0;34m:\u001b[0m\u001b[0;34m\u001b[0m\u001b[0;34m\u001b[0m\u001b[0m\n\u001b[0m\u001b[1;32m   1391\u001b[0m       \u001b[0;32mif\u001b[0m \u001b[0mlocal_device\u001b[0m\u001b[0;34m.\u001b[0m\u001b[0mdevice_type\u001b[0m \u001b[0;34m==\u001b[0m \u001b[0;34m\"GPU\"\u001b[0m\u001b[0;34m:\u001b[0m\u001b[0;34m\u001b[0m\u001b[0;34m\u001b[0m\u001b[0m\n\u001b[1;32m   1392\u001b[0m         if (min_cuda_compute_capability is None or\n",
      "\u001b[0;32m~/miniconda3/lib/python3.7/site-packages/tensorflow_core/python/client/device_lib.py\u001b[0m in \u001b[0;36mlist_local_devices\u001b[0;34m(session_config)\u001b[0m\n\u001b[1;32m     39\u001b[0m   return [\n\u001b[1;32m     40\u001b[0m       \u001b[0m_convert\u001b[0m\u001b[0;34m(\u001b[0m\u001b[0ms\u001b[0m\u001b[0;34m)\u001b[0m\u001b[0;34m\u001b[0m\u001b[0;34m\u001b[0m\u001b[0m\n\u001b[0;32m---> 41\u001b[0;31m       \u001b[0;32mfor\u001b[0m \u001b[0ms\u001b[0m \u001b[0;32min\u001b[0m \u001b[0mpywrap_tensorflow\u001b[0m\u001b[0;34m.\u001b[0m\u001b[0mlist_devices\u001b[0m\u001b[0;34m(\u001b[0m\u001b[0msession_config\u001b[0m\u001b[0;34m=\u001b[0m\u001b[0msession_config\u001b[0m\u001b[0;34m)\u001b[0m\u001b[0;34m\u001b[0m\u001b[0;34m\u001b[0m\u001b[0m\n\u001b[0m\u001b[1;32m     42\u001b[0m   ]\n",
      "\u001b[0;32m~/miniconda3/lib/python3.7/site-packages/tensorflow_core/python/pywrap_tensorflow_internal.py\u001b[0m in \u001b[0;36mlist_devices\u001b[0;34m(session_config)\u001b[0m\n\u001b[1;32m   2203\u001b[0m     \u001b[0;32mreturn\u001b[0m \u001b[0mListDevicesWithSessionConfig\u001b[0m\u001b[0;34m(\u001b[0m\u001b[0msession_config\u001b[0m\u001b[0;34m.\u001b[0m\u001b[0mSerializeToString\u001b[0m\u001b[0;34m(\u001b[0m\u001b[0;34m)\u001b[0m\u001b[0;34m)\u001b[0m\u001b[0;34m\u001b[0m\u001b[0;34m\u001b[0m\u001b[0m\n\u001b[1;32m   2204\u001b[0m   \u001b[0;32melse\u001b[0m\u001b[0;34m:\u001b[0m\u001b[0;34m\u001b[0m\u001b[0;34m\u001b[0m\u001b[0m\n\u001b[0;32m-> 2205\u001b[0;31m     \u001b[0;32mreturn\u001b[0m \u001b[0mListDevices\u001b[0m\u001b[0;34m(\u001b[0m\u001b[0;34m)\u001b[0m\u001b[0;34m\u001b[0m\u001b[0;34m\u001b[0m\u001b[0m\n\u001b[0m\u001b[1;32m   2206\u001b[0m \u001b[0;34m\u001b[0m\u001b[0m\n\u001b[1;32m   2207\u001b[0m \u001b[0;34m\u001b[0m\u001b[0m\n",
      "\u001b[0;31mInternalError\u001b[0m: CUDA runtime implicit initialization on GPU:0 failed. Status: unknown error"
     ]
    }
   ],
   "source": [
    "\n",
    "import sklearn\n",
    "import scipy\n",
    "import scipy.optimize\n",
    "import matplotlib.pyplot as plt\n",
    "from mpl_toolkits import mplot3d\n",
    "from mpl_toolkits.mplot3d import Axes3D\n",
    "import seaborn as sns\n",
    "import warnings\n",
    "warnings.filterwarnings('ignore')\n",
    "import itertools\n",
    "import time\n",
    "from functools import partial\n",
    "\n",
    "import os\n",
    "figdir = \"../figures\" # set this to '' if you don't want to save figures\n",
    "def save_fig(fname):\n",
    "    if figdir:\n",
    "        plt.savefig(os.path.join(figdir, fname))\n",
    "\n",
    "import numpy as onp\n",
    "onp.set_printoptions(precision=3)\n",
    "import jax\n",
    "import jax.numpy as np\n",
    "from jax import grad, hessian, jacfwd, jacrev, jit, vmap\n",
    "from jax.experimental import optimizers\n",
    "print(\"jax version {}\".format(jax.__version__))\n",
    "from jax.lib import xla_bridge\n",
    "print(\"jax backend {}\".format(xla_bridge.get_backend().platform))\n",
    "\n",
    "import torch\n",
    "import torchvision\n",
    "print(\"torch version {}\".format(torch.__version__))\n",
    "if torch.cuda.is_available():\n",
    "    print(torch.cuda.get_device_name(0))\n",
    "    print(\"current device {}\".format(torch.cuda.current_device()))\n",
    "else:\n",
    "    print(\"Torch cannot find GPU\")\n",
    "    \n",
    "import tensorflow as tf\n",
    "from tensorflow import keras\n",
    "print(\"tf version {}\".format(tf.__version__))\n",
    "if tf.test.is_gpu_available():\n",
    "    print(tf.test.gpu_device_name())\n",
    "else:\n",
    "    print(\"TF cannot find GPU\")\n",
    "\n"
   ]
  },
  {
   "cell_type": "markdown",
   "metadata": {},
   "source": [
    "## Automatic differentiation <a class=\"anchor\" id=\"AD\"></a>\n",
    "\n",
    "In this section we  illustrate various AD libraries."
   ]
  },
  {
   "cell_type": "markdown",
   "metadata": {},
   "source": [
    "### AD in JAX  <a class=\"anchor\" id=\"AD-jax\"></a>\n",
    "\n",
    "For some examples of using JAX to compute the gradients, Jacobians and Hessians of simple linear and quadratic functions,\n",
    "see [this notebook](https://github.com/probml/pyprobml/blob/master/notebooks/linear_algebra.ipynb#AD-jax).\n",
    "For an example of using JAX to compute the gradient of the NLL for binary logistic regression,\n",
    "see [this notebook](https://github.com/probml/pyprobml/blob/master/notebooks/linear_algebra.ipynb#AD-jax-log).\n",
    "\n",
    "More details on JAX's autodiff can be found in the official [autodiff cookbook](https://github.com/google/jax/blob/master/notebooks/autodiff_cookbook.ipynb).\n"
   ]
  },
  {
   "cell_type": "markdown",
   "metadata": {},
   "source": [
    "### AD in TF  <a class=\"anchor\" id=\"AD-TF\"></a>\n",
    "\n",
    "Unfinished."
   ]
  },
  {
   "cell_type": "markdown",
   "metadata": {},
   "source": [
    "### AD in PyTorch  <a class=\"anchor\" id=\"AD-pytorch\"></a>\n",
    "\n",
    "Unfinished."
   ]
  },
  {
   "cell_type": "markdown",
   "metadata": {},
   "source": [
    "## Stochastic gradient descent <a class=\"anchor\" id=\"SGD\"></a>\n",
    "\n",
    "In this section we  illustrate how to implement SGD."
   ]
  },
  {
   "cell_type": "markdown",
   "metadata": {},
   "source": [
    "### SGD in Jax <a class=\"anchor\" id=\"SGD-jax\"></a>\n",
    "\n",
    "JAX has a minimal optimization library focused on stochastic first-order optimizers. Every optimizer is modeled as an (`init_fun`, `update_fun`, `get_params`) triple of functions. The `init_fun` is used to initialize the optimizer state, which could include things like momentum variables, and the `update_fun` accepts a gradient and an optimizer state to produce a new optimizer state. The `get_params` function extracts the current iterate (i.e. the current parameters) from the optimizer state. The parameters being optimized can be ndarrays or arbitrarily-nested list/tuple/dict structures, so you can store your parameters however you’d like.\n",
    "\n",
    "We give some examples below."
   ]
  },
  {
   "cell_type": "markdown",
   "metadata": {},
   "source": [
    "### SGD for logistic regression using Jax <a class=\"anchor\" id=\"SGD-logreg-jax\"></a>\n",
    "\n",
    "We consider a convex problem, namely MLE for binary logistic regression,\n",
    "where we compute the exact optimum. We solve this using a batch solver (BFGS) to create the gold standard.\n",
    "We use Jax for the gradient computations (see  [this notebook](https://github.com/probml/pyprobml/blob/master/notebooks/linear_algebra.ipynb#AD-jax-logreg) for details). We also use Jax to implement SGD."
   ]
  },
  {
   "cell_type": "code",
   "execution_count": 22,
   "metadata": {},
   "outputs": [],
   "source": [
    "# First we create a dataset.\n",
    "\n",
    "import sklearn.datasets\n",
    "from sklearn.model_selection import train_test_split\n",
    "\n",
    "iris = sklearn.datasets.load_iris()\n",
    "X = iris[\"data\"][:,:3] # Just take first 3 features to make problem harder\n",
    "y = (iris[\"target\"] == 2).astype(onp.int)  # 1 if Iris-Virginica, else 0'\n",
    "N, D = X.shape # 150, 4\n",
    "\n",
    "\n",
    "X_train, X_test, y_train, y_test = train_test_split(\n",
    "        X, y, test_size=0.33, random_state=42)\n"
   ]
  },
  {
   "cell_type": "code",
   "execution_count": 23,
   "metadata": {},
   "outputs": [
    {
     "name": "stdout",
     "output_type": "stream",
     "text": [
      "[-5.457 -4.877  9.756]\n"
     ]
    }
   ],
   "source": [
    "# Now let's find the MLE using sklearn. We will use this as the \"gold standard\"\n",
    "\n",
    "from sklearn.linear_model import LogisticRegression\n",
    "\n",
    "# We set C to a large number to turn off regularization.\n",
    "# We don't fit the bias term to simplify the comparison below.\n",
    "log_reg = LogisticRegression(solver=\"lbfgs\", C=1e5, fit_intercept=False)\n",
    "log_reg.fit(X_train, y_train)\n",
    "w_mle_sklearn = np.ravel(log_reg.coef_)\n",
    "print(w_mle_sklearn)\n"
   ]
  },
  {
   "cell_type": "code",
   "execution_count": 24,
   "metadata": {},
   "outputs": [],
   "source": [
    "# Now we try to fit the model ourselves by defining a suitable objective.\n",
    "\n",
    "def sigmoid(x): return 0.5 * (np.tanh(x / 2.) + 1)\n",
    "\n",
    "def predict_logit(weights, inputs):\n",
    "    return np.dot(inputs, weights) # Already vectorized\n",
    "\n",
    "def predict_prob(weights, inputs):\n",
    "    return sigmoid(predict_logit(weights, inputs))\n",
    "\n",
    "from jax.scipy.special import logsumexp\n",
    "#from scipy.misc import logsumexp\n",
    "\n",
    "def NLL(weights, batch):\n",
    "    # Use log-sum-exp trick\n",
    "    inputs, targets = batch\n",
    "    # p1 = 1/(1+exp(-logit)), p0 = 1/(1+exp(+logit))\n",
    "    logits = predict_logit(weights, inputs).reshape((-1,1))\n",
    "    N = logits.shape[0]\n",
    "    logits_plus = np.hstack([np.zeros((N,1)), logits]) # e^0=1\n",
    "    logits_minus = np.hstack([np.zeros((N,1)), -logits])\n",
    "    logp1 = -logsumexp(logits_minus, axis=1)\n",
    "    logp0 = -logsumexp(logits_plus, axis=1)\n",
    "    logprobs = logp1 * targets + logp0 * (1-targets)\n",
    "    return -np.sum(logprobs)/N\n",
    "\n"
   ]
  },
  {
   "cell_type": "code",
   "execution_count": 25,
   "metadata": {},
   "outputs": [
    {
     "name": "stdout",
     "output_type": "stream",
     "text": [
      "[-5.457 -4.877  9.756]\n",
      "[-5.457 -4.878  9.757]\n",
      "[0.251 0.    1.    0.048 0.019 0.    0.    0.047 0.341 0.001 0.21  0.\n",
      " 0.    0.    0.    0.01  0.998 0.009 0.297 0.998 0.    0.471 0.    0.998\n",
      " 0.689 0.386 1.    0.992 0.    0.    0.    0.    0.    0.    0.    0.901\n",
      " 0.001 0.    0.    0.    0.993 0.004 0.003 0.    0.    0.004 0.848 0.974\n",
      " 0.    0.935]\n",
      "[0.251 0.    1.    0.048 0.019 0.    0.    0.047 0.34  0.001 0.21  0.\n",
      " 0.    0.    0.    0.01  0.998 0.009 0.297 0.998 0.    0.471 0.    0.998\n",
      " 0.689 0.386 1.    0.992 0.    0.    0.    0.    0.    0.    0.    0.901\n",
      " 0.001 0.    0.    0.    0.993 0.004 0.003 0.    0.    0.004 0.848 0.974\n",
      " 0.    0.935]\n"
     ]
    }
   ],
   "source": [
    "# Batch solver.\n",
    "\n",
    "import scipy.optimize\n",
    "\n",
    "def training_loss(w):\n",
    "    return NLL(w, (X_train, y_train))\n",
    "\n",
    "def training_grad(w):\n",
    "    return grad(training_loss)(w)\n",
    "\n",
    "onp.random.seed(43)\n",
    "w_init = onp.random.randn(D)\n",
    "w_mle_scipy = scipy.optimize.minimize(training_loss, w_init, jac=training_grad, method='BFGS').x\n",
    "print(w_mle_sklearn)\n",
    "print(w_mle_scipy)\n",
    "assert np.allclose(w_mle_sklearn, w_mle_scipy, atol=1e-1) # parameters are approximately equal\n",
    "\n",
    "prob_scipy = predict_prob(w_mle_scipy, X_test)\n",
    "prob_sklearn = predict_prob(w_mle_sklearn, X_test)\n",
    "print(np.round(prob_scipy, 3))\n",
    "print(np.round(prob_sklearn, 3))\n",
    "assert np.allclose(prob_scipy, prob_sklearn, atol=1e-2) # predictions match closely\n"
   ]
  },
  {
   "cell_type": "code",
   "execution_count": 26,
   "metadata": {},
   "outputs": [
    {
     "name": "stdout",
     "output_type": "stream",
     "text": [
      "Epoch 0, train NLL 0.6990973949432373\n",
      "Epoch 500, train NLL 0.13671793043613434\n",
      "Epoch 1000, train NLL 0.13282862305641174\n",
      "Epoch 1500, train NLL 0.13254371285438538\n",
      "[0.251 0.    1.    0.048 0.019 0.    0.    0.047 0.341 0.001 0.21  0.\n",
      " 0.    0.    0.    0.01  0.998 0.009 0.297 0.998 0.    0.471 0.    0.998\n",
      " 0.689 0.386 1.    0.992 0.    0.    0.    0.    0.    0.    0.    0.901\n",
      " 0.001 0.    0.    0.    0.993 0.004 0.003 0.    0.    0.004 0.848 0.974\n",
      " 0.    0.935]\n",
      "[0.237 0.    1.    0.048 0.019 0.    0.    0.045 0.32  0.001 0.197 0.\n",
      " 0.    0.    0.    0.01  0.998 0.009 0.28  0.997 0.    0.442 0.    0.997\n",
      " 0.648 0.36  0.999 0.989 0.    0.    0.    0.    0.    0.    0.    0.882\n",
      " 0.001 0.    0.    0.    0.991 0.005 0.003 0.    0.    0.004 0.823 0.966\n",
      " 0.001 0.919]\n"
     ]
    },
    {
     "data": {
      "text/plain": [
       "[<matplotlib.lines.Line2D at 0x7f015c3cdef0>]"
      ]
     },
     "execution_count": 26,
     "metadata": {},
     "output_type": "execute_result"
    },
    {
     "data": {
      "image/png": "[encoded data removed]",
      "text/plain": [
       "<Figure size 432x288 with 1 Axes>"
      ]
     },
     "metadata": {
      "needs_background": "light"
     },
     "output_type": "display_data"
    }
   ],
   "source": [
    "# Finally we get to SGD.\n",
    "\n",
    "from jax.experimental import optimizers\n",
    "import itertools\n",
    "import time\n",
    "\n",
    "schedule = optimizers.constant(step_size=0.1)\n",
    "#schedule = optimizers.exponential_decay(step_size=0.1, decay_steps=10, decay_rate=0.9)\n",
    "#schedule = optimizers.piecewise_constant([50, 100], [0.1, 0.05, 0.01])\n",
    "\n",
    "opt_init, opt_update, get_params = optimizers.momentum(step_size=schedule, mass=0.9)\n",
    "#opt_init, opt_update, get_params = optimizers.adam(step_size=schedule)\n",
    "\n",
    "    \n",
    "@jit\n",
    "def update(i, opt_state, batch):\n",
    "  params = get_params(opt_state)\n",
    "  g = grad(NLL)(params, batch)\n",
    "  return opt_update(i, g, opt_state) # update internal state using gradient and iteration number\n",
    "\n",
    "# Make sure everything is reproducible!\n",
    "onp.random.seed(43)\n",
    "w_init = onp.random.randn(D)\n",
    "opt_state = opt_init(w_init)\n",
    "num_epochs = 2000\n",
    "loss_history = []\n",
    "\n",
    "batch_size = 10\n",
    "num_train = X_train.shape[0]\n",
    "num_complete_batches, leftover = divmod(num_train, batch_size)\n",
    "num_batches = num_complete_batches + bool(leftover)\n",
    "\n",
    "def data_stream():\n",
    "    rng = onp.random.RandomState(0)\n",
    "    while True:\n",
    "        perm = rng.permutation(num_train)\n",
    "        for i in range(num_batches):\n",
    "            batch_idx = perm[i * batch_size:(i + 1) * batch_size]\n",
    "            yield X_train[batch_idx], y_train[batch_idx]\n",
    "batches = data_stream()\n",
    "\n",
    "itercount = itertools.count()\n",
    "for epoch in range(num_epochs):\n",
    "    start_time = time.time()\n",
    "    for _ in range(num_batches):\n",
    "      opt_state = update(next(itercount), opt_state, next(batches))\n",
    "    epoch_time = time.time() - start_time\n",
    "    params = get_params(opt_state)\n",
    "    train_loss = NLL(params, (X_train, y_train))\n",
    "    loss_history.append(train_loss)\n",
    "    if epoch % 500 == 0:\n",
    "        #print(\"Epoch {} in {:0.2f} sec\".format(epoch, epoch_time))\n",
    "        print('Epoch {}, train NLL {}'.format(epoch, train_loss))\n",
    "        \n",
    "w_mle_jax = get_params(opt_state)\n",
    "\n",
    "# Rather than comparing parameters, we compare predictions\n",
    "prob_scipy = predict_prob(w_mle_scipy, X_test)\n",
    "prob_jax = predict_prob(w_mle_jax, X_test)\n",
    "print(np.round(prob_scipy, 3))\n",
    "print(np.round(prob_jax, 3))\n",
    "assert np.allclose(prob_jax, prob_sklearn, atol=1e-1) # This is only true for some random seeds!\n",
    "\n"
   ]
  },
  {
   "cell_type": "code",
   "execution_count": 35,
   "metadata": {},
   "outputs": [
    {
     "data": {
      "text/plain": [
       "(DeviceArray(0.131, dtype=float32), DeviceArray(0.14, dtype=float32))"
      ]
     },
     "execution_count": 35,
     "metadata": {},
     "output_type": "execute_result"
    },
    {
     "data": {
      "image/png": "[encoded data removed]",
      "text/plain": [
       "<Figure size 720x288 with 2 Axes>"
      ]
     },
     "metadata": {
      "needs_background": "light"
     },
     "output_type": "display_data"
    }
   ],
   "source": [
    "plt.figure(figsize=(10,4))\n",
    "ax = plt.subplot(121)\n",
    "ax.plot(loss_history)\n",
    "ax.set_xlabel('epochs')\n",
    "ax.set_ylabel('train NLL')\n",
    "#ax.set_ylim(np.min(loss_history), 0.2*np.max(loss_history))\n",
    "\n",
    "ax = plt.subplot(122)\n",
    "ax.plot(loss_history)\n",
    "ax.set_xlabel('epochs')\n",
    "ax.set_ylabel('train NLL')\n",
    "ax.set_ylim(np.min(loss_history), 0.2*np.max(loss_history))"
   ]
  },
  {
   "cell_type": "code",
   "execution_count": null,
   "metadata": {},
   "outputs": [],
   "source": []
  }
 ],
 "metadata": {
  "kernelspec": {
   "display_name": "Python 3",
   "language": "python",
   "name": "python3"
  },
  "language_info": {
   "codemirror_mode": {
    "name": "ipython",
    "version": 3
   },
   "file_extension": ".py",
   "mimetype": "text/x-python",
   "name": "python",
   "nbconvert_exporter": "python",
   "pygments_lexer": "ipython3",
   "version": "3.7.3"
  }
 },
 "nbformat": 4,
 "nbformat_minor": 2
}
